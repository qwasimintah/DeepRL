{
 "cells": [
  {
   "cell_type": "code",
   "execution_count": 1580,
   "metadata": {},
   "outputs": [],
   "source": [
    "# %matplotlib notebook\n",
    "# %pylab"
   ]
  },
  {
   "cell_type": "code",
   "execution_count": 1581,
   "metadata": {},
   "outputs": [],
   "source": [
    "# import os\n",
    "# os.environ[\"CUDA_DEVICE_ORDER\"] = \"PCI_BUS_ID\"   # see issue #152\n",
    "# os.environ[\"CUDA_VISIBLE_DEVICES\"] = \"0\""
   ]
  },
  {
   "cell_type": "markdown",
   "metadata": {},
   "source": [
    "### Generating the 2D Data"
   ]
  },
  {
   "cell_type": "code",
   "execution_count": 1582,
   "metadata": {},
   "outputs": [],
   "source": [
    "import pickle\n",
    "import numpy as np\n",
    "from scipy.spatial import distance\n",
    "import matplotlib.pyplot as plt\n",
    "import matplotlib.colors as colors\n",
    "import matplotlib.cm as cmx\n",
    "import mpl_toolkits.mplot3d.axes3d as p3\n",
    "from matplotlib.animation import FuncAnimation\n",
    "import pandas as pd\n",
    "import math\n",
    "from mpl_toolkits.mplot3d import Axes3D\n",
    "import itertools"
   ]
  },
  {
   "cell_type": "markdown",
   "metadata": {},
   "source": [
    "### Experiment Function"
   ]
  },
  {
   "cell_type": "code",
   "execution_count": 1583,
   "metadata": {},
   "outputs": [],
   "source": [
    "STEP ='STEP'\n",
    "EPISODE = 'EPISODE'\n",
    "QUADRATIC='QUADRATIC'\n",
    "COSINE ='COSINE'\n",
    "CURRENT='CURRENT'# reward in state\n",
    "DELAYED='DELAYED' # discounted future reward\n",
    "CURRENT_DELAYED ='CURRENT_DELAYED' # current reward + discounted future reward"
   ]
  },
  {
   "cell_type": "code",
   "execution_count": 1584,
   "metadata": {},
   "outputs": [],
   "source": [
    "from experiment import *\n",
    "name = \"LimitedJump_1000_1DQ\"\n",
    "parameters={\n",
    "            \"exp\": name,            #name of experiment\n",
    "            \"mode\": EPISODE,           # two modes of execution, 1 episode(1000steps) or N episodes -[step, episode] \n",
    "            \"data_dimension\": 2,    # dimension of data, 1 to N Dimension\n",
    "            \"function\":QUADRATIC,   # quadratic or cosine\n",
    "            \"queue_length\": 5,      # max length of queue\n",
    "            \"heuristic_queue\":2,    # sequeuce length that is considered by the heuristic\n",
    "            \"discount_factor\": 0.99, # discount factor               \n",
    "            \"max_skip\":1,           # maximum allowed skip \n",
    "            \"e_start\": 1,           # episilon value to start applying heuristic\n",
    "            \"e_stop\":0.1,             # episilon value to stop applying heuristic\n",
    "            \"epi\": 500,             # number of episodes\n",
    "            \"learning_rate\": 0.2,   # learning rate\n",
    "            \"reward\":CURRENT,       # current/delayed/current_delayed\n",
    "            \"lambda\":0.01,\n",
    "            \"min_skip\":3, \n",
    "            \"baseline\":True,        # parameter to switch to baseline model(without heuristic)\n",
    "            \"num_step\":1000\n",
    "        }\n",
    "\n",
    "#create_experiment(parameters)"
   ]
  },
  {
   "cell_type": "code",
   "execution_count": 1585,
   "metadata": {},
   "outputs": [],
   "source": [
    "exp = parameters"
   ]
  },
  {
   "cell_type": "code",
   "execution_count": 1586,
   "metadata": {},
   "outputs": [],
   "source": [
    "def styblinski_tang(x):\n",
    "    \"\"\"\n",
    "    compute styblinski-tang optimization test function\n",
    "\n",
    "    Args:\n",
    "        x(array): array to compute the styblinki_tang value of\n",
    "\n",
    "    Returs:\n",
    "        the evaluated value of styblinki_tang function of x\n",
    "    \"\"\"\n",
    "    result = x**4 - 16 * x**2 + 5 * x\n",
    "    return result / 2\n",
    "\n",
    "\n",
    "\n",
    "def rosenbrock(x):\n",
    "    \"\"\"\n",
    "    Compute Rosenbrock test function for a single point\n",
    "\n",
    "    Args:\n",
    "        x(array): array to compute the rosenbrock value of\n",
    "\n",
    "    Returs:\n",
    "        the evaluated value of rosenbrock function of x\n",
    "    \"\"\"\n",
    "    #print(x)\n",
    "    #result = np.sum(100.0 * (x[1:] - x[:-1]**2.0) ** 2.0 + (1 - x[:-1])**2.0, axis=0)\n",
    "    result = 100*(x[1]-x[0]**2)**2 + (x[0]-1)**2\n",
    "    return result\n",
    "\n",
    "\n",
    "def quadratic(x):\n",
    "    \"\"\"\n",
    "    Compute quadratic test function for a single point\n",
    "\n",
    "    Args:\n",
    "        x(array): array to compute the rosenbrock value of\n",
    "\n",
    "    Returs:\n",
    "        the evaluated value of quadratic function of x\n",
    "    \"\"\"\n",
    "    result = np.sum(0.3*x**2 -5, axis=0)\n",
    "\n",
    "    return result\n",
    "\n",
    "def camelback(x):\n",
    "    #print(x)\n",
    "    return ((4-2.1*x[0]**2 + (x[0]**4)/3)*x[0]**2 + x[0]*x[1] + (-4+4*(x[1]**2))*x[1]**2)\n",
    "\n",
    "def griewank(x):\n",
    "    return (x[0]**2)/4000+(x[1]**2)/4000 - np.cos(x[0])-np.cos(x[1]/2)+1\n",
    "\n",
    "def eason(x):\n",
    "    return -np.cos(x[0])*np.cos(x[1])*np.exp(-(x[0]-np.pi)**2-(x[1]-np.pi)**2)\n",
    "\n",
    "def egg_holder(x):\n",
    "    return -(x[1]+47)*np.sin(np.sqrt(abs(x[1]**2 + x[0]/2 + 47))) - x[0]*np.sin(np.sqrt(abs(x[0]-(x[1]+47))))\n",
    "    \n",
    "def array_map(f, x):\n",
    "    return np.array(list(map(f, x)))\n",
    "\n",
    "def quadratic_2d(x):\n",
    "    A = np.matrix([[1, 0],[0, 2]])\n",
    "    b = np.matrix([[0],[0]])\n",
    "    c = 0\n",
    "    return float(0.5 * x.T * A * x - b.T * x + c)"
   ]
  },
  {
   "cell_type": "code",
   "execution_count": 1587,
   "metadata": {},
   "outputs": [],
   "source": [
    "def bowl(f):\n",
    "    fig = plt.figure(figsize=(10,8))\n",
    "    qf = fig.gca(projection='3d')\n",
    "    data_size =5\n",
    "    x1 = list(np.arange(-data_size,data_size+1, 1))\n",
    "    x2 = list(np.arange(-data_size, data_size+1, 1))\n",
    "    size = len(x1)\n",
    "    x1, x2 = np.meshgrid(x1, x2)\n",
    "    zs = np.zeros((size, size))\n",
    "    collector = []\n",
    "    value = []\n",
    "    for i in range(size):\n",
    "        for j in range(size):\n",
    "            x = np.matrix([[x1[i,j]], [x2[i,j]]])\n",
    "            collector.append([x1[i,j], x2[i,j]])\n",
    "            zs[i,j] = f(x)\n",
    "            value .append(zs[i,j])\n",
    "    qf.plot_surface(x1, x2, zs, rstride=1, cstride=1, linewidth=0)\n",
    "    fig.show()\n",
    "    return x1, x2, zs, collector, value"
   ]
  },
  {
   "cell_type": "code",
   "execution_count": 1588,
   "metadata": {},
   "outputs": [
    {
     "name": "stderr",
     "output_type": "stream",
     "text": [
      "/home_nfs/djanden/ioi/exp/iopa/libiopa/experiment_design/work/lib/python3.6/site-packages/matplotlib/figure.py:459: UserWarning: matplotlib is currently using a non-GUI backend, so cannot show the figure\n",
      "  \"matplotlib is currently using a non-GUI backend, \"\n"
     ]
    },
    {
     "data": {
      "image/png": "[encoded data removed]",
      "text/plain": [
       "<Figure size 720x576 with 1 Axes>"
      ]
     },
     "metadata": {},
     "output_type": "display_data"
    }
   ],
   "source": [
    "x1, x2, data, collector, value = bowl(quadratic_2d)"
   ]
  },
  {
   "cell_type": "code",
   "execution_count": 1589,
   "metadata": {},
   "outputs": [
    {
     "name": "stderr",
     "output_type": "stream",
     "text": [
      "/home_nfs/djanden/ioi/exp/iopa/libiopa/experiment_design/work/lib/python3.6/site-packages/matplotlib/figure.py:459: UserWarning: matplotlib is currently using a non-GUI backend, so cannot show the figure\n",
      "  \"matplotlib is currently using a non-GUI backend, \"\n"
     ]
    },
    {
     "data": {
      "image/png": "[encoded data removed]",
      "text/plain": [
       "<Figure size 432x432 with 2 Axes>"
      ]
     },
     "metadata": {},
     "output_type": "display_data"
    }
   ],
   "source": [
    "from matplotlib import cm\n",
    "\n",
    "def contoursteps(x1, x2, zs, steps=None):\n",
    "    fig = plt.figure(figsize=(6,6))\n",
    "    levels = np.arange(-2.0, 1.601, 0.4)\n",
    "    norm = cm.colors.Normalize(vmax=abs(zs).max(), vmin=-abs(zs).max())\n",
    "    cmap = cm.PRGn\n",
    "    cmap=cm.get_cmap(cmap, len(levels) - 1)\n",
    "    cp = plt.contourf(x1, x2, zs, norm = norm, cmap=cmap.reversed())\n",
    "    plt.plot(0, 0, 'X', color='green')\n",
    "    fig.colorbar(cp)\n",
    "    #plt.clabel(cp, inline=1, fontsize=10)\n",
    "    if steps is not None:\n",
    "        step =steps\n",
    "        steps = np.matrix(steps)\n",
    "        plt.plot(steps[:,0], steps[:,1], '-o', color='red')\n",
    "#     for i, txt in enumerate(len(step)):\n",
    "#         fig.annotate(value, (z[i], y[i]))\n",
    "    fig.show()\n",
    "    \n",
    "steps = None#[(-40,-40),(-35,-25), (-30,-20),(-10,-5),(0,3)]\n",
    "contoursteps(x1, x2, data, steps)"
   ]
  },
  {
   "cell_type": "code",
   "execution_count": 1590,
   "metadata": {},
   "outputs": [],
   "source": [
    "data_df = pd.DataFrame({\"collector\":collector,\"duration\":value})\n"
   ]
  },
  {
   "cell_type": "code",
   "execution_count": 1591,
   "metadata": {},
   "outputs": [
    {
     "data": {
      "text/html": [
       "<div>\n",
       "<style scoped>\n",
       "    .dataframe tbody tr th:only-of-type {\n",
       "        vertical-align: middle;\n",
       "    }\n",
       "\n",
       "    .dataframe tbody tr th {\n",
       "        vertical-align: top;\n",
       "    }\n",
       "\n",
       "    .dataframe thead th {\n",
       "        text-align: right;\n",
       "    }\n",
       "</style>\n",
       "<table border=\"1\" class=\"dataframe\">\n",
       "  <thead>\n",
       "    <tr style=\"text-align: right;\">\n",
       "      <th></th>\n",
       "      <th>collector</th>\n",
       "      <th>duration</th>\n",
       "    </tr>\n",
       "  </thead>\n",
       "  <tbody>\n",
       "    <tr>\n",
       "      <th>116</th>\n",
       "      <td>[1, 5]</td>\n",
       "      <td>25.5</td>\n",
       "    </tr>\n",
       "    <tr>\n",
       "      <th>117</th>\n",
       "      <td>[2, 5]</td>\n",
       "      <td>27.0</td>\n",
       "    </tr>\n",
       "    <tr>\n",
       "      <th>118</th>\n",
       "      <td>[3, 5]</td>\n",
       "      <td>29.5</td>\n",
       "    </tr>\n",
       "    <tr>\n",
       "      <th>119</th>\n",
       "      <td>[4, 5]</td>\n",
       "      <td>33.0</td>\n",
       "    </tr>\n",
       "    <tr>\n",
       "      <th>120</th>\n",
       "      <td>[5, 5]</td>\n",
       "      <td>37.5</td>\n",
       "    </tr>\n",
       "  </tbody>\n",
       "</table>\n",
       "</div>"
      ],
      "text/plain": [
       "    collector  duration\n",
       "116    [1, 5]      25.5\n",
       "117    [2, 5]      27.0\n",
       "118    [3, 5]      29.5\n",
       "119    [4, 5]      33.0\n",
       "120    [5, 5]      37.5"
      ]
     },
     "execution_count": 1591,
     "metadata": {},
     "output_type": "execute_result"
    }
   ],
   "source": [
    "data_df.tail()"
   ]
  },
  {
   "cell_type": "markdown",
   "metadata": {},
   "source": [
    "### Utilities"
   ]
  },
  {
   "cell_type": "code",
   "execution_count": 1592,
   "metadata": {},
   "outputs": [],
   "source": [
    "def action_space(dim, max_skip=7):\n",
    "\n",
    "    length = 2 * max_skip * dim +1\n",
    "    res = np.zeros((length, dim))\n",
    "    j=1\n",
    "    for i in range(0, dim):\n",
    "        for skip in range(1, max_skip+1):\n",
    "            res[j][i]= -skip\n",
    "            j+=1\n",
    "            res[j][i]=skip\n",
    "            j+=1\n",
    "    if dim==1:\n",
    "        res1 = [ x[0] for x in res ]\n",
    "        res = res1[:]\n",
    "        return res\n",
    "        \n",
    "    return res.astype(int).tolist()"
   ]
  },
  {
   "cell_type": "code",
   "execution_count": 1593,
   "metadata": {},
   "outputs": [
    {
     "data": {
      "text/plain": [
       "[[0, 0], [-1, 0], [1, 0], [0, -1], [0, 1]]"
      ]
     },
     "execution_count": 1593,
     "metadata": {},
     "output_type": "execute_result"
    }
   ],
   "source": [
    "action_space(exp['data_dimension'], exp['max_skip'])"
   ]
  },
  {
   "cell_type": "markdown",
   "metadata": {},
   "source": [
    "# Reinforcement learning notebook"
   ]
  },
  {
   "cell_type": "code",
   "execution_count": 1594,
   "metadata": {},
   "outputs": [],
   "source": [
    "# from libiopa.jobmodel import databuilder\n",
    "# from libiopa.tools import dbconnector\n",
    "# import pandas as pd\n",
    "\n",
    "# collections = dbconnector.connect('lima16',27017,'cmdb_database','JobItem','FileIOSummary')\n",
    "# dict_db = dbconnector.load_collections(collections)"
   ]
  },
  {
   "cell_type": "code",
   "execution_count": 1595,
   "metadata": {},
   "outputs": [],
   "source": [
    "# from sklearn.gaussian_process import GaussianProcessRegressor\n",
    "# from sklearn.gaussian_process.kernels import RBF, WhiteKernel\n",
    "# from sklearn.model_selection import train_test_split\n",
    "# from sklearn.preprocessing import normalize\n",
    "# from sklearn.preprocessing import MinMaxScaler"
   ]
  },
  {
   "cell_type": "code",
   "execution_count": 1596,
   "metadata": {},
   "outputs": [],
   "source": [
    "class Job:\n",
    "    def __init__(self, data):\n",
    "        self.runs = data\n",
    "        self.preparationRuns()\n",
    "        \n",
    "    def preparationRuns(self):\n",
    "        \n",
    "        min_dur = min(self.runs['duration'])\n",
    "        max_dur = max(self.runs['duration'])\n",
    "        self.runs['durationNorm'] = (self.runs['duration']-min_dur)/(max_dur-min_dur)\n",
    "\n",
    "\n",
    "    def getStateAndRewardById(self, run_id):\n",
    "\n",
    "        state = self.runs.T[run_id]\n",
    "        \n",
    "        \n",
    "        return (state['collector'], 1/(state['durationNorm']+0.02))\n",
    "\n",
    "job1 = Job(data_df)"
   ]
  },
  {
   "cell_type": "markdown",
   "metadata": {},
   "source": [
    "### Exponential Function"
   ]
  },
  {
   "cell_type": "code",
   "execution_count": 1597,
   "metadata": {},
   "outputs": [],
   "source": [
    "import math\n",
    "class LinearDecaySchedule(object):\n",
    "    def __init__(self, initial_value, final_value, max_steps):\n",
    "        assert initial_value > final_value, \"initial_value should be > final_value\"\n",
    "        self.initial_value = initial_value\n",
    "        self.final_value = final_value\n",
    "        self.decay_factor = (initial_value - final_value) / max_steps\n",
    "\n",
    "    def __call__(self, step_num):\n",
    "        current_value = self.final_value + math.exp(-exp['lambda'] * step_num)\n",
    "        if current_value < self.final_value:\n",
    "            current_value = self.final_value\n",
    "        return current_value"
   ]
  },
  {
   "cell_type": "code",
   "execution_count": 1598,
   "metadata": {},
   "outputs": [
    {
     "name": "stdout",
     "output_type": "stream",
     "text": [
      "500\n"
     ]
    },
    {
     "data": {
      "image/png": "[encoded data removed]",
      "text/plain": [
       "<Figure size 432x288 with 1 Axes>"
      ]
     },
     "metadata": {},
     "output_type": "display_data"
    }
   ],
   "source": [
    "epsilon_initial = 1.0\n",
    "epsilon_final = 0.\n",
    "MAX_NUM_EPISODES = exp['epi']\n",
    "print(MAX_NUM_EPISODES)\n",
    "MAX_STEPS_PER_EPISODE = 50\n",
    "linear_sched = LinearDecaySchedule(initial_value = epsilon_initial,\n",
    "                                final_value = epsilon_final,\n",
    "                                max_steps = MAX_NUM_EPISODES )\n",
    "epsilon = [linear_sched(step) for step in range(MAX_NUM_EPISODES )]\n",
    "plt.plot(epsilon)\n",
    "plt.show()"
   ]
  },
  {
   "cell_type": "code",
   "execution_count": 1599,
   "metadata": {},
   "outputs": [
    {
     "data": {
      "text/plain": [
       "0.0024787521766663585"
      ]
     },
     "execution_count": 1599,
     "metadata": {},
     "output_type": "execute_result"
    }
   ],
   "source": [
    "linear_sched(600)"
   ]
  },
  {
   "cell_type": "code",
   "execution_count": 1600,
   "metadata": {},
   "outputs": [
    {
     "data": {
      "text/plain": [
       "0.049787068367863944"
      ]
     },
     "execution_count": 1600,
     "metadata": {},
     "output_type": "execute_result"
    }
   ],
   "source": [
    "linear_sched(300)"
   ]
  },
  {
   "cell_type": "markdown",
   "metadata": {},
   "source": [
    "### Heuristic Function"
   ]
  },
  {
   "cell_type": "code",
   "execution_count": 1601,
   "metadata": {},
   "outputs": [
    {
     "data": {
      "text/plain": [
       "2"
      ]
     },
     "execution_count": 1601,
     "metadata": {},
     "output_type": "execute_result"
    }
   ],
   "source": [
    "def get_direction(start, end):\n",
    "    #convert to numpy arrays\n",
    "    start = np.array(start)\n",
    "    end=np.array(end)\n",
    "    \n",
    "    # find the vector\n",
    "    v = start - end\n",
    "    \n",
    "    if v[0]!=0:\n",
    "        if v[0]> 0:\n",
    "            return 2\n",
    "        else:\n",
    "            return 1\n",
    "    elif v[1]!=0:\n",
    "        if v[1]>0:\n",
    "            return 3\n",
    "        else:\n",
    "            return 4\n",
    "    else:\n",
    "        return 0\n",
    "    \n",
    "    \n",
    "get_direction([2,3],[1,3])"
   ]
  },
  {
   "cell_type": "code",
   "execution_count": 1602,
   "metadata": {},
   "outputs": [],
   "source": [
    "def heuristic_weight1(queue_list, n, clip=1000):\n",
    "    if len(queue_list)==5:\n",
    "        last_3 = queue_list[-n:]\n",
    "        deltas =[]\n",
    "        value_deltas=[]\n",
    "        min_skip = exp['min_skip']\n",
    "        # check whether succesive actions are given an increased reward\n",
    "        for i in range(n-1):\n",
    "            delta = last_3[i][1]< last_3[i+1][1]\n",
    "            value_delta = last_3[i+1][1] - last_3[i][1]\n",
    "            deltas.append(delta)\n",
    "            value_deltas.append(value_delta)\n",
    "        if all(deltas):\n",
    "            # get all 3 successive actions\n",
    "            all_states = []\n",
    "            for a in range(len(queue_list)):\n",
    "                all_states.append(queue_list[a][0])\n",
    "            all_states= all_states[-n:]\n",
    "            last_value_delta = value_deltas[-1]\n",
    "            action_skip = np.round((1+last_value_delta)*min_skip)\n",
    "            \n",
    "            if action_skip>clip:\n",
    "                action_skip=clip\n",
    "            #print(all_states,get_direction(all_states[0],all_states[1]), action_skip)\n",
    "            \n",
    "            return get_direction(all_states[1], all_states[0]), action_skip\n",
    "        else:\n",
    "            return -1, -1\n",
    "    else:\n",
    "        return -1,-1"
   ]
  },
  {
   "cell_type": "code",
   "execution_count": 1603,
   "metadata": {},
   "outputs": [
    {
     "data": {
      "text/plain": [
       "[[0.0, 0.0], [0.0, 1.0], [0.0, 2.0], [0.0, 3.0], [0.0, 4.0]]"
      ]
     },
     "execution_count": 1603,
     "metadata": {},
     "output_type": "execute_result"
    }
   ],
   "source": [
    "def get_inter_states(start, end):\n",
    "    '''This function assumes that the state change in one dimension \n",
    "    only'''\n",
    "    assert len(start)== len(end)\n",
    "    \n",
    "    if np.array_equal(start, end):\n",
    "        return [start, end]\n",
    "    dim = len(start)\n",
    "    start_a = np.array(start)\n",
    "    end_a = np.array(end)\n",
    "    vector = end_a - start_a\n",
    "    dim_change = [i for i, elem in enumerate(vector) if elem!=0][0]\n",
    "\n",
    "    result =[]\n",
    "    result.append(start_a)\n",
    "    last = result[-1]\n",
    "    sign = -1 if end[dim_change] < start[dim_change] else 1\n",
    "    \n",
    "    st = list(range(start[dim_change], end[dim_change]+sign, sign))\n",
    "    final_states=[]\n",
    "    for x in st:\n",
    "        b=np.zeros(shape=(1, dim))\n",
    "        for i in range(0, dim):\n",
    "            if i!= dim_change:\n",
    "                b[0][i] = start[i]\n",
    "        b[0][dim_change] = x    \n",
    "        final_states.append(list(b[0]))\n",
    "    return final_states\n",
    "\n",
    "    \n",
    "        \n",
    "        \n",
    "        \n",
    "get_inter_states([0,0], [0,4])"
   ]
  },
  {
   "cell_type": "markdown",
   "metadata": {},
   "source": [
    "### Environment"
   ]
  },
  {
   "cell_type": "code",
   "execution_count": 1604,
   "metadata": {},
   "outputs": [],
   "source": [
    "# TOOLS\n",
    "\n",
    "def isin2D(a, b):\n",
    "    \"\"\"\n",
    "        Check the existance of elements of a in b\n",
    "        return an array : a boolean for each element of a\n",
    "    \"\"\"\n",
    "    boolArray = []\n",
    "    for i in a:\n",
    "        present = False\n",
    "        j = 0\n",
    "        while present == False and j < len(b):\n",
    "\n",
    "            if np.array_equal(i, b[j]):\n",
    "                present = True\n",
    "            j += 1\n",
    "        boolArray.append(present)\n",
    "    return boolArray"
   ]
  },
  {
   "cell_type": "code",
   "execution_count": 1605,
   "metadata": {},
   "outputs": [],
   "source": [
    "from collections import deque\n",
    "from collections import defaultdict\n",
    "\n",
    "class Environment:\n",
    "    def __init__(self, Job):\n",
    "        self.job = Job\n",
    "\n",
    "        self.state = None\n",
    "        self.reward = None\n",
    "        self.done = False\n",
    "        self.actions = action_space(exp['data_dimension'], exp['max_skip'])\n",
    "        #print(self.actions)\n",
    "        self.def_actions()\n",
    "        self.d = deque([], maxlen=exp['queue_length'])\n",
    "        self.reset_env()\n",
    "        self.valid_actions =defaultdict(list)\n",
    "        self.actions_possible()\n",
    "        \n",
    "\n",
    "    def def_actions(self):\n",
    "        \"\"\"\n",
    "            Define all combinations possibles with 3 numbers in {-2,0,2}\n",
    "            Creates the list in self.actions\n",
    "        \"\"\"\n",
    "#         self.actions=[\n",
    "#             [0,0],\n",
    "#             [-1,0],\n",
    "#             [1,0],\n",
    "#             [0,1],\n",
    "#             [0,-1]\n",
    "#         ]\n",
    "        \n",
    "        return self.actions\n",
    "\n",
    "    def check_if_action_possible(self, a):\n",
    "        \"\"\"\n",
    "            For each action, check if it is possible to apply to the current state :\n",
    "            apply the action on the currect state and check if the new state is defined\n",
    "            in the run dataFrame !!!!!! WILL BE CHANGED !!!\n",
    "        \"\"\"\n",
    "#         return np.arange(len(self.actions))\n",
    "        result_actions = [np.add(self.state, a) ]\n",
    "        possible = isin2D(result_actions, np.array(self.job.runs['collector']))\n",
    "        #print(possible)\n",
    "        return possible[0]\n",
    "    \n",
    "    def actions_possible(self):\n",
    "        # get all states\n",
    "        states = self.list_states()\n",
    "        for state in states:\n",
    "            # set state as the current state\n",
    "            self.set_state(state)\n",
    "            # save all actions possible\n",
    "            self.valid_actions[str(state)] = self.check_actions_possible1()\n",
    "\n",
    "        \n",
    "    def get_reward(self, state):\n",
    "        reward = -1000\n",
    "        for r in self.job.runs.T:\n",
    "            if np.array_equal(self.job.runs['collector'][r], state):\n",
    "                state, reward = self.job.getStateAndRewardById(r)\n",
    "        return reward\n",
    "    \n",
    "    def check_actions_possible1(self):\n",
    "        \"\"\"\n",
    "            For each action, check if it is possible to apply to the current state :\n",
    "            apply the action on the currect state and check if the new state is defined\n",
    "            in the run dataFrame !!!!!! WILL BE CHANGED !!!\n",
    "        \"\"\"\n",
    "        result_actions = [np.add(self.state, a) for a in self.actions]\n",
    "        possible = isin2D(result_actions, np.array(\n",
    "            self.job.runs['collector']))\n",
    "\n",
    "        return np.where(np.array(possible) == True)[0]\n",
    "    \n",
    "    def check_actions_possible(self):\n",
    "        return self.valid_actions[str(self.state)]\n",
    "\n",
    "    def do_action(self, action_id, esp=1, verbose = False, train=True):\n",
    "        \"\"\"\n",
    "            Apply the action defined by action_id.\n",
    "            Changes the current_state\n",
    "            Returns (new_state,reward of the action, Done boolean, debug info)\n",
    "        \"\"\"\n",
    "        if not action_id in self.check_actions_possible():\n",
    "            #print('Something terribly wrong , State {} , Action_id {} '.format(self.state, action_id))\n",
    "            return (None, -1, self.decide_done(action_id), {}, action_id)\n",
    "            #return (None, -1000, True, {}, action_id)\n",
    "\n",
    "        params_actual = self.state\n",
    "        action = self.actions[action_id]\n",
    "        new_action = action\n",
    "        action_weight = 1\n",
    "        if esp <=exp['e_start'] and train==True and exp['baseline']==False:\n",
    "            queue_list = list(self.d)\n",
    "            new_action_id, action_weight=heuristic_weight1(queue_list, exp['heuristic_queue'], exp['max_skip'])\n",
    "            \n",
    "            if new_action_id != -1:\n",
    "                new_action = self.actions[new_action_id]\n",
    "                status= self.check_if_action_possible(np.array(new_action)*action_weight)\n",
    "                if status == False:\n",
    "                    action_weight = 1\n",
    "                    new_action = action\n",
    "                else:\n",
    "                    action_id=new_action_id\n",
    "                \n",
    "         \n",
    "            else:\n",
    "                new_action = action\n",
    "                action_weight=1\n",
    "                \n",
    "        if esp<=exp['e_stop'] and exp['baseline']==False:# stop applying the heuristic\n",
    "            new_action = action\n",
    "            action_weight=1\n",
    "\n",
    "        new_params = np.add(params_actual, (np.array(new_action)*action_weight))\n",
    "        for r in self.job.runs.T:\n",
    "            if np.array_equal(self.job.runs['collector'][r], new_params):\n",
    "                self.state, self.reward = self.job.getStateAndRewardById(r)\n",
    "                if verbose:\n",
    "                    print(\"New state : {0} {1} duration {2}\".format(r,self.state,self.job.runs['duration'][r]))\n",
    "                return (self.state, self.reward, self.decide_done(action_id), {}, action_id)\n",
    "\n",
    "        raise Exception('Pas normal pour le moment !!!')\n",
    "        return None\n",
    "    \n",
    "    def reset_env(self):\n",
    "        \"\"\" Initialize the environment to a random job \"\"\"\n",
    "        run_id = np.random.choice(self.job.runs.T.keys())\n",
    "        self.state, self.reward = self.job.getStateAndRewardById(run_id)\n",
    "        \n",
    "        self.previous_action = None\n",
    "        self.nb_actions = 0\n",
    "        \n",
    "        return self.state\n",
    "    \n",
    "    def set_state(self,state):\n",
    "        self.reset_env()\n",
    "        self.state = state\n",
    "        return state\n",
    "    \n",
    "    def decide_done(self,a):\n",
    "        \"\"\"\n",
    "            Decide when the environment is done:\n",
    "            - no convergence : more than 50 actions since reset\n",
    "            - stay on the same state more than twice            \n",
    "        \"\"\"\n",
    "        \n",
    "        self.nb_actions+=1\n",
    "        action = self.actions[a]\n",
    "        if exp['mode']==EPISODE:\n",
    "            done = self.nb_actions > 50\n",
    "        else:\n",
    "            done = self.nb_actions > int(exp['num_step'])\n",
    "        return done\n",
    "    \n",
    "    def list_states(self):\n",
    "        params = np.array(self.job.runs['collector'])\n",
    "        return params\n",
    "        \n",
    "\n",
    "env = Environment(job1)"
   ]
  },
  {
   "cell_type": "code",
   "execution_count": 1606,
   "metadata": {},
   "outputs": [
    {
     "name": "stdout",
     "output_type": "stream",
     "text": [
      "[5, -1]\n"
     ]
    },
    {
     "data": {
      "text/plain": [
       "array([0, 1, 3, 4])"
      ]
     },
     "execution_count": 1606,
     "metadata": {},
     "output_type": "execute_result"
    }
   ],
   "source": [
    "print(env.reset_env())\n",
    "\n",
    "env.check_actions_possible()"
   ]
  },
  {
   "cell_type": "code",
   "execution_count": 1607,
   "metadata": {},
   "outputs": [
    {
     "data": {
      "text/plain": [
       "[[0, 0], [-1, 0], [1, 0], [0, -1], [0, 1]]"
      ]
     },
     "execution_count": 1607,
     "metadata": {},
     "output_type": "execute_result"
    }
   ],
   "source": [
    "env.actions"
   ]
  },
  {
   "cell_type": "code",
   "execution_count": 1608,
   "metadata": {},
   "outputs": [],
   "source": [
    "import keras\n",
    "from keras.models import Model\n",
    "from keras.preprocessing import sequence\n",
    "from keras.models import Sequential\n",
    "from keras.layers import Dense, Masking, CuDNNLSTM, Dropout, Activation, Input, Concatenate"
   ]
  },
  {
   "cell_type": "code",
   "execution_count": 1609,
   "metadata": {},
   "outputs": [],
   "source": [
    "from keras import backend as K\n",
    "import tensorflow as tf\n",
    "from keras.optimizers import Adam\n",
    "# # allocate only a part of the GPU\n",
    "# config = tf.ConfigProto()\n",
    "# config.gpu_options.per_process_gpu_memory_fraction = 0.05\n",
    "# config.log_device_placement = True\n",
    "# config.allow_soft_placement = True\n",
    "# sess = tf.Session(config=config)\n",
    "# K.set_session(sess)"
   ]
  },
  {
   "cell_type": "markdown",
   "metadata": {},
   "source": [
    "# Deep Q learning"
   ]
  },
  {
   "cell_type": "code",
   "execution_count": 1610,
   "metadata": {},
   "outputs": [],
   "source": [
    "\n",
    "class Brain:\n",
    "    \"\"\"\n",
    "        Brain used by the deep Q learning.\n",
    "        Defines:\n",
    "            - the keras model\n",
    "            - methods to train it\n",
    "            - methods to predict\n",
    "    \"\"\"\n",
    "\n",
    "    def __init__(self, nb_params, nb_actions):\n",
    "        \"\"\"\n",
    "            Initializes the model\n",
    "\n",
    "            Args:\n",
    "                nb_params : number of parameters\n",
    "                nb_actions : number of actions per state\n",
    "        \"\"\"\n",
    "        self.nb_params = nb_params\n",
    "        self.nb_actions = nb_actions\n",
    "        self.model = self.def_model()\n",
    "\n",
    "    def def_model(self):\n",
    "        \"\"\"\n",
    "            Creates of the keras model and compile it\n",
    "\n",
    "            Returns:\n",
    "                Keras model\n",
    "        \"\"\"\n",
    "        params = Input(shape=(2,))\n",
    "\n",
    "        params_part = Dense(32)(params)\n",
    "        params_part = Dense(32)(params_part)\n",
    "        #params_part = Dense(32)(params_part)\n",
    "        #params_part = Dense(10)(params_part)\n",
    "\n",
    "        out = Dense(self.nb_actions)(params_part)\n",
    "\n",
    "        model = Model(inputs=[params], outputs=[out])\n",
    "        #model.compile(optimizer='RMSprop', loss='mse', metrics=['mae'])\n",
    "        model.compile(optimizer=Adam(lr=exp['learning_rate']), loss='mse', metrics=['mae'])\n",
    "        return model\n",
    "\n",
    "    def fit_batch(self, states, vectors, batch_size, epochs=1, verbose=0):\n",
    "        \"\"\"\n",
    "            Fit the model with the given states and Q vectors\n",
    "\n",
    "            Args:\n",
    "                states : list of states\n",
    "                vectors : 1 vector per state\n",
    "                batch_size : batch_size used during training\n",
    "                epochs : Number of training epochs [default=1]\n",
    "                verbose : verbose level of the Keras training [default=0]\n",
    "\n",
    "            Returns:\n",
    "                history of the training (defined in Keras)\n",
    "        \"\"\"\n",
    "        # to be sure that the input is an array of array\n",
    "        params = np.array([np.array(x) for x in states])\n",
    "        vectors = np.array(vectors)\n",
    "        return self.model.fit(params, vectors, epochs=epochs, batch_size=batch_size,\n",
    "                              verbose=verbose)\n",
    "\n",
    "    def predict(self, states, batch_size=1):\n",
    "        \"\"\"\n",
    "            Predict the vector for a given list of states\n",
    "\n",
    "            Args:\n",
    "                states : list of states\n",
    "                batch_size : batch size used by the model to predict [default=1]\n",
    "\n",
    "            Returns:\n",
    "                Array of predicted Q vectors (1 per state)\n",
    "        \"\"\"\n",
    "        #print(states)\n",
    "        # to be sure that the input is an array of array\n",
    "        params = np.array([np.array(x) for x in states])\n",
    "        #print(params.shape)\n",
    "        return self.model.predict(params, batch_size)\n",
    "\n",
    "    def predict_batch(self, states):\n",
    "        \"\"\"\n",
    "            Predict the Q vector for a given list of states\n",
    "\n",
    "            Args:\n",
    "                states : array of states\n",
    "\n",
    "            Returns:\n",
    "                matrix of shape (nb states, nb actions) containing the q values predicted by the\n",
    "                    neural network\n",
    "        \"\"\"\n",
    "        return self.model.predict(states, batch_size=len(states))\n"
   ]
  },
  {
   "cell_type": "code",
   "execution_count": 1611,
   "metadata": {},
   "outputs": [],
   "source": [
    "import time"
   ]
  },
  {
   "cell_type": "code",
   "execution_count": 1612,
   "metadata": {},
   "outputs": [],
   "source": [
    "class Memory:\n",
    "    \"\"\"\n",
    "        Memory class used by the deep agent during learning.\n",
    "        The memory is a queue of fixed length to save a the transitions done by the agent :\n",
    "        (cuurent_state, action taken, obtained reward, next state, environment done)\n",
    "        It allows to :\n",
    "            - add a new transition\n",
    "            - get a set of random transitions\n",
    "            - store the actions taken in each state\n",
    "            - store the optimum state\n",
    "    \"\"\"\n",
    "\n",
    "    def __init__(self, capacity, nb_actions):\n",
    "        \"\"\"\n",
    "            Initializes the empty memory\n",
    "\n",
    "            Args :\n",
    "                capacity: Max number of transitions stored\n",
    "                nb_actions: number of possible actions in each state\n",
    "        \"\"\"\n",
    "        self.capacity = capacity\n",
    "        self.nb_actions = nb_actions\n",
    "        self.memory = list()\n",
    "\n",
    "        self.memory_actions = dict()  # dict of arrays indexed by the actions\n",
    "        self.memory_best = list()  # contains the list action 0 of the best states\n",
    "\n",
    "    def append(self, state, action, reward, next_state, done):\n",
    "        \"\"\"\n",
    "            Adds a new transition into the memory\n",
    "\n",
    "            Args:\n",
    "                state (array)\n",
    "                action (integer 0<=action<nb_actions)\n",
    "                reward (float)\n",
    "                next_state (array)\n",
    "                done (boolean)\n",
    "        \"\"\"\n",
    "        # remove the first element of the memory if full\n",
    "        if len(self.memory) > self.capacity:\n",
    "            self.pop()\n",
    "\n",
    "        self.memory.append((state, action, reward, next_state, done))\n",
    "\n",
    "        # append in memory_actions dict\n",
    "        state = np.array(state)\n",
    "        # to index the dict (tobytes from the numpy lib)\n",
    "        key_dict = state.tobytes() # an array is unhashable, a better solution need to be found\n",
    "        if key_dict not in self.memory_actions.keys():\n",
    "            # for each state : array counting the number of times an action was taken\n",
    "            self.memory_actions[key_dict] = np.zeros(self.nb_actions)\n",
    "        self.memory_actions[key_dict][action] += 1\n",
    "\n",
    "        # new best list: if best empty or if better than known best\n",
    "        nb_mem_best = len(self.memory_best)\n",
    "        if nb_mem_best == 0 or self.memory_best[0][2] < reward:\n",
    "            self.memory_best = list()\n",
    "            # artifically creates a new transition to stay on the optimum\n",
    "            self.memory_best.append((next_state, 0, reward, next_state, False))\n",
    "        # if equal to best reward : append to the list\n",
    "        elif nb_mem_best > 0 and self.memory_best[0][2] == reward:\n",
    "            self.memory_best.append((next_state, 0, reward, next_state, False))\n",
    "\n",
    "    def pop(self):\n",
    "        \"\"\"\n",
    "            Removes the first transition in the memory\n",
    "        \"\"\"\n",
    "        old_elem = self.memory[0]\n",
    "        state_key = old_elem[0].tobytes()\n",
    "        action = old_elem[1]\n",
    "        self.memory.pop(0)\n",
    "        # remove the action from the dict of actions taken\n",
    "        self.memory_actions[state_key][action] -= 1\n",
    "\n",
    "    def sample(self, n_total, n_best):\n",
    "        \"\"\"\n",
    "            Samples randomly elements from the memory (both the transition and the best memory)\n",
    "\n",
    "            Args :\n",
    "                n_total : number of sample returned\n",
    "                n_best : Among the sample returned, number of sample taken from the best memory\n",
    "\n",
    "            Returns:\n",
    "                array of transitions\n",
    "        \"\"\"\n",
    "        # select n_total-n_best elements from memory\n",
    "        idxs = np.random.choice(np.arange(len(self.memory)), size=n_total - n_best)\n",
    "        mem_samples = np.array(self.memory)[idxs]\n",
    "\n",
    "        # select n_best elements from best list\n",
    "        idx_best = np.random.choice(np.arange(len(self.memory_best)), size=n_best)\n",
    "        mem_best = np.array(self.memory_best)[idx_best]\n",
    "\n",
    "        # merge the two list\n",
    "        full = np.append(mem_samples, mem_best, axis=0)\n",
    "        return full\n",
    "\n",
    "    def list_actions_for_state(self, state):\n",
    "        \"\"\"\n",
    "            Returns, for a given state, the list of action that were already taken.\n",
    "\n",
    "            Args :\n",
    "                state : state in question\n",
    "\n",
    "            Returns :\n",
    "                Array of actions index\n",
    "        \"\"\"\n",
    "        state_key = np.array(state).tobytes()\n",
    "        actions = []\n",
    "        if state_key in self.memory_actions.keys():\n",
    "            actions = np.where(self.memory_actions[state_key] > 0)[0]\n",
    "\n",
    "        return np.array(actions)\n",
    "\n",
    "       "
   ]
  },
  {
   "cell_type": "code",
   "execution_count": 1613,
   "metadata": {},
   "outputs": [],
   "source": [
    "import time\n",
    "from time import strftime"
   ]
  },
  {
   "cell_type": "code",
   "execution_count": 1614,
   "metadata": {},
   "outputs": [],
   "source": [
    "\n",
    "class DoubleQAgent:\n",
    "    \"\"\"\n",
    "        DoubleQAgent : Implementation of the double Q learning algorithm to learn the optimal\n",
    "        parameters. Uses the Memory, Brain, Environment defined in this folder\n",
    "\n",
    "        Defines :\n",
    "            - method to train the networks\n",
    "            - method to take decision given a state\n",
    "    \"\"\"\n",
    "\n",
    "    def __init__(self, env):\n",
    "        \"\"\"\n",
    "            Initializes the agent\n",
    "\n",
    "            Args:\n",
    "                env : environment object (defined in Environment.py)\n",
    "        \"\"\"\n",
    "        self.env = env\n",
    "        self.number_actions = len(env.def_actions())\n",
    "        self.loss = []\n",
    "        self.memory = Memory(10000, self.number_actions)\n",
    "\n",
    "        self.model1 = Brain(2, self.number_actions)\n",
    "        self.model2 = Brain(2, self.number_actions)  # target net\n",
    "\n",
    "        # hyperparameters\n",
    "        self.default_hyperparms = {\n",
    "            'sample_batch_size': 32,\n",
    "            'disc_factor': 0.9,\n",
    "            'max_epsilon': 1,\n",
    "            'min_epsilon': 0.01,\n",
    "            'decay_speed': 0.01,\n",
    "            'update_target_frequency': 100\n",
    "        }\n",
    "\n",
    "\n",
    "    def decision(self, state, exploration_rate, possible_actions =[]):\n",
    "        \"\"\"\n",
    "            Epsilon greedy decision\n",
    "\n",
    "            Ärgs :\n",
    "                state : state used to decide the action\n",
    "                exploration_rate : probability of taking a random decision\n",
    "\n",
    "            Returns :\n",
    "                action (integer)\n",
    "        \"\"\"\n",
    "        if np.random.random() < exploration_rate:\n",
    "            # random decision\n",
    "            #\n",
    "            if len(possible_actions)==0:\n",
    "                possible_actions = np.arange(self.number_actions)\n",
    "            #possible_actions = env.check_actions_possible()\n",
    "            #print('possible',possible_actions)\n",
    "\n",
    "            # actions already taken in this state\n",
    "            action_done = self.memory.list_actions_for_state(state)\n",
    "            #print('state', state, 'actions', action_done)\n",
    "            set_actions = np.setdiff1d(possible_actions, action_done)  # action never made in state\n",
    "            if set_actions.size == 0:\n",
    "                set_actions = possible_actions\n",
    "            #print('state', state, 'actions', action_done, \"set\", set_actions)\n",
    "            return np.random.choice(set_actions)\n",
    "        else:\n",
    "            # choose the max rewarded action\n",
    "            values = self.model1.predict(np.array([state]))[0]\n",
    "            return np.argmax(values)\n",
    "\n",
    "    def remember(self, state, action, reward, next_state, done):\n",
    "        \"\"\"\n",
    "            Add a transition into the memory\n",
    "\n",
    "            Args :\n",
    "                state: current_state [metrics, params]\n",
    "                action : action taken (int)\n",
    "                reward : reward received after action (float)\n",
    "                next_state : None if no next state or a state\n",
    "                done : boolean\n",
    "        \"\"\"\n",
    "        # for now, stores only the parameters\n",
    "        if next_state is not None:\n",
    "            next_state = next_state\n",
    "        self.memory.append(\n",
    "            np.array(state), action, reward, next_state, done)\n",
    "\n",
    "    def replay(self, batch_size, disc_factor):\n",
    "        \"\"\"\n",
    "            Gets a set of samples from the memory.\n",
    "            From this set, computes the batch to train the max network on :\n",
    "            - list of states\n",
    "            - for each state : a vector a Q values\n",
    "\n",
    "            Args:\n",
    "                batch_size : batch size to use for training\n",
    "                disc_factor : discount factor of the update formula\n",
    "        \"\"\"\n",
    "        batch = self.memory.sample(batch_size, 1)\n",
    "\n",
    "        # create 2 lists of states : source and next from batch\n",
    "        no_state = np.zeros(2)\n",
    "        states1 = np.array([(no_state if i is None else i) for i in batch[:, 0]])\n",
    "        #states1 = np.array([i for i in batch[:,0]])\n",
    "        states2 = np.array([(no_state if i is None else i) for i in batch[:, 3]])\n",
    "        #print(states1.shape)\n",
    "        # Compute the Q values from the target network for the states of the 2 previous list\n",
    "        p_state1 = self.model2.predict_batch(states1)\n",
    "        p_state2 = self.model2.predict_batch(states2)\n",
    "\n",
    "        # Compute the Q values from the max network of the next states\n",
    "        pmax_state2 = self.model1.predict_batch(states2)\n",
    "\n",
    "        batch_states = []\n",
    "        batch_actions = []\n",
    "        # compute the Q vectors\n",
    "        for i, (state, action, reward, next_state, _) in enumerate(batch):\n",
    "            #print('state', state)\n",
    "            if next_state is None:\n",
    "                target = reward\n",
    "            else:\n",
    "                b_action = np.argmax(pmax_state2[i])\n",
    "                target = reward + disc_factor * p_state2[i][b_action]\n",
    "\n",
    "            q_vec = p_state1[i]\n",
    "            q_vec[action] = target\n",
    "            batch_states.append(state)\n",
    "            batch_actions.append(q_vec)\n",
    "\n",
    "        history = self.model1.fit_batch(batch_states, batch_actions, batch_size)\n",
    "        loss = history.history['loss'][0]\n",
    "        return loss\n",
    "\n",
    "    def run(self, start_state, num_episode, hyperparams=None):\n",
    "        \"\"\"\n",
    "            Trains the agent\n",
    "\n",
    "            Algorithm explained in\n",
    "            https://confluence.sdmc.ao-srv.com/display/BRDM/Inference+using+Deep+Reinforcement+Learning\n",
    "\n",
    "            Args:\n",
    "                start_state : initialize each episde with this state. If None initialize with a\n",
    "                                random state\n",
    "                num_episode : number of episode to train the network\n",
    "                hyperparms : hyperparameters to use Default : hyperparms = {\n",
    "                                                                'sample_batch_size' : 32,\n",
    "                                                                'disc_factor' : 0.9,\n",
    "                                                                'max_epsilon' : 1,\n",
    "                                                                'min_epsilon' : 0.01,\n",
    "                                                                'decay_speed' : 0.01,\n",
    "                                                                'update_target_frequency' : 100\n",
    "                                                            }\n",
    "\n",
    "            Returns:\n",
    "                dict of the training history : {\n",
    "                    'index_max_reward': for each episode, number of actions to get the optimum\n",
    "                    state,\n",
    "                    'states_visited': for each episode, list of visited states\n",
    "                    'nb_max': for each episode, number of time the env was in the optimum state\n",
    "                    'sum_rewards': for each episode, sum of reward\n",
    "                }\n",
    "        \"\"\"\n",
    "        if hyperparams is None:\n",
    "            hyperparams = self.default_hyperparms\n",
    "        else:\n",
    "            hyperparams.update(self.default_hyperparms)\n",
    "\n",
    "        states_visited = [list() for _ in range(num_episode)]\n",
    "        index_max = np.ones(num_episode) * 51\n",
    "        sum_reward = np.zeros(num_episode)\n",
    "        nb_max = np.zeros(num_episode)\n",
    "\n",
    "        steps = 0\n",
    "\n",
    "        for i in range(num_episode):\n",
    "            if i%50==0:\n",
    "                print(\"Episode {0} out of {1}\".format(i + 1, num_episode))\n",
    "            if start_state is None:\n",
    "                state = self.env.reset_env()\n",
    "            else:\n",
    "                state = self.env.set_state(start_state)\n",
    "\n",
    "            done = False\n",
    "#             exploration_rate = hyperparams['min_epsilon'] + (hyperparams['max_epsilon'] -\n",
    "#                                                             hyperparams['min_epsilon']) * \\\n",
    "#                                math.exp(-hyperparams['decay_speed'] * i)\n",
    "            \n",
    "            exploration_rate = linear_sched(i)\n",
    "            states_visited[i].append(state)\n",
    "            nb_actions = 0\n",
    "            j = 1\n",
    "            while not done:\n",
    "#                 if state is None:\n",
    "#                     state = self.env.reset_env()\n",
    "        \n",
    "                #print('Step {}/50'.format(j))\n",
    "                #j+=1\n",
    "                valid_actions = self.env.check_actions_possible()\n",
    " \n",
    "                action = self.decision(state, exploration_rate,valid_actions)\n",
    "                #print('action', action)\n",
    "                steps += 1\n",
    "                next_state, reward, done, _,_ = self.env.do_action(action)\n",
    "#                 if reward ==-1000:\n",
    "#                     print(\"Reward is -1000\", valid_actions, action)\n",
    "                sum_reward[i] += reward\n",
    "                self.remember(state, action, reward, next_state, done)\n",
    "                \n",
    "                \n",
    "                #print(next_state, state)\n",
    "                if next_state is not None:\n",
    "                    states_visited[i].append(state)\n",
    "                    state = next_state  \n",
    "                    \n",
    "                    \n",
    "                    \n",
    "\n",
    "                    \n",
    "                    \n",
    "                if i > 1:\n",
    "                    \n",
    "                    loss_log = self.replay(hyperparams['sample_batch_size'], hyperparams['disc_factor'])\n",
    "                    self.loss.append(loss_log)\n",
    "                # update the target network\n",
    "                if steps % hyperparams['update_target_frequency'] == 0:\n",
    "                    self.model2.model.set_weights(self.model1.model.get_weights())\n",
    "\n",
    "                nb_actions += 1\n",
    "                if reward == 50.0 and index_max[i] == 51:\n",
    "                    index_max[i] = nb_actions\n",
    "                if reward == 50.0:\n",
    "                    nb_max[i] += 1\n",
    "\n",
    "        return {\n",
    "            'index_max_reward': index_max,\n",
    "            'states_visited': states_visited,\n",
    "            'nb_max': nb_max,\n",
    "            'sum_rewards': sum_reward,\n",
    "            'loss':self.loss\n",
    "        }\n",
    "\n"
   ]
  },
  {
   "cell_type": "code",
   "execution_count": 1615,
   "metadata": {},
   "outputs": [
    {
     "name": "stdout",
     "output_type": "stream",
     "text": [
      "Episode 1 out of 500\n",
      "Episode 51 out of 500\n",
      "Episode 101 out of 500\n",
      "Episode 151 out of 500\n",
      "Episode 201 out of 500\n",
      "Episode 251 out of 500\n",
      "Episode 301 out of 500\n",
      "Episode 351 out of 500\n",
      "Episode 401 out of 500\n",
      "Episode 451 out of 500\n",
      "done 8.315335583686828\n"
     ]
    }
   ],
   "source": [
    "a = DoubleQAgent(env)\n",
    "states = env.list_states()\n",
    "t0 = time.time()\n",
    "res = a.run(start_state=(states[0]), num_episode=exp['epi'],  hyperparams={'batch_size': 32})\n",
    "#res = a.run(start_state=None, num_episode=exp['epi'],  hyperparams={'batch_size': 32})\n",
    "t1 = time.time()\n",
    "print(\"done {0}\".format((t1-t0)/60))"
   ]
  },
  {
   "cell_type": "code",
   "execution_count": 1616,
   "metadata": {},
   "outputs": [
    {
     "data": {
      "text/plain": [
       "[[-5, -5],\n",
       " [-5, -5],\n",
       " [-4, -5],\n",
       " [-3, -5],\n",
       " [-2, -5],\n",
       " [-2, -4],\n",
       " [-2, -3],\n",
       " [-2, -2],\n",
       " [-2, -1],\n",
       " [-2, -1],\n",
       " [-2, -1],\n",
       " [-2, -1],\n",
       " [-2, -1],\n",
       " [-2, -1],\n",
       " [-2, -1],\n",
       " [-2, -1],\n",
       " [-2, -1],\n",
       " [-2, -1],\n",
       " [-2, -1],\n",
       " [-2, -1],\n",
       " [-2, -1],\n",
       " [-2, -1],\n",
       " [-1, -1],\n",
       " [0, -1],\n",
       " [1, -1],\n",
       " [1, 0],\n",
       " [1, 0],\n",
       " [1, 0],\n",
       " [1, 0],\n",
       " [1, 0],\n",
       " [1, 0],\n",
       " [1, 0],\n",
       " [1, 0],\n",
       " [1, 0],\n",
       " [1, 0],\n",
       " [1, 0],\n",
       " [1, 0],\n",
       " [1, 0],\n",
       " [1, 0],\n",
       " [1, 0],\n",
       " [1, 0],\n",
       " [1, 0],\n",
       " [1, 0],\n",
       " [1, 0],\n",
       " [1, 0],\n",
       " [1, 0],\n",
       " [1, 0],\n",
       " [1, 0],\n",
       " [1, 0],\n",
       " [1, 0],\n",
       " [1, 0],\n",
       " [1, 0]]"
      ]
     },
     "execution_count": 1616,
     "metadata": {},
     "output_type": "execute_result"
    }
   ],
   "source": [
    "res['states_visited'][exp['epi']-1]"
   ]
  },
  {
   "cell_type": "code",
   "execution_count": 1617,
   "metadata": {},
   "outputs": [
    {
     "data": {
      "image/png": "[encoded data removed]",
      "text/plain": [
       "<Figure size 720x576 with 1 Axes>"
      ]
     },
     "metadata": {},
     "output_type": "display_data"
    }
   ],
   "source": [
    "fig3, ax3 = plt.subplots(figsize=(10, 8))\n",
    "loss_log = res['loss']\n",
    "ax3.plot(range(len(loss_log)), loss_log, '-o')\n",
    "plt.title(\"Total loss per episode\")\n",
    "plt.xlabel(\"Steps in Episode\")\n",
    "plt.ylabel(\"Loss\")\n",
    "plt.show()"
   ]
  },
  {
   "cell_type": "code",
   "execution_count": 1618,
   "metadata": {},
   "outputs": [
    {
     "data": {
      "text/plain": [
       "69.53936004638672"
      ]
     },
     "execution_count": 1618,
     "metadata": {},
     "output_type": "execute_result"
    }
   ],
   "source": [
    "res['loss'][len(res['loss'])-1]"
   ]
  },
  {
   "cell_type": "code",
   "execution_count": 1619,
   "metadata": {},
   "outputs": [
    {
     "data": {
      "text/plain": [
       "4.4777069091796875"
      ]
     },
     "execution_count": 1619,
     "metadata": {},
     "output_type": "execute_result"
    }
   ],
   "source": [
    "res['loss'][0]"
   ]
  },
  {
   "cell_type": "code",
   "execution_count": 1620,
   "metadata": {},
   "outputs": [
    {
     "data": {
      "text/plain": [
       "[[-5, -5],\n",
       " [-5, -5],\n",
       " [-5, -5],\n",
       " [-5, -4],\n",
       " [-5, -4],\n",
       " [-5, -5],\n",
       " [-4, -5],\n",
       " [-4, -5],\n",
       " [-3, -5],\n",
       " [-4, -5],\n",
       " [-5, -5],\n",
       " [-5, -4],\n",
       " [-4, -4],\n",
       " [-3, -4],\n",
       " [-4, -4],\n",
       " [-5, -4],\n",
       " [-5, -3],\n",
       " [-5, -3],\n",
       " [-4, -3],\n",
       " [-3, -3],\n",
       " [-3, -2],\n",
       " [-3, -3],\n",
       " [-3, -3],\n",
       " [-2, -3],\n",
       " [-1, -3],\n",
       " [0, -3],\n",
       " [0, -3],\n",
       " [0, -2],\n",
       " [-1, -2],\n",
       " [-1, -2],\n",
       " [-2, -2],\n",
       " [-3, -2],\n",
       " [-3, -1],\n",
       " [-4, -1],\n",
       " [-4, -1],\n",
       " [-5, -1],\n",
       " [-5, 0],\n",
       " [-5, 0],\n",
       " [-4, 0],\n",
       " [-4, -1],\n",
       " [-4, -2],\n",
       " [-5, -2],\n",
       " [-5, -3],\n",
       " [-5, -2],\n",
       " [-5, -2],\n",
       " [-5, -1],\n",
       " [-5, -2],\n",
       " [-4, -2],\n",
       " [-4, -2],\n",
       " [-4, -3],\n",
       " [-4, -4],\n",
       " [-4, -4]]"
      ]
     },
     "execution_count": 1620,
     "metadata": {},
     "output_type": "execute_result"
    }
   ],
   "source": [
    "res['states_visited'][0]"
   ]
  },
  {
   "cell_type": "code",
   "execution_count": 1621,
   "metadata": {},
   "outputs": [
    {
     "name": "stdout",
     "output_type": "stream",
     "text": [
      "67\n",
      "68\n",
      "69\n",
      "70\n",
      "71\n",
      "72\n",
      "73\n",
      "74\n",
      "75\n",
      "77\n",
      "79\n",
      "119\n",
      "121\n",
      "124\n",
      "125\n",
      "176\n",
      "181\n",
      "182\n",
      "183\n",
      "185\n",
      "186\n",
      "200\n",
      "266\n",
      "268\n",
      "269\n",
      "490\n",
      "493\n",
      "494\n",
      "499\n"
     ]
    }
   ],
   "source": [
    "for x in range(exp['epi']):\n",
    "    if len(res['states_visited'][x])<50:\n",
    "        print(x+1)\n",
    "        "
   ]
  },
  {
   "cell_type": "code",
   "execution_count": 1622,
   "metadata": {},
   "outputs": [
    {
     "name": "stderr",
     "output_type": "stream",
     "text": [
      "/home_nfs/djanden/ioi/exp/iopa/libiopa/experiment_design/work/lib/python3.6/site-packages/matplotlib/figure.py:459: UserWarning: matplotlib is currently using a non-GUI backend, so cannot show the figure\n",
      "  \"matplotlib is currently using a non-GUI backend, \"\n"
     ]
    },
    {
     "data": {
      "image/png": "[encoded data removed]",
      "text/plain": [
       "<Figure size 432x432 with 2 Axes>"
      ]
     },
     "metadata": {},
     "output_type": "display_data"
    }
   ],
   "source": [
    "contoursteps(x1,x2, data, res['states_visited'][299])"
   ]
  },
  {
   "cell_type": "code",
   "execution_count": 1623,
   "metadata": {},
   "outputs": [],
   "source": [
    "from ipywidgets import *\n",
    "import numpy as np\n",
    "import matplotlib.pyplot as plt\n",
    "import seaborn as sns"
   ]
  },
  {
   "cell_type": "code",
   "execution_count": 1624,
   "metadata": {},
   "outputs": [],
   "source": [
    "def show(epi):\n",
    "    contoursteps(x1,x2, data, res['states_visited'][epi])"
   ]
  },
  {
   "cell_type": "code",
   "execution_count": 1625,
   "metadata": {},
   "outputs": [
    {
     "data": {
      "application/vnd.jupyter.widget-view+json": {
       "model_id": "387824d99636484f806bc63d63af4a52",
       "version_major": 2,
       "version_minor": 0
      },
      "text/plain": [
       "interactive(children=(IntSlider(value=10, description='epi', max=299, min=10), Output()), _dom_classes=('widge…"
      ]
     },
     "metadata": {},
     "output_type": "display_data"
    },
    {
     "data": {
      "text/plain": [
       "<function __main__.show(epi)>"
      ]
     },
     "execution_count": 1625,
     "metadata": {},
     "output_type": "execute_result"
    }
   ],
   "source": [
    "interact(show,epi=widgets.IntSlider(value=1, min=10, max=299, step=1))"
   ]
  },
  {
   "cell_type": "code",
   "execution_count": 1626,
   "metadata": {},
   "outputs": [],
   "source": [
    "import pickle\n",
    "def save_results(filename, data):\n",
    "    filename = 'trained_results/'+filename +'.pkl'\n",
    "    with open(filename, 'wb') as f:\n",
    "        pickle.dump(data, f, protocol=pickle.HIGHEST_PROTOCOL)\n",
    "        \n",
    "    return True\n",
    "def load_results(filename):\n",
    "    filename = 'trained_results/'+filename +'.pkl'\n",
    "    with open(filename, 'rb') as f:\n",
    "        b = pickle.load(f)\n",
    "    return b"
   ]
  },
  {
   "cell_type": "code",
   "execution_count": 1627,
   "metadata": {},
   "outputs": [],
   "source": [
    "#save_results('deep2d_5x5_32_32_new',res)"
   ]
  },
  {
   "cell_type": "code",
   "execution_count": 1628,
   "metadata": {},
   "outputs": [],
   "source": [
    "#res =load_results('deep2d_5x5_32_32')"
   ]
  },
  {
   "cell_type": "code",
   "execution_count": 1629,
   "metadata": {},
   "outputs": [
    {
     "name": "stderr",
     "output_type": "stream",
     "text": [
      "/home_nfs/djanden/ioi/exp/iopa/libiopa/experiment_design/work/lib/python3.6/site-packages/matplotlib/figure.py:459: UserWarning: matplotlib is currently using a non-GUI backend, so cannot show the figure\n",
      "  \"matplotlib is currently using a non-GUI backend, \"\n"
     ]
    },
    {
     "data": {
      "image/png": "[encoded data removed]",
      "text/plain": [
       "<Figure size 432x432 with 2 Axes>"
      ]
     },
     "metadata": {},
     "output_type": "display_data"
    }
   ],
   "source": [
    "contoursteps(x1,x2, data, res['states_visited'][299])"
   ]
  },
  {
   "cell_type": "code",
   "execution_count": 1630,
   "metadata": {},
   "outputs": [
    {
     "data": {
      "text/plain": [
       "[[-5, -5],\n",
       " [-5, -5],\n",
       " [-4, -5],\n",
       " [-3, -5],\n",
       " [-2, -5],\n",
       " [-2, -4],\n",
       " [-2, -3],\n",
       " [-2, -2],\n",
       " [-1, -2],\n",
       " [-1, -1],\n",
       " [0, -1],\n",
       " [0, -1],\n",
       " [0, -1],\n",
       " [0, -1],\n",
       " [0, 0],\n",
       " [0, 0],\n",
       " [0, 0],\n",
       " [0, 0],\n",
       " [1, 0],\n",
       " [1, 0],\n",
       " [1, 0],\n",
       " [1, 0],\n",
       " [1, 0],\n",
       " [1, 0],\n",
       " [1, 0],\n",
       " [1, 0],\n",
       " [1, 0],\n",
       " [1, 0],\n",
       " [1, 0],\n",
       " [1, 0],\n",
       " [1, 0],\n",
       " [1, 0],\n",
       " [1, 0],\n",
       " [1, 0],\n",
       " [1, 0],\n",
       " [1, 0],\n",
       " [1, 0],\n",
       " [1, 0],\n",
       " [1, 0],\n",
       " [1, 0],\n",
       " [1, 0],\n",
       " [1, 0],\n",
       " [1, 0],\n",
       " [1, 0],\n",
       " [1, 0],\n",
       " [1, 0],\n",
       " [1, 0],\n",
       " [1, 0],\n",
       " [1, 0],\n",
       " [1, 0],\n",
       " [1, 0],\n",
       " [1, 0]]"
      ]
     },
     "execution_count": 1630,
     "metadata": {},
     "output_type": "execute_result"
    }
   ],
   "source": [
    "res['states_visited'][299]"
   ]
  },
  {
   "cell_type": "code",
   "execution_count": 1631,
   "metadata": {},
   "outputs": [
    {
     "data": {
      "image/png": "[encoded data removed]",
      "text/plain": [
       "<Figure size 432x288 with 2 Axes>"
      ]
     },
     "metadata": {},
     "output_type": "display_data"
    }
   ],
   "source": [
    "nb = len(res['index_max_reward'])\n",
    "t = np.arange(nb)\n",
    "data1 = res['index_max_reward']\n",
    "MAX_EPSILON = 1\n",
    "MIN_EPSILON = 0.01\n",
    "LAMBDA = 0.01 # speed of decay\n",
    "data2 = [MIN_EPSILON + (MAX_EPSILON - MIN_EPSILON) * math.exp(-LAMBDA * i) for i in range(nb)]\n",
    "\n",
    "fig, ax1 = plt.subplots()\n",
    "\n",
    "color = 'tab:blue'\n",
    "ax1.set_xlabel('episode')\n",
    "ax1.set_ylabel('steps', color=color)\n",
    "ax1.scatter(t, data1, color=color, s=3)\n",
    "ax1.tick_params(axis='y', labelcolor=color)\n",
    "\n",
    "ax2 = ax1.twinx()  # instantiate a second axes that shares the same x-axis\n",
    "\n",
    "color = 'tab:red'\n",
    "ax2.set_ylabel('epsilon', color=color)  # we already handled the x-label with ax1\n",
    "ax2.plot(t, data2, color=color)\n",
    "ax2.tick_params(axis='y', labelcolor=color)\n",
    "ax1.set_title('Variation of the number of step to get the optimum with epsilon \\nstart : {0} , lambda={1}'.format(states[80],LAMBDA))\n",
    "fig.tight_layout()  # otherwise the right y-label is slightly clipped\n",
    "# plt.legend()\n",
    "plt.show()"
   ]
  },
  {
   "cell_type": "code",
   "execution_count": 1632,
   "metadata": {},
   "outputs": [
    {
     "data": {
      "image/png": "[encoded data removed]",
      "text/plain": [
       "<Figure size 432x288 with 2 Axes>"
      ]
     },
     "metadata": {},
     "output_type": "display_data"
    }
   ],
   "source": [
    "nb = len(res['index_max_reward'])\n",
    "t = np.arange(nb)\n",
    "data1 = res['nb_max']\n",
    "\n",
    "MAX_EPSILON = 1\n",
    "MIN_EPSILON = 0.01\n",
    "LAMBDA = 0.01 # speed of decay\n",
    "data2 = [MIN_EPSILON + (MAX_EPSILON - MIN_EPSILON) * math.exp(-LAMBDA * step) for step in range(nb)]\n",
    "\n",
    "fig, ax1 = plt.subplots()\n",
    "\n",
    "color = 'tab:blue'\n",
    "ax1.set_xlabel('episode')\n",
    "ax1.set_ylabel('steps', color=color)\n",
    "ax1.scatter(t, data1, color=color, s=3)\n",
    "ax1.tick_params(axis='y', labelcolor=color)\n",
    "\n",
    "ax2 = ax1.twinx()  # instantiate a second axes that shares the same x-axis\n",
    "\n",
    "color = 'tab:red'\n",
    "ax2.set_ylabel('epsilon', color=color)  # we already handled the x-label with ax1\n",
    "ax2.plot(t, data2, color=color)\n",
    "ax2.tick_params(axis='y', labelcolor=color)\n",
    "ax1.set_title('Variation of the number of step the agent stayed in the optimum per episode \\nstart : {0} '.format(states[0]))\n",
    "fig.tight_layout()  # otherwise the right y-label is slightly clipped\n",
    "# plt.legend()\n",
    "plt.show()"
   ]
  },
  {
   "cell_type": "code",
   "execution_count": 1633,
   "metadata": {},
   "outputs": [
    {
     "data": {
      "image/png": "[encoded data removed]",
      "text/plain": [
       "<Figure size 432x288 with 2 Axes>"
      ]
     },
     "metadata": {},
     "output_type": "display_data"
    }
   ],
   "source": [
    "nb = len(res['index_max_reward'])\n",
    "t = np.arange(nb)\n",
    "data1 = res['sum_rewards']\n",
    "\n",
    "MAX_EPSILON = 1\n",
    "MIN_EPSILON = 0.01\n",
    "LAMBDA = 0.01 # speed of decay\n",
    "data2 = [MIN_EPSILON + (MAX_EPSILON - MIN_EPSILON) * math.exp(-LAMBDA * step) for step in range(nb)]\n",
    "\n",
    "fig, ax1 = plt.subplots()\n",
    "\n",
    "color = 'tab:blue'\n",
    "ax1.set_xlabel('episode')\n",
    "ax1.set_ylabel('sum', color=color)\n",
    "ax1.scatter(t, data1, color=color, s=3)\n",
    "ax1.tick_params(axis='y', labelcolor=color)\n",
    "\n",
    "ax2 = ax1.twinx()  # instantiate a second axes that shares the same x-axis\n",
    "\n",
    "color = 'tab:red'\n",
    "ax2.set_ylabel('epsilon', color=color)  # we already handled the x-label with ax1\n",
    "ax2.plot(t, data2, color=color)\n",
    "ax2.tick_params(axis='y', labelcolor=color)\n",
    "ax1.set_title('Sum of rewards per episode \\nstart : {0} '.format(states[80]))\n",
    "fig.tight_layout()  # otherwise the right y-label is slightly clipped\n",
    "# plt.legend()\n",
    "plt.show()"
   ]
  },
  {
   "cell_type": "code",
   "execution_count": 1634,
   "metadata": {},
   "outputs": [],
   "source": [
    "from ipywidgets import interact, interactive, fixed, interact_manual\n",
    "import ipywidgets as widgets"
   ]
  },
  {
   "cell_type": "code",
   "execution_count": 1635,
   "metadata": {},
   "outputs": [
    {
     "ename": "IndexError",
     "evalue": "list index out of range",
     "output_type": "error",
     "traceback": [
      "\u001b[0;31m---------------------------------------------------------------------------\u001b[0m",
      "\u001b[0;31mIndexError\u001b[0m                                Traceback (most recent call last)",
      "\u001b[0;32m<ipython-input-1635-fabc99ef8d23>\u001b[0m in \u001b[0;36m<module>\u001b[0;34m()\u001b[0m\n\u001b[1;32m      1\u001b[0m \u001b[0mdimFixe\u001b[0m \u001b[0;34m=\u001b[0m \u001b[0;36m1\u001b[0m \u001b[0;31m# dimension fixe : 1 for binsize\u001b[0m\u001b[0;34m\u001b[0m\u001b[0m\n\u001b[0;32m----> 2\u001b[0;31m \u001b[0mfixVal\u001b[0m \u001b[0;34m=\u001b[0m \u001b[0mstates\u001b[0m\u001b[0;34m[\u001b[0m\u001b[0;36m1\u001b[0m\u001b[0;34m]\u001b[0m\u001b[0;34m[\u001b[0m\u001b[0;36m80\u001b[0m\u001b[0;34m]\u001b[0m\u001b[0;34m[\u001b[0m\u001b[0mdimFixe\u001b[0m\u001b[0;34m]\u001b[0m\u001b[0;34m\u001b[0m\u001b[0m\n\u001b[0m\u001b[1;32m      3\u001b[0m \u001b[0midx\u001b[0m \u001b[0;34m=\u001b[0m \u001b[0mnp\u001b[0m\u001b[0;34m.\u001b[0m\u001b[0mwhere\u001b[0m\u001b[0;34m(\u001b[0m\u001b[0mnp\u001b[0m\u001b[0;34m.\u001b[0m\u001b[0marray\u001b[0m\u001b[0;34m(\u001b[0m\u001b[0;34m[\u001b[0m\u001b[0mi\u001b[0m \u001b[0;32mfor\u001b[0m \u001b[0mi\u001b[0m \u001b[0;32min\u001b[0m \u001b[0mjob1\u001b[0m\u001b[0;34m.\u001b[0m\u001b[0mruns\u001b[0m\u001b[0;34m[\u001b[0m\u001b[0;34m'accelerators'\u001b[0m\u001b[0;34m]\u001b[0m\u001b[0;34m]\u001b[0m\u001b[0;34m)\u001b[0m\u001b[0;34m[\u001b[0m\u001b[0;34m:\u001b[0m\u001b[0;34m,\u001b[0m\u001b[0mdimFixe\u001b[0m\u001b[0;34m]\u001b[0m\u001b[0;34m==\u001b[0m\u001b[0mfixVal\u001b[0m\u001b[0;34m)\u001b[0m\u001b[0;34m[\u001b[0m\u001b[0;36m0\u001b[0m\u001b[0;34m]\u001b[0m\u001b[0;34m\u001b[0m\u001b[0m\n\u001b[1;32m      4\u001b[0m \u001b[0maccels\u001b[0m \u001b[0;34m=\u001b[0m \u001b[0;34m[\u001b[0m \u001b[0mi\u001b[0m \u001b[0;32mfor\u001b[0m \u001b[0mi\u001b[0m \u001b[0;32min\u001b[0m \u001b[0mnp\u001b[0m\u001b[0;34m.\u001b[0m\u001b[0marray\u001b[0m\u001b[0;34m(\u001b[0m\u001b[0mjob1\u001b[0m\u001b[0;34m.\u001b[0m\u001b[0mruns\u001b[0m\u001b[0;34m[\u001b[0m\u001b[0;34m'accelerators'\u001b[0m\u001b[0;34m]\u001b[0m\u001b[0;34m)\u001b[0m\u001b[0;34m[\u001b[0m\u001b[0midx\u001b[0m\u001b[0;34m]\u001b[0m\u001b[0;34m]\u001b[0m\u001b[0;34m\u001b[0m\u001b[0m\n\u001b[1;32m      5\u001b[0m \u001b[0maccels\u001b[0m \u001b[0;34m=\u001b[0m \u001b[0mnp\u001b[0m\u001b[0;34m.\u001b[0m\u001b[0mdelete\u001b[0m\u001b[0;34m(\u001b[0m\u001b[0maccels\u001b[0m\u001b[0;34m,\u001b[0m \u001b[0mdimFixe\u001b[0m\u001b[0;34m,\u001b[0m \u001b[0;36m1\u001b[0m\u001b[0;34m)\u001b[0m\u001b[0;34m\u001b[0m\u001b[0m\n",
      "\u001b[0;31mIndexError\u001b[0m: list index out of range"
     ]
    }
   ],
   "source": [
    "dimFixe = 1 # dimension fixe : 1 for binsize\n",
    "fixVal = states[1][80][dimFixe]\n",
    "idx = np.where(np.array([i for i in job1.runs['accelerators']])[:,dimFixe]==fixVal)[0]\n",
    "accels = [ i for i in np.array(job1.runs['accelerators'])[idx]]\n",
    "accels = np.delete(accels, dimFixe, 1)\n",
    "\n",
    "duration = 1/(np.array(job1.runs['durationNorm'])[idx]+0.02)"
   ]
  },
  {
   "cell_type": "code",
   "execution_count": null,
   "metadata": {
    "scrolled": false
   },
   "outputs": [],
   "source": [
    "def plot(list_episodes,index_episode,all_before=False,indicator='r-'):\n",
    "    Z = duration.reshape(8, 5)\n",
    "    fig, ax = plt.subplots()\n",
    "    c = ax.pcolor(Z)\n",
    "    fig.colorbar(c, ax=ax)\n",
    "\n",
    "    if all_before == False:\n",
    "        episodes = [list_episodes[index_episode]]\n",
    "    else:\n",
    "        episodes = np.array(list_episodes)[np.arange(index_episode+1)]\n",
    "        \n",
    "    for e in episodes:\n",
    "        points = np.delete(np.array(e),dimFixe,1)\n",
    "        ax.plot(points[:,0]/2-0.5,points[:,1]/2,indicator,alpha=0.5*1/len(episodes)+0.2)\n",
    "    plt.show()\n",
    "\n",
    "interact(plot, \n",
    "         list_episodes=fixed(res['states_visited']), \n",
    "         index_episode=widgets.IntSlider(min=0,max=len(res['states_visited'])-1,step=1,value=10),\n",
    "         indicator = ['r-','r+']\n",
    "        );"
   ]
  },
  {
   "cell_type": "code",
   "execution_count": null,
   "metadata": {},
   "outputs": [],
   "source": [
    "## 50 Episodes\n",
    "## liste des états dans list_states\n",
    "s = np.array(env.set_state((states[0][80], states[1][80])))\n",
    "list_states = []\n",
    "list_states.append(s[1])\n",
    "done = False\n",
    "while not done:\n",
    "    action = a.decision(s,0)\n",
    "    next_s, r, done, _ = env.do_action(action)\n",
    "    print(r)\n",
    "    if not next_s is None:\n",
    "        list_states.append(next_s[1])\n",
    "    s = next_s\n",
    "plot([list_states],0,all_before=False)"
   ]
  }
 ],
 "metadata": {
  "kernelspec": {
   "display_name": "work",
   "language": "python",
   "name": "work"
  },
  "language_info": {
   "codemirror_mode": {
    "name": "ipython",
    "version": 3
   },
   "file_extension": ".py",
   "mimetype": "text/x-python",
   "name": "python",
   "nbconvert_exporter": "python",
   "pygments_lexer": "ipython3",
   "version": "3.6.3"
  }
 },
 "nbformat": 4,
 "nbformat_minor": 2
}
