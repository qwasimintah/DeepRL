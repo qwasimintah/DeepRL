{
 "cells": [
  {
   "cell_type": "code",
   "execution_count": 34,
   "metadata": {},
   "outputs": [],
   "source": [
    "# %matplotlib notebook\n",
    "# %pylab"
   ]
  },
  {
   "cell_type": "code",
   "execution_count": 35,
   "metadata": {},
   "outputs": [],
   "source": [
    "# import os\n",
    "# os.environ[\"CUDA_DEVICE_ORDER\"] = \"PCI_BUS_ID\"   # see issue #152\n",
    "# os.environ[\"CUDA_VISIBLE_DEVICES\"] = \"0\""
   ]
  },
  {
   "cell_type": "markdown",
   "metadata": {},
   "source": [
    "### Generating the 2D Data"
   ]
  },
  {
   "cell_type": "code",
   "execution_count": 36,
   "metadata": {},
   "outputs": [],
   "source": [
    "import pickle\n",
    "import numpy as np\n",
    "from scipy.spatial import distance\n",
    "import matplotlib.pyplot as plt\n",
    "import matplotlib.colors as colors\n",
    "import matplotlib.cm as cmx\n",
    "import mpl_toolkits.mplot3d.axes3d as p3\n",
    "from matplotlib.animation import FuncAnimation\n",
    "import pandas as pd\n",
    "import math\n",
    "from mpl_toolkits.mplot3d import Axes3D\n",
    "import itertools"
   ]
  },
  {
   "cell_type": "markdown",
   "metadata": {},
   "source": [
    "### Experiment Function"
   ]
  },
  {
   "cell_type": "code",
   "execution_count": 37,
   "metadata": {},
   "outputs": [],
   "source": [
    "STEP ='STEP'\n",
    "EPISODE = 'EPISODE'\n",
    "QUADRATIC='QUADRATIC'\n",
    "COSINE ='COSINE'\n",
    "CURRENT='CURRENT'# reward in state\n",
    "DELAYED='DELAYED' # discounted future reward\n",
    "CURRENT_DELAYED ='CURRENT_DELAYED' # current reward + discounted future reward"
   ]
  },
  {
   "cell_type": "code",
   "execution_count": 38,
   "metadata": {},
   "outputs": [],
   "source": [
    "from experiment import *\n",
    "name = \"LimitedJump_1000_1DQ\"\n",
    "parameters={\n",
    "            \"exp\": name,            #name of experiment\n",
    "            \"mode\": EPISODE,           # two modes of execution, 1 episode(1000steps) or N episodes -[step, episode] \n",
    "            \"data_dimension\": 2,    # dimension of data, 1 to N Dimension\n",
    "            \"function\":QUADRATIC,   # quadratic or cosine\n",
    "            \"queue_length\": 5,      # max length of queue\n",
    "            \"heuristic_queue\":2,    # sequeuce length that is considered by the heuristic\n",
    "            \"discount_factor\": 0.5, # discount factor               \n",
    "            \"max_skip\":7,           # maximum allowed skip \n",
    "            \"e_start\": 1,           # episilon value to start applying heuristic\n",
    "            \"e_stop\":0,             # episilon value to stop applying heuristic\n",
    "            \"epi\": 10,             # number of episodes\n",
    "            \"learning_rate\": 0.9,   # learning rate\n",
    "            \"reward\":CURRENT,       # current/delayed/current_delayed\n",
    "            \"lambda\":0.01,\n",
    "            \"min_skip\":3, \n",
    "            \"baseline\":True,        # parameter to switch to baseline model(without heuristic)\n",
    "            \"num_step\":1000\n",
    "        }\n",
    "\n",
    "create_experiment(parameters)"
   ]
  },
  {
   "cell_type": "code",
   "execution_count": 39,
   "metadata": {},
   "outputs": [],
   "source": [
    "exp = view_experiment(name)"
   ]
  },
  {
   "cell_type": "code",
   "execution_count": 40,
   "metadata": {},
   "outputs": [],
   "source": [
    "def styblinski_tang(x):\n",
    "    \"\"\"\n",
    "    compute styblinski-tang optimization test function\n",
    "\n",
    "    Args:\n",
    "        x(array): array to compute the styblinki_tang value of\n",
    "\n",
    "    Returs:\n",
    "        the evaluated value of styblinki_tang function of x\n",
    "    \"\"\"\n",
    "    result = x**4 - 16 * x**2 + 5 * x\n",
    "    return result / 2\n",
    "\n",
    "\n",
    "\n",
    "def rosenbrock(x):\n",
    "    \"\"\"\n",
    "    Compute Rosenbrock test function for a single point\n",
    "\n",
    "    Args:\n",
    "        x(array): array to compute the rosenbrock value of\n",
    "\n",
    "    Returs:\n",
    "        the evaluated value of rosenbrock function of x\n",
    "    \"\"\"\n",
    "    #print(x)\n",
    "    #result = np.sum(100.0 * (x[1:] - x[:-1]**2.0) ** 2.0 + (1 - x[:-1])**2.0, axis=0)\n",
    "    result = 100*(x[1]-x[0]**2)**2 + (x[0]-1)**2\n",
    "    return result\n",
    "\n",
    "\n",
    "def quadratic(x):\n",
    "    \"\"\"\n",
    "    Compute quadratic test function for a single point\n",
    "\n",
    "    Args:\n",
    "        x(array): array to compute the rosenbrock value of\n",
    "\n",
    "    Returs:\n",
    "        the evaluated value of quadratic function of x\n",
    "    \"\"\"\n",
    "    result = np.sum(0.3*x**2 -5, axis=0)\n",
    "\n",
    "    return result\n",
    "\n",
    "def camelback(x):\n",
    "    #print(x)\n",
    "    return ((4-2.1*x[0]**2 + (x[0]**4)/3)*x[0]**2 + x[0]*x[1] + (-4+4*(x[1]**2))*x[1]**2)\n",
    "\n",
    "def griewank(x):\n",
    "    return (x[0]**2)/4000+(x[1]**2)/4000 - np.cos(x[0])-np.cos(x[1]/2)+1\n",
    "\n",
    "def eason(x):\n",
    "    return -np.cos(x[0])*np.cos(x[1])*np.exp(-(x[0]-np.pi)**2-(x[1]-np.pi)**2)\n",
    "\n",
    "def egg_holder(x):\n",
    "    return -(x[1]+47)*np.sin(np.sqrt(abs(x[1]**2 + x[0]/2 + 47))) - x[0]*np.sin(np.sqrt(abs(x[0]-(x[1]+47))))\n",
    "    \n",
    "def array_map(f, x):\n",
    "    return np.array(list(map(f, x)))\n",
    "\n",
    "def quadratic_2d(x):\n",
    "    A = np.matrix([[1, 0],[0, 2]])\n",
    "    b = np.matrix([[0],[0]])\n",
    "    c = 0\n",
    "    return float(0.5 * x.T * A * x - b.T * x + c)"
   ]
  },
  {
   "cell_type": "code",
   "execution_count": 41,
   "metadata": {},
   "outputs": [],
   "source": [
    "def bowl(f):\n",
    "    fig = plt.figure(figsize=(10,8))\n",
    "    qf = fig.gca(projection='3d')\n",
    "    size = 100\n",
    "    x1 = list(np.arange(-50, 50, 1))\n",
    "    x2 = list(np.arange(-50, 50, 1))\n",
    "    x1, x2 = np.meshgrid(x1, x2)\n",
    "    zs = np.zeros((size, size))\n",
    "    collector = []\n",
    "    value = []\n",
    "    for i in range(size):\n",
    "        for j in range(size):\n",
    "            x = np.matrix([[x1[i,j]], [x2[i,j]]])\n",
    "            collector.append([x1[i,j], x2[i,j]])\n",
    "            zs[i,j] = f(x)\n",
    "            value .append(zs[i,j])\n",
    "    qf.plot_surface(x1, x2, zs, rstride=1, cstride=1, linewidth=0)\n",
    "    fig.show()\n",
    "    return x1, x2, zs, collector, value"
   ]
  },
  {
   "cell_type": "code",
   "execution_count": 42,
   "metadata": {},
   "outputs": [
    {
     "name": "stderr",
     "output_type": "stream",
     "text": [
      "/home_nfs/djanden/ioi/exp/iopa/libiopa/experiment_design/work/lib/python3.6/site-packages/matplotlib/figure.py:459: UserWarning: matplotlib is currently using a non-GUI backend, so cannot show the figure\n",
      "  \"matplotlib is currently using a non-GUI backend, \"\n"
     ]
    },
    {
     "data": {
      "image/png": "[encoded data removed]",
      "text/plain": [
       "<Figure size 720x576 with 1 Axes>"
      ]
     },
     "metadata": {},
     "output_type": "display_data"
    }
   ],
   "source": [
    "x1, x2, data, collector, value = bowl(quadratic_2d)"
   ]
  },
  {
   "cell_type": "code",
   "execution_count": 43,
   "metadata": {},
   "outputs": [
    {
     "name": "stderr",
     "output_type": "stream",
     "text": [
      "/home_nfs/djanden/ioi/exp/iopa/libiopa/experiment_design/work/lib/python3.6/site-packages/matplotlib/figure.py:459: UserWarning: matplotlib is currently using a non-GUI backend, so cannot show the figure\n",
      "  \"matplotlib is currently using a non-GUI backend, \"\n"
     ]
    },
    {
     "data": {
      "image/png": "[encoded data removed]",
      "text/plain": [
       "<Figure size 432x432 with 2 Axes>"
      ]
     },
     "metadata": {},
     "output_type": "display_data"
    }
   ],
   "source": [
    "from matplotlib import cm\n",
    "\n",
    "def contoursteps(x1, x2, zs, steps=None):\n",
    "    fig = plt.figure(figsize=(6,6))\n",
    "    levels = np.arange(-2.0, 1.601, 0.4)\n",
    "    norm = cm.colors.Normalize(vmax=abs(zs).max(), vmin=-abs(zs).max())\n",
    "    cmap = cm.PRGn\n",
    "    cmap=cm.get_cmap(cmap, len(levels) - 1)\n",
    "    cp = plt.contourf(x1, x2, zs, norm = norm, cmap=cmap.reversed())\n",
    "    plt.plot(0, 0, 'X', color='green')\n",
    "    fig.colorbar(cp)\n",
    "    #plt.clabel(cp, inline=1, fontsize=10)\n",
    "    if steps is not None:\n",
    "        step =steps\n",
    "        steps = np.matrix(steps)\n",
    "        plt.plot(steps[:,0], steps[:,1], '-o', color='red')\n",
    "#     for i, txt in enumerate(len(step)):\n",
    "#         fig.annotate(value, (z[i], y[i]))\n",
    "    fig.show()\n",
    "    \n",
    "steps = [(-40,-40),(-35,-25), (-30,-20),(-10,-5),(0,3)]\n",
    "contoursteps(x1, x2, data, steps)"
   ]
  },
  {
   "cell_type": "code",
   "execution_count": 44,
   "metadata": {},
   "outputs": [],
   "source": [
    "data_df = pd.DataFrame({\"collector\":collector,\"duration\":value})\n"
   ]
  },
  {
   "cell_type": "code",
   "execution_count": 45,
   "metadata": {},
   "outputs": [
    {
     "data": {
      "text/html": [
       "<div>\n",
       "<style scoped>\n",
       "    .dataframe tbody tr th:only-of-type {\n",
       "        vertical-align: middle;\n",
       "    }\n",
       "\n",
       "    .dataframe tbody tr th {\n",
       "        vertical-align: top;\n",
       "    }\n",
       "\n",
       "    .dataframe thead th {\n",
       "        text-align: right;\n",
       "    }\n",
       "</style>\n",
       "<table border=\"1\" class=\"dataframe\">\n",
       "  <thead>\n",
       "    <tr style=\"text-align: right;\">\n",
       "      <th></th>\n",
       "      <th>collector</th>\n",
       "      <th>duration</th>\n",
       "    </tr>\n",
       "  </thead>\n",
       "  <tbody>\n",
       "    <tr>\n",
       "      <th>9995</th>\n",
       "      <td>[45, 49]</td>\n",
       "      <td>3413.5</td>\n",
       "    </tr>\n",
       "    <tr>\n",
       "      <th>9996</th>\n",
       "      <td>[46, 49]</td>\n",
       "      <td>3459.0</td>\n",
       "    </tr>\n",
       "    <tr>\n",
       "      <th>9997</th>\n",
       "      <td>[47, 49]</td>\n",
       "      <td>3505.5</td>\n",
       "    </tr>\n",
       "    <tr>\n",
       "      <th>9998</th>\n",
       "      <td>[48, 49]</td>\n",
       "      <td>3553.0</td>\n",
       "    </tr>\n",
       "    <tr>\n",
       "      <th>9999</th>\n",
       "      <td>[49, 49]</td>\n",
       "      <td>3601.5</td>\n",
       "    </tr>\n",
       "  </tbody>\n",
       "</table>\n",
       "</div>"
      ],
      "text/plain": [
       "     collector  duration\n",
       "9995  [45, 49]    3413.5\n",
       "9996  [46, 49]    3459.0\n",
       "9997  [47, 49]    3505.5\n",
       "9998  [48, 49]    3553.0\n",
       "9999  [49, 49]    3601.5"
      ]
     },
     "execution_count": 45,
     "metadata": {},
     "output_type": "execute_result"
    }
   ],
   "source": [
    "data_df.tail()"
   ]
  },
  {
   "cell_type": "code",
   "execution_count": null,
   "metadata": {},
   "outputs": [],
   "source": []
  },
  {
   "cell_type": "markdown",
   "metadata": {},
   "source": [
    "# Reinforcement learning notebook"
   ]
  },
  {
   "cell_type": "code",
   "execution_count": 46,
   "metadata": {},
   "outputs": [],
   "source": [
    "# from libiopa.jobmodel import databuilder\n",
    "# from libiopa.tools import dbconnector\n",
    "# import pandas as pd\n",
    "\n",
    "# collections = dbconnector.connect('lima16',27017,'cmdb_database','JobItem','FileIOSummary')\n",
    "# dict_db = dbconnector.load_collections(collections)"
   ]
  },
  {
   "cell_type": "code",
   "execution_count": 47,
   "metadata": {},
   "outputs": [],
   "source": [
    "# from sklearn.gaussian_process import GaussianProcessRegressor\n",
    "# from sklearn.gaussian_process.kernels import RBF, WhiteKernel\n",
    "# from sklearn.model_selection import train_test_split\n",
    "# from sklearn.preprocessing import normalize\n",
    "# from sklearn.preprocessing import MinMaxScaler"
   ]
  },
  {
   "cell_type": "code",
   "execution_count": 48,
   "metadata": {},
   "outputs": [],
   "source": [
    "class Job:\n",
    "    def __init__(self, data):\n",
    "        self.runs = data\n",
    "        self.preparationRuns()\n",
    "        \n",
    "    def preparationRuns(self):\n",
    "        \n",
    "        min_dur = min(self.runs['duration'])\n",
    "        max_dur = max(self.runs['duration'])\n",
    "        self.runs['durationNorm'] = (self.runs['duration']-min_dur)/(max_dur-min_dur)\n",
    "\n",
    "\n",
    "    def getStateAndRewardById(self, run_id):\n",
    "\n",
    "        state = self.runs.T[run_id]\n",
    "        \n",
    "        \n",
    "        return (state['collector'], 1/(state['durationNorm']+0.02))\n",
    "\n",
    "job1 = Job(data_df)"
   ]
  },
  {
   "cell_type": "markdown",
   "metadata": {},
   "source": [
    "### Exponential Function"
   ]
  },
  {
   "cell_type": "code",
   "execution_count": 49,
   "metadata": {},
   "outputs": [],
   "source": [
    "import math\n",
    "class LinearDecaySchedule(object):\n",
    "    def __init__(self, initial_value, final_value, max_steps):\n",
    "        assert initial_value > final_value, \"initial_value should be > final_value\"\n",
    "        self.initial_value = initial_value\n",
    "        self.final_value = final_value\n",
    "        self.decay_factor = (initial_value - final_value) / max_steps\n",
    "\n",
    "    def __call__(self, step_num):\n",
    "        current_value = self.final_value + math.exp(-exp['lambda'] * step_num)\n",
    "        if current_value < self.final_value:\n",
    "            current_value = self.final_value\n",
    "        return current_value"
   ]
  },
  {
   "cell_type": "code",
   "execution_count": 50,
   "metadata": {},
   "outputs": [
    {
     "name": "stdout",
     "output_type": "stream",
     "text": [
      "10\n"
     ]
    },
    {
     "data": {
      "image/png": "[encoded data removed]",
      "text/plain": [
       "<Figure size 432x288 with 1 Axes>"
      ]
     },
     "metadata": {},
     "output_type": "display_data"
    }
   ],
   "source": [
    "epsilon_initial = 1.0\n",
    "epsilon_final = 0.\n",
    "MAX_NUM_EPISODES = exp['epi']\n",
    "print(MAX_NUM_EPISODES)\n",
    "MAX_STEPS_PER_EPISODE = 50\n",
    "linear_sched = LinearDecaySchedule(initial_value = epsilon_initial,\n",
    "                                final_value = epsilon_final,\n",
    "                                max_steps = MAX_NUM_EPISODES )\n",
    "epsilon = [linear_sched(step) for step in range(MAX_NUM_EPISODES )]\n",
    "plt.plot(epsilon)\n",
    "plt.show()"
   ]
  },
  {
   "cell_type": "markdown",
   "metadata": {},
   "source": [
    "### Heuristic Function"
   ]
  },
  {
   "cell_type": "code",
   "execution_count": 51,
   "metadata": {},
   "outputs": [
    {
     "data": {
      "text/plain": [
       "2"
      ]
     },
     "execution_count": 51,
     "metadata": {},
     "output_type": "execute_result"
    }
   ],
   "source": [
    "def get_direction(start, end):\n",
    "    #convert to numpy arrays\n",
    "    start = np.array(start)\n",
    "    end=np.array(end)\n",
    "    \n",
    "    # find the vector\n",
    "    v = start - end\n",
    "    \n",
    "    if v[0]!=0:\n",
    "        if v[0]> 0:\n",
    "            return 2\n",
    "        else:\n",
    "            return 1\n",
    "    elif v[1]!=0:\n",
    "        if v[1]>0:\n",
    "            return 3\n",
    "        else:\n",
    "            return 4\n",
    "    else:\n",
    "        return 0\n",
    "    \n",
    "    \n",
    "get_direction([2,3],[1,3])"
   ]
  },
  {
   "cell_type": "code",
   "execution_count": 52,
   "metadata": {},
   "outputs": [],
   "source": [
    "def heuristic_weight1(queue_list, n, clip=1000):\n",
    "    if len(queue_list)==5:\n",
    "        last_3 = queue_list[-n:]\n",
    "        deltas =[]\n",
    "        value_deltas=[]\n",
    "        min_skip = exp['min_skip']\n",
    "        # check whether succesive actions are given an increased reward\n",
    "        for i in range(n-1):\n",
    "            delta = last_3[i][1]< last_3[i+1][1]\n",
    "            value_delta = last_3[i+1][1] - last_3[i][1]\n",
    "            deltas.append(delta)\n",
    "            value_deltas.append(value_delta)\n",
    "        if all(deltas):\n",
    "            # get all 3 successive actions\n",
    "            all_states = []\n",
    "            for a in range(len(queue_list)):\n",
    "                all_states.append(queue_list[a][0])\n",
    "            all_states= all_states[-n:]\n",
    "            last_value_delta = value_deltas[-1]\n",
    "            action_skip = np.round((1+last_value_delta)*min_skip)\n",
    "            \n",
    "            if action_skip>clip:\n",
    "                action_skip=clip\n",
    "            #print(all_states,get_direction(all_states[0],all_states[1]), action_skip)\n",
    "            \n",
    "            return get_direction(all_states[1], all_states[0]), action_skip\n",
    "        else:\n",
    "            return -1, -1\n",
    "    else:\n",
    "        return -1,-1"
   ]
  },
  {
   "cell_type": "code",
   "execution_count": 53,
   "metadata": {},
   "outputs": [
    {
     "data": {
      "text/plain": [
       "[[0.0, 0.0], [0.0, 1.0], [0.0, 2.0], [0.0, 3.0], [0.0, 4.0]]"
      ]
     },
     "execution_count": 53,
     "metadata": {},
     "output_type": "execute_result"
    }
   ],
   "source": [
    "def get_inter_states(start, end):\n",
    "    '''This function assumes that the state change in one dimension \n",
    "    only'''\n",
    "    assert len(start)== len(end)\n",
    "    \n",
    "    if np.array_equal(start, end):\n",
    "        return [start, end]\n",
    "    dim = len(start)\n",
    "    start_a = np.array(start)\n",
    "    end_a = np.array(end)\n",
    "    vector = end_a - start_a\n",
    "    dim_change = [i for i, elem in enumerate(vector) if elem!=0][0]\n",
    "\n",
    "    result =[]\n",
    "    result.append(start_a)\n",
    "    last = result[-1]\n",
    "    sign = -1 if end[dim_change] < start[dim_change] else 1\n",
    "    \n",
    "    st = list(range(start[dim_change], end[dim_change]+sign, sign))\n",
    "    final_states=[]\n",
    "    for x in st:\n",
    "        b=np.zeros(shape=(1, dim))\n",
    "        for i in range(0, dim):\n",
    "            if i!= dim_change:\n",
    "                b[0][i] = start[i]\n",
    "        b[0][dim_change] = x    \n",
    "        final_states.append(list(b[0]))\n",
    "    return final_states\n",
    "\n",
    "    \n",
    "        \n",
    "        \n",
    "        \n",
    "get_inter_states([0,0], [0,4])"
   ]
  },
  {
   "cell_type": "markdown",
   "metadata": {},
   "source": [
    "### Environment"
   ]
  },
  {
   "cell_type": "code",
   "execution_count": 54,
   "metadata": {},
   "outputs": [],
   "source": [
    "# TOOLS\n",
    "\n",
    "def isin2D(a, b):\n",
    "    \"\"\"\n",
    "        Check the existance of elements of a in b\n",
    "        return an array : a boolean for each element of a\n",
    "    \"\"\"\n",
    "    boolArray = []\n",
    "    for i in a:\n",
    "        present = False\n",
    "        j = 0\n",
    "        while present == False and j < len(b):\n",
    "\n",
    "            if np.array_equal(i, b[j]):\n",
    "                present = True\n",
    "            j += 1\n",
    "        boolArray.append(present)\n",
    "    return boolArray"
   ]
  },
  {
   "cell_type": "code",
   "execution_count": 55,
   "metadata": {},
   "outputs": [],
   "source": [
    "from collections import deque\n",
    "\n",
    "class Environment:\n",
    "    def __init__(self, Job):\n",
    "        self.job = Job\n",
    "\n",
    "        self.state = None\n",
    "        self.reward = None\n",
    "        self.done = False\n",
    "        self.def_actions()\n",
    "        self.d = deque([], maxlen=exp['queue_length'])\n",
    "        self.reset_env()\n",
    "\n",
    "    def def_actions(self):\n",
    "        \"\"\"\n",
    "            Define all combinations possibles with 3 numbers in {-2,0,2}\n",
    "            Creates the list in self.actions\n",
    "        \"\"\"\n",
    "        self.actions=[\n",
    "            [0,0],\n",
    "            [-1,0],\n",
    "            [1,0],\n",
    "            [0,1],\n",
    "            [0,-1]\n",
    "        ]\n",
    "        \n",
    "        return self.actions\n",
    "\n",
    "    def check_if_action_possible(self, a):\n",
    "        \"\"\"\n",
    "            For each action, check if it is possible to apply to the current state :\n",
    "            apply the action on the currect state and check if the new state is defined\n",
    "            in the run dataFrame !!!!!! WILL BE CHANGED !!!\n",
    "        \"\"\"\n",
    "#         return np.arange(len(self.actions))\n",
    "        result_actions = [np.add(self.state, a) ]\n",
    "        possible = isin2D(result_actions, np.array(self.job.runs['collector']))\n",
    "        #print(possible)\n",
    "        return possible[0]\n",
    "\n",
    "    def get_reward(self, state):\n",
    "        reward = -1000\n",
    "        for r in self.job.runs.T:\n",
    "            if np.array_equal(self.job.runs['collector'][r], state):\n",
    "                state, reward = self.job.getStateAndRewardById(r)\n",
    "        return reward\n",
    "    \n",
    "    def check_actions_possible(self):\n",
    "        \"\"\"\n",
    "            For each action, check if it is possible to apply to the current state :\n",
    "            apply the action on the currect state and check if the new state is defined\n",
    "            in the run dataFrame !!!!!! WILL BE CHANGED !!!\n",
    "        \"\"\"\n",
    "        result_actions = [np.add(self.state, a) for a in self.actions]\n",
    "        possible = isin2D(result_actions, np.array(\n",
    "            self.job.runs['collector']))\n",
    "\n",
    "        return np.where(np.array(possible) == True)[0]\n",
    "\n",
    "    def do_action(self, action_id, esp=1, verbose = False, train=True):\n",
    "        \"\"\"\n",
    "            Apply the action defined by action_id.\n",
    "            Changes the current_state\n",
    "            Returns (new_state,reward of the action, Done boolean, debug info)\n",
    "        \"\"\"\n",
    "        if not action_id in self.check_actions_possible():\n",
    "            return (None, -1000, False, {}, action_id)\n",
    "\n",
    "        params_actual = self.state\n",
    "        action = self.actions[action_id]\n",
    "        new_action = action\n",
    "        action_weight = 1\n",
    "        if esp <=exp['e_start'] and train==True and exp['baseline']==False:\n",
    "            queue_list = list(self.d)\n",
    "            new_action_id, action_weight=heuristic_weight1(queue_list, exp['heuristic_queue'], exp['max_skip'])\n",
    "            \n",
    "            if new_action_id != -1:\n",
    "                new_action = self.actions[new_action_id]\n",
    "                status= self.check_if_action_possible(np.array(new_action)*action_weight)\n",
    "                if status == False:\n",
    "                    action_weight = 1\n",
    "                    new_action = action\n",
    "                else:\n",
    "                    action_id=new_action_id\n",
    "                \n",
    "         \n",
    "            else:\n",
    "                new_action = action\n",
    "                action_weight=1\n",
    "                \n",
    "        if esp<=exp['e_stop']:# stop applying the heuristic\n",
    "            new_action = action\n",
    "            action_weight=1\n",
    "\n",
    "        new_params = np.add(params_actual, (np.array(new_action)*action_weight))\n",
    "        for r in self.job.runs.T:\n",
    "            if np.array_equal(self.job.runs['collector'][r], new_params):\n",
    "                self.state, self.reward = self.job.getStateAndRewardById(r)\n",
    "                if verbose:\n",
    "                    print(\"New state : {0} {1} duration {2}\".format(r,self.state[1],self.job.runs['duration'][r]))\n",
    "                return (self.state, self.reward, self.decide_done(action_id), {}, action_id)\n",
    "\n",
    "        raise Exception('Pas normal pour le moment !!!')\n",
    "        return None\n",
    "    \n",
    "    def reset_env(self):\n",
    "        \"\"\" Initialize the environment to a random job \"\"\"\n",
    "        run_id = np.random.choice(self.job.runs.T.keys())\n",
    "        self.state, self.reward = self.job.getStateAndRewardById(run_id)\n",
    "        \n",
    "        self.previous_action = None\n",
    "        self.nb_actions = 0\n",
    "        \n",
    "        return self.state\n",
    "    \n",
    "    def set_state(self,state):\n",
    "        self.reset_env()\n",
    "        self.state = state\n",
    "        return state\n",
    "    \n",
    "    def decide_done(self,a):\n",
    "        \"\"\"\n",
    "            Decide when the environment is done:\n",
    "            - no convergence : more than 50 actions since reset\n",
    "            - stay on the same state more than twice            \n",
    "        \"\"\"\n",
    "        self.nb_actions+=1\n",
    "        action = self.actions[a]\n",
    "        if exp['mode']==EPISODE:\n",
    "            done = self.nb_actions > 50\n",
    "        else:\n",
    "            done = self.nb_actions > int(exp['num_step'])\n",
    "        return done\n",
    "    \n",
    "    def list_states(self):\n",
    "        params = np.array(self.job.runs['collector'])\n",
    "        return params\n",
    "        \n",
    "\n",
    "env = Environment(job1)"
   ]
  },
  {
   "cell_type": "code",
   "execution_count": 56,
   "metadata": {},
   "outputs": [
    {
     "data": {
      "text/plain": [
       "array([0, 1, 2, 3, 4])"
      ]
     },
     "execution_count": 56,
     "metadata": {},
     "output_type": "execute_result"
    }
   ],
   "source": [
    "env.check_actions_possible()"
   ]
  },
  {
   "cell_type": "code",
   "execution_count": 57,
   "metadata": {},
   "outputs": [],
   "source": [
    "import keras\n",
    "from keras.models import Model\n",
    "from keras.preprocessing import sequence\n",
    "from keras.models import Sequential\n",
    "from keras.layers import Dense, Masking, CuDNNLSTM, Dropout, Activation, Input, Concatenate"
   ]
  },
  {
   "cell_type": "code",
   "execution_count": 58,
   "metadata": {},
   "outputs": [],
   "source": [
    "from keras import backend as K\n",
    "import tensorflow as tf\n",
    "\n",
    "# # allocate only a part of the GPU\n",
    "# config = tf.ConfigProto()\n",
    "# config.gpu_options.per_process_gpu_memory_fraction = 0.05\n",
    "# config.log_device_placement = True\n",
    "# config.allow_soft_placement = True\n",
    "# sess = tf.Session(config=config)\n",
    "# K.set_session(sess)"
   ]
  },
  {
   "cell_type": "markdown",
   "metadata": {},
   "source": [
    "# Deep Q learning"
   ]
  },
  {
   "cell_type": "code",
   "execution_count": 59,
   "metadata": {},
   "outputs": [],
   "source": [
    "class ModelDQN():\n",
    "    def __init__(self, nb_metrics, nb_actions):\n",
    "        self.nb_metric = nb_metrics\n",
    "        self.nb_actions = nb_actions\n",
    "        self.model = self.defModel(nb_metrics, nb_actions)\n",
    "\n",
    "    @staticmethod\n",
    "    def huber_loss(y_true, y_pred):\n",
    "        HUBER_LOSS_DELTA = 1.0\n",
    "        err = y_true - y_pred\n",
    "\n",
    "        cond = K.abs(err) < HUBER_LOSS_DELTA\n",
    "        L2 = 0.5 * K.square(err)\n",
    "        L1 = HUBER_LOSS_DELTA * (K.abs(err) - 0.5 * HUBER_LOSS_DELTA)\n",
    "\n",
    "        # Keras does not cover where function in tensorflow :-(\n",
    "        loss = tf.where(cond, L2, L1)\n",
    "\n",
    "        return K.mean(loss)\n",
    "\n",
    "    @staticmethod\n",
    "    def defModel(nb_metrics, nb_actions):\n",
    "        \"\"\"\n",
    "            Definition of the keras model\n",
    "            TODO : stateful\n",
    "        \"\"\"\n",
    "#         seq = Input(shape=(None, nb_metrics))\n",
    "        params = Input(shape=(2,))\n",
    "\n",
    "        params_part = Dense(5)(params)\n",
    "#         params_part = Dropout(0.2)(params_part)\n",
    "        params_part = Dense(10)(params_part)\n",
    "        params_part = Dense(10)(params_part)\n",
    "        params_part = Dense(10)(params_part)\n",
    "\n",
    "\n",
    "        out = Dense(nb_actions)(params_part)\n",
    "\n",
    "        model = Model(inputs=[params], outputs=[out])\n",
    "        model.compile(optimizer='RMSprop', loss='mse', metrics=['mae'])\n",
    "        return model\n",
    "\n",
    "    def transformInput(self, seq, params):\n",
    "        \"\"\"\n",
    "            Transform the sequence to put into the model\n",
    "        \"\"\"\n",
    "        return np.array([params])\n",
    "\n",
    "    def fit(self, state, vector, epochs=1, verbose=0):\n",
    "        \"\"\"\n",
    "            Fit the model with the given state\n",
    "        \"\"\"\n",
    "        params = self.transformInput(None, state)\n",
    "        h = self.model.fit(params, np.array(\n",
    "            [vector]), epochs=epochs, batch_size=1, verbose=verbose)\n",
    "        return h\n",
    "\n",
    "    def prepareBatchSeq(self, seqs):\n",
    "        \"\"\"\n",
    "            Pad the sequences of a batch to have the same length\n",
    "            !!!!!! todo : modifier pour le statefull !!!!!! \n",
    "        \"\"\"\n",
    "        max_len = max([len(x) for x in seqs])\n",
    "        return sequence.pad_sequences(seqs, maxlen=max_len, dtype='float64', padding='post', value=-1.0)\n",
    "\n",
    "    def fit_batch(self, state, vector, batch_size, epochs=1, verbose=0):\n",
    "        \"\"\"\n",
    "            Fit the model with the given state\n",
    "        \"\"\"\n",
    "        params = np.array(state)\n",
    "#         seq = self.prepareBatchSeq(seq)\n",
    "        params = [np.array(x) for x in params]\n",
    "        params = np.array(params)\n",
    "        vector = np.array(vector)\n",
    "        h = self.model.fit(params, vector, epochs=epochs,\n",
    "                           batch_size=batch_size, verbose=verbose)\n",
    "        return h\n",
    "\n",
    "    def predict(self, state, batch_size=1):\n",
    "        \"\"\"\n",
    "            Predict the vector for a given state\n",
    "        \"\"\"\n",
    "        params = self.transformInput(None, state)\n",
    "        return self.model.predict(params, batch_size)\n",
    "    \n",
    "    def predict_batch(self, state):\n",
    "        \"\"\"\n",
    "            Predict the vector for a given state\n",
    "        \"\"\"\n",
    "#         params = self.transformInput(None, state)\n",
    "        return self.model.predict(state, batch_size=len(state))\n",
    "\n",
    "\n",
    "model = ModelDQN(10, len(env.actions))"
   ]
  },
  {
   "cell_type": "code",
   "execution_count": 60,
   "metadata": {},
   "outputs": [
    {
     "name": "stdout",
     "output_type": "stream",
     "text": [
      "_________________________________________________________________\n",
      "Layer (type)                 Output Shape              Param #   \n",
      "=================================================================\n",
      "input_4 (InputLayer)         (None, 2)                 0         \n",
      "_________________________________________________________________\n",
      "dense_16 (Dense)             (None, 5)                 15        \n",
      "_________________________________________________________________\n",
      "dense_17 (Dense)             (None, 10)                60        \n",
      "_________________________________________________________________\n",
      "dense_18 (Dense)             (None, 10)                110       \n",
      "_________________________________________________________________\n",
      "dense_19 (Dense)             (None, 10)                110       \n",
      "_________________________________________________________________\n",
      "dense_20 (Dense)             (None, 5)                 55        \n",
      "=================================================================\n",
      "Total params: 350\n",
      "Trainable params: 350\n",
      "Non-trainable params: 0\n",
      "_________________________________________________________________\n"
     ]
    }
   ],
   "source": [
    "model.model.summary()"
   ]
  },
  {
   "cell_type": "code",
   "execution_count": 61,
   "metadata": {},
   "outputs": [],
   "source": [
    "import time"
   ]
  },
  {
   "cell_type": "code",
   "execution_count": 62,
   "metadata": {},
   "outputs": [],
   "source": [
    "class Memory:\n",
    "    def __init__(self, capacity):\n",
    "        self.capacity = capacity\n",
    "        self.memory = list()\n",
    "        self.memory_actions = dict()\n",
    "        self.memory_best = list()  # contains the list action 0 of the best states\n",
    "\n",
    "    def append(self, state, action, reward, next_state, done):\n",
    "        if len(self.memory) > self.capacity:\n",
    "            self.pop()\n",
    "        self.memory.append((state, action, reward, next_state, done))\n",
    "\n",
    "        ## append in dict\n",
    "        key_dict = state.tobytes()\n",
    "        if not key_dict in self.memory_actions.keys():\n",
    "            self.memory_actions[key_dict] = np.zeros(5)  # todo use variable for nb_actions\n",
    "        self.memory_actions[key_dict][action] += 1\n",
    "\n",
    "        # new best list: if best empty or if better than best\n",
    "        if len(self.memory_best) == 0 or self.memory_best[0][2] < reward:\n",
    "            self.memory_best = list()\n",
    "            self.memory_best.append((next_state, 0, reward, next_state, False))\n",
    "        # if equal to best reward : append to the list\n",
    "        elif len(self.memory_best) > 0 and self.memory_best[0][2] == reward:\n",
    "            self.memory_best.append((next_state, 0, reward, next_state, False))\n",
    "\n",
    "    def pop(self):\n",
    "        old_elem = self.memory[0]\n",
    "        state_key = old_elem[0].tobytes()\n",
    "        action = old_elem[1]\n",
    "        self.memory.pop(0)\n",
    "        self.memory_actions[state_key][action] -= 1\n",
    "\n",
    "    def sample(self, n):\n",
    "        # select n-1 elements from memory\n",
    "        idxs = np.random.choice(np.arange(len(self.memory)), size=n-1)\n",
    "\n",
    "        # select 1 element from best list\n",
    "        idx_best = np.random.choice(np.arange(len(self.memory_best)), size=1)\n",
    "\n",
    "        mem_samples = np.array(self.memory)[idxs]\n",
    "        mem_best = np.array(self.memory_best)[idx_best]\n",
    "        full = np.append(mem_samples,mem_best,axis=0)\n",
    "        return full\n",
    "\n",
    "    def listActionsForState(self, state):\n",
    "        state_key = np.array(state).tobytes()\n",
    "        actions = []\n",
    "        if state_key in self.memory_actions.keys():\n",
    "            actions = np.where(self.memory_actions[state_key] > 0)[0]\n",
    "\n",
    "        return np.array(actions)"
   ]
  },
  {
   "cell_type": "code",
   "execution_count": 63,
   "metadata": {},
   "outputs": [],
   "source": [
    "import time\n",
    "from time import strftime"
   ]
  },
  {
   "cell_type": "code",
   "execution_count": 64,
   "metadata": {},
   "outputs": [],
   "source": [
    "class AgentDoubleQ:\n",
    "    def __init__(self, env, model1, model2):\n",
    "        self.memory = Memory(10000)\n",
    "        self.sample_batch_size = 32\n",
    "        self.env = env\n",
    "        self.model1 = model1\n",
    "        self.model2 = model2 # target net\n",
    "        \n",
    "    def decision(self, state, exploration_rate):\n",
    "        if np.random.random() < exploration_rate:\n",
    "            possible_actions = np.arange(len(self.env.def_actions()))\n",
    "            actionDone = self.memory.listActionsForState(state)\n",
    "            setActions = np.setdiff1d(possible_actions, actionDone)\n",
    "            if len(setActions) == 0:\n",
    "                setActions = possible_actions          \n",
    "            return np.random.choice(setActions)\n",
    "        else:\n",
    "            # choose the max reward in the possible actions\n",
    "            values = self.model1.predict(state)[0]\n",
    "            return np.argmax(values)\n",
    "        \n",
    "    def remember(self, state, action, reward, next_state, done):\n",
    "        \"\"\"\n",
    "            Put the state, the action, the new state and the reward into the memory\n",
    "        \"\"\"\n",
    "        if not next_state is None:\n",
    "            next_state=next_state\n",
    "        self.memory.append(\n",
    "            np.array(state), action, reward, next_state, done)\n",
    "        \n",
    "    def replay(self):\n",
    "        batch = self.memory.sample(self.sample_batch_size)\n",
    "\n",
    "        no_state = np.zeros(2)\n",
    "        states1 = np.array([i for i in batch[:,0]])\n",
    "        #print(states1)\n",
    "        states2 = np.array([ (no_state if i is None else i) for i in batch[:,3] ])\n",
    "\n",
    "        p_state1 = self.model2.predict_batch(states1)\n",
    "        p_state2 = self.model2.predict_batch(states2)\n",
    "        pmax_state2 = self.model1.predict_batch(states2)\n",
    "\n",
    "        batch_states = []\n",
    "        batch_actions = []\n",
    "        for i,(state, action, reward, next_state, done) in enumerate(batch):\n",
    "            gama = 0.9\n",
    "            if next_state is None:\n",
    "                target = reward\n",
    "            else:\n",
    "                b_action = np.argmax(pmax_state2[i])\n",
    "                target = reward + gama * p_state2[i][b_action]\n",
    "\n",
    "            Q = p_state1[i]\n",
    "            Q[action] = target\n",
    "            batch_states.append(state)\n",
    "            batch_actions.append(Q)\n",
    "            \n",
    "        self.model1.fit_batch(batch_states, batch_actions, self.sample_batch_size)\n",
    "    \n",
    "    def run(self, start_state, num_episode):\n",
    "        MAX_EPSILON = 1\n",
    "        MIN_EPSILON = 0.01\n",
    "        LAMBDA = exp['lambda']  # speed of decay\n",
    "        \n",
    "        states_visited = [ list() for _ in range(num_episode)]\n",
    "        index_max = np.ones(num_episode)*51\n",
    "        sum_reward = np.zeros(num_episode)\n",
    "        nb_max = np.zeros(num_episode)\n",
    "        \n",
    "        UPDATE_TARGET_FREQUENCY = 100\n",
    "        steps = 0\n",
    "        \n",
    "        for i in range(num_episode):\n",
    "            print(\"Episode {0} out of {1}\".format(i+1, num_episode))\n",
    "            if start_state is None:\n",
    "                state = self.env.reset_env()\n",
    "            else:\n",
    "                state = self.env.set_state(start_state)\n",
    "                \n",
    "            done = False\n",
    "            #exploration_rate = MIN_EPSILON + (MAX_EPSILON - MIN_EPSILON) * math.exp(-LAMBDA * i)\n",
    "            exploration_rate = linear_sched(i)\n",
    "            states_visited[i].append(state)\n",
    "            nb_actions = 0\n",
    "            while not done:\n",
    "                action = self.decision(state, exploration_rate)\n",
    "                steps += 1\n",
    "                next_state, reward, done, _, action = self.env.do_action(action, exploration_rate)\n",
    "                sum_reward[i]+=reward\n",
    "                \n",
    "                if next_state is not None:\n",
    "                    intermediate_states = list(get_inter_states(state,next_state))\n",
    "                    if len(intermediate_states)==1:\n",
    "                        intermediate_states.append(intermediate_states[0])\n",
    "                    for st_id, inter_state in enumerate(intermediate_states):\n",
    "                        if st_id < len(intermediate_states)-1:\n",
    "                            current_state = intermediate_states[st_id]                       \n",
    "                            new_state = intermediate_states[st_id+1]\n",
    "                            r = env.get_reward(new_state)\n",
    "                            self.remember(current_state, action, r, new_state, False)\n",
    "                    \n",
    "                    states_visited[i].append(state)\n",
    "                    self.env.d.append((state,reward))  \n",
    "                    state = next_state\n",
    "                    #self.remember(state, action, reward, next_state, done)\n",
    "                #self.replay()\n",
    "                if i > 50:\n",
    "                    self.replay()\n",
    "                \n",
    "                if steps % UPDATE_TARGET_FREQUENCY == 0:\n",
    "                    self.model2.model.set_weights(self.model1.model.get_weights())\n",
    "                \n",
    "                nb_actions += 1\n",
    "                if reward == 50.0 and index_max[i] == 51:\n",
    "                    index_max[i] = nb_actions\n",
    "                if reward == 50.0:\n",
    "                    nb_max[i] += 1\n",
    "                    \n",
    "            #exploration_rate = MIN_EPSILON + (MAX_EPSILON - MIN_EPSILON) * math.exp(-LAMBDA * i)\n",
    "                \n",
    "        return {\n",
    "            'index_max_reward': index_max,\n",
    "            'states_visited':states_visited,\n",
    "            'nb_max' : nb_max,\n",
    "            'sum_rewards' : sum_reward\n",
    "        }\n",
    "        \n"
   ]
  },
  {
   "cell_type": "code",
   "execution_count": 65,
   "metadata": {},
   "outputs": [
    {
     "name": "stdout",
     "output_type": "stream",
     "text": [
      "Episode 1 out of 10\n",
      "Episode 2 out of 10\n",
      "Episode 3 out of 10\n",
      "Episode 4 out of 10\n",
      "Episode 5 out of 10\n",
      "Episode 6 out of 10\n",
      "Episode 7 out of 10\n",
      "Episode 8 out of 10\n",
      "Episode 9 out of 10\n",
      "Episode 10 out of 10\n",
      "done 7.232897178332011\n"
     ]
    }
   ],
   "source": [
    "model1 = ModelDQN(10, len(env.actions))\n",
    "model2 = ModelDQN(10, len(env.actions))\n",
    "a = AgentDoubleQ(env, model1, model2)\n",
    "states = env.list_states()\n",
    "t0 = time.time()\n",
    "res = a.run(start_state=(states[0]), num_episode=exp['epi'])\n",
    "t1 = time.time()\n",
    "print(\"done {0}\".format((t1-t0)/60))"
   ]
  },
  {
   "cell_type": "code",
   "execution_count": 73,
   "metadata": {},
   "outputs": [
    {
     "data": {
      "text/plain": [
       "[[-50, -50],\n",
       " [-50, -50],\n",
       " [-49, -50],\n",
       " [-50, -50],\n",
       " [-50, -49],\n",
       " [-49, -49],\n",
       " [-49, -48],\n",
       " [-49, -47],\n",
       " [-48, -47],\n",
       " [-47, -47],\n",
       " [-46, -47],\n",
       " [-47, -47],\n",
       " [-47, -46],\n",
       " [-47, -46],\n",
       " [-46, -46],\n",
       " [-46, -46],\n",
       " [-45, -46],\n",
       " [-44, -46],\n",
       " [-45, -46],\n",
       " [-44, -46],\n",
       " [-43, -46],\n",
       " [-42, -46],\n",
       " [-42, -47],\n",
       " [-41, -47],\n",
       " [-41, -48],\n",
       " [-41, -49],\n",
       " [-42, -49],\n",
       " [-43, -49],\n",
       " [-43, -48],\n",
       " [-44, -48],\n",
       " [-43, -48],\n",
       " [-43, -49],\n",
       " [-43, -49],\n",
       " [-44, -49],\n",
       " [-43, -49],\n",
       " [-43, -50],\n",
       " [-42, -50],\n",
       " [-43, -50],\n",
       " [-44, -50],\n",
       " [-45, -50],\n",
       " [-45, -50],\n",
       " [-45, -49],\n",
       " [-45, -49],\n",
       " [-45, -50],\n",
       " [-44, -50],\n",
       " [-43, -50],\n",
       " [-43, -50],\n",
       " [-42, -50],\n",
       " [-43, -50],\n",
       " [-42, -50],\n",
       " [-41, -50],\n",
       " [-40, -50]]"
      ]
     },
     "execution_count": 73,
     "metadata": {},
     "output_type": "execute_result"
    }
   ],
   "source": [
    "res['states_visited'][2]"
   ]
  },
  {
   "cell_type": "code",
   "execution_count": 72,
   "metadata": {},
   "outputs": [
    {
     "name": "stderr",
     "output_type": "stream",
     "text": [
      "/home_nfs/djanden/ioi/exp/iopa/libiopa/experiment_design/work/lib/python3.6/site-packages/matplotlib/figure.py:459: UserWarning: matplotlib is currently using a non-GUI backend, so cannot show the figure\n",
      "  \"matplotlib is currently using a non-GUI backend, \"\n"
     ]
    },
    {
     "data": {
      "image/png": "[encoded data removed]",
      "text/plain": [
       "<Figure size 432x432 with 2 Axes>"
      ]
     },
     "metadata": {},
     "output_type": "display_data"
    }
   ],
   "source": [
    "contoursteps(x1,x2, data, res['states_visited'][2])"
   ]
  },
  {
   "cell_type": "code",
   "execution_count": 68,
   "metadata": {},
   "outputs": [],
   "source": [
    "import pickle\n",
    "def save_results(filename, data):\n",
    "    filename = 'trained_results/'+filename +'.pkl'\n",
    "    with open(filename, 'wb') as f:\n",
    "        pickle.dump(data, f, protocol=pickle.HIGHEST_PROTOCOL)\n",
    "        \n",
    "    return True\n",
    "def load_results(filename):\n",
    "    filename = 'trained_results/'+filename +'.pkl'\n",
    "    with open(filename, 'rb') as f:\n",
    "        b = pickle.load(f)\n",
    "    return b"
   ]
  },
  {
   "cell_type": "code",
   "execution_count": 69,
   "metadata": {},
   "outputs": [],
   "source": [
    "#save_results('deep2d_b_200',res)"
   ]
  },
  {
   "cell_type": "code",
   "execution_count": 70,
   "metadata": {},
   "outputs": [
    {
     "ename": "FileNotFoundError",
     "evalue": "[Errno 2] No such file or directory: 'trained_results/deep2d_b_200.pkl'",
     "output_type": "error",
     "traceback": [
      "\u001b[0;31m---------------------------------------------------------------------------\u001b[0m",
      "\u001b[0;31mFileNotFoundError\u001b[0m                         Traceback (most recent call last)",
      "\u001b[0;32m<ipython-input-70-b9d8b751e9a1>\u001b[0m in \u001b[0;36m<module>\u001b[0;34m()\u001b[0m\n\u001b[0;32m----> 1\u001b[0;31m \u001b[0mrd\u001b[0m \u001b[0;34m=\u001b[0m \u001b[0mload_results\u001b[0m\u001b[0;34m(\u001b[0m\u001b[0;34m'deep2d_b_200'\u001b[0m\u001b[0;34m)\u001b[0m\u001b[0;34m\u001b[0m\u001b[0m\n\u001b[0m",
      "\u001b[0;32m<ipython-input-68-ad4d1043fd33>\u001b[0m in \u001b[0;36mload_results\u001b[0;34m(filename)\u001b[0m\n\u001b[1;32m      8\u001b[0m \u001b[0;32mdef\u001b[0m \u001b[0mload_results\u001b[0m\u001b[0;34m(\u001b[0m\u001b[0mfilename\u001b[0m\u001b[0;34m)\u001b[0m\u001b[0;34m:\u001b[0m\u001b[0;34m\u001b[0m\u001b[0m\n\u001b[1;32m      9\u001b[0m     \u001b[0mfilename\u001b[0m \u001b[0;34m=\u001b[0m \u001b[0;34m'trained_results/'\u001b[0m\u001b[0;34m+\u001b[0m\u001b[0mfilename\u001b[0m \u001b[0;34m+\u001b[0m\u001b[0;34m'.pkl'\u001b[0m\u001b[0;34m\u001b[0m\u001b[0m\n\u001b[0;32m---> 10\u001b[0;31m     \u001b[0;32mwith\u001b[0m \u001b[0mopen\u001b[0m\u001b[0;34m(\u001b[0m\u001b[0mfilename\u001b[0m\u001b[0;34m,\u001b[0m \u001b[0;34m'rb'\u001b[0m\u001b[0;34m)\u001b[0m \u001b[0;32mas\u001b[0m \u001b[0mf\u001b[0m\u001b[0;34m:\u001b[0m\u001b[0;34m\u001b[0m\u001b[0m\n\u001b[0m\u001b[1;32m     11\u001b[0m         \u001b[0mb\u001b[0m \u001b[0;34m=\u001b[0m \u001b[0mpickle\u001b[0m\u001b[0;34m.\u001b[0m\u001b[0mload\u001b[0m\u001b[0;34m(\u001b[0m\u001b[0mf\u001b[0m\u001b[0;34m)\u001b[0m\u001b[0;34m\u001b[0m\u001b[0m\n\u001b[1;32m     12\u001b[0m     \u001b[0;32mreturn\u001b[0m \u001b[0mb\u001b[0m\u001b[0;34m\u001b[0m\u001b[0m\n",
      "\u001b[0;31mFileNotFoundError\u001b[0m: [Errno 2] No such file or directory: 'trained_results/deep2d_b_200.pkl'"
     ]
    }
   ],
   "source": [
    "rd = load_results('deep2d_b_200')"
   ]
  },
  {
   "cell_type": "code",
   "execution_count": null,
   "metadata": {},
   "outputs": [],
   "source": [
    "contoursteps(x1,x2, data, rd['states_visited'][15])"
   ]
  },
  {
   "cell_type": "code",
   "execution_count": null,
   "metadata": {},
   "outputs": [],
   "source": [
    "nb = len(res['index_max_reward'])\n",
    "t = np.arange(nb)\n",
    "data1 = res['index_max_reward']\n",
    "MAX_EPSILON = 1\n",
    "MIN_EPSILON = 0.01\n",
    "LAMBDA = 0.01 # speed of decay\n",
    "data2 = [MIN_EPSILON + (MAX_EPSILON - MIN_EPSILON) * math.exp(-LAMBDA * i) for i in range(nb)]\n",
    "\n",
    "fig, ax1 = plt.subplots()\n",
    "\n",
    "color = 'tab:blue'\n",
    "ax1.set_xlabel('episode')\n",
    "ax1.set_ylabel('steps', color=color)\n",
    "ax1.scatter(t, data1, color=color, s=3)\n",
    "ax1.tick_params(axis='y', labelcolor=color)\n",
    "\n",
    "ax2 = ax1.twinx()  # instantiate a second axes that shares the same x-axis\n",
    "\n",
    "color = 'tab:red'\n",
    "ax2.set_ylabel('epsilon', color=color)  # we already handled the x-label with ax1\n",
    "ax2.plot(t, data2, color=color)\n",
    "ax2.tick_params(axis='y', labelcolor=color)\n",
    "ax1.set_title('Variation of the number of step to get the optimum with epsilon \\nstart : {0} , lambda={1}'.format(states[80],LAMBDA))\n",
    "fig.tight_layout()  # otherwise the right y-label is slightly clipped\n",
    "# plt.legend()\n",
    "plt.show()"
   ]
  },
  {
   "cell_type": "code",
   "execution_count": null,
   "metadata": {},
   "outputs": [],
   "source": [
    "nb = len(res['index_max_reward'])\n",
    "t = np.arange(nb)\n",
    "data1 = res['nb_max']\n",
    "\n",
    "MAX_EPSILON = 1\n",
    "MIN_EPSILON = 0.01\n",
    "LAMBDA = 0.01 # speed of decay\n",
    "data2 = [MIN_EPSILON + (MAX_EPSILON - MIN_EPSILON) * math.exp(-LAMBDA * step) for step in range(nb)]\n",
    "\n",
    "fig, ax1 = plt.subplots()\n",
    "\n",
    "color = 'tab:blue'\n",
    "ax1.set_xlabel('episode')\n",
    "ax1.set_ylabel('steps', color=color)\n",
    "ax1.scatter(t, data1, color=color, s=3)\n",
    "ax1.tick_params(axis='y', labelcolor=color)\n",
    "\n",
    "ax2 = ax1.twinx()  # instantiate a second axes that shares the same x-axis\n",
    "\n",
    "color = 'tab:red'\n",
    "ax2.set_ylabel('epsilon', color=color)  # we already handled the x-label with ax1\n",
    "ax2.plot(t, data2, color=color)\n",
    "ax2.tick_params(axis='y', labelcolor=color)\n",
    "ax1.set_title('Variation of the number of step the agent stayed in the optimum per episode \\nstart : {0} '.format(states[0]))\n",
    "fig.tight_layout()  # otherwise the right y-label is slightly clipped\n",
    "# plt.legend()\n",
    "plt.show()"
   ]
  },
  {
   "cell_type": "code",
   "execution_count": null,
   "metadata": {},
   "outputs": [],
   "source": [
    "nb = len(res['index_max_reward'])\n",
    "t = np.arange(nb)\n",
    "data1 = res['sum_rewards']\n",
    "\n",
    "MAX_EPSILON = 1\n",
    "MIN_EPSILON = 0.01\n",
    "LAMBDA = 0.01 # speed of decay\n",
    "data2 = [MIN_EPSILON + (MAX_EPSILON - MIN_EPSILON) * math.exp(-LAMBDA * step) for step in range(nb)]\n",
    "\n",
    "fig, ax1 = plt.subplots()\n",
    "\n",
    "color = 'tab:blue'\n",
    "ax1.set_xlabel('episode')\n",
    "ax1.set_ylabel('sum', color=color)\n",
    "ax1.scatter(t, data1, color=color, s=3)\n",
    "ax1.tick_params(axis='y', labelcolor=color)\n",
    "\n",
    "ax2 = ax1.twinx()  # instantiate a second axes that shares the same x-axis\n",
    "\n",
    "color = 'tab:red'\n",
    "ax2.set_ylabel('epsilon', color=color)  # we already handled the x-label with ax1\n",
    "ax2.plot(t, data2, color=color)\n",
    "ax2.tick_params(axis='y', labelcolor=color)\n",
    "ax1.set_title('Sum of rewards per episode \\nstart : {0} '.format(states[80]))\n",
    "fig.tight_layout()  # otherwise the right y-label is slightly clipped\n",
    "# plt.legend()\n",
    "plt.show()"
   ]
  },
  {
   "cell_type": "code",
   "execution_count": null,
   "metadata": {},
   "outputs": [],
   "source": [
    "from ipywidgets import interact, interactive, fixed, interact_manual\n",
    "import ipywidgets as widgets"
   ]
  },
  {
   "cell_type": "code",
   "execution_count": null,
   "metadata": {},
   "outputs": [],
   "source": [
    "dimFixe = 1 # dimension fixe : 1 for binsize\n",
    "fixVal = states[1][80][dimFixe]\n",
    "idx = np.where(np.array([i for i in job1.runs['accelerators']])[:,dimFixe]==fixVal)[0]\n",
    "accels = [ i for i in np.array(job1.runs['accelerators'])[idx]]\n",
    "accels = np.delete(accels, dimFixe, 1)\n",
    "\n",
    "duration = 1/(np.array(job1.runs['durationNorm'])[idx]+0.02)"
   ]
  },
  {
   "cell_type": "code",
   "execution_count": null,
   "metadata": {
    "scrolled": false
   },
   "outputs": [],
   "source": [
    "def plot(list_episodes,index_episode,all_before=False,indicator='r-'):\n",
    "    Z = duration.reshape(8, 5)\n",
    "    fig, ax = plt.subplots()\n",
    "    c = ax.pcolor(Z)\n",
    "    fig.colorbar(c, ax=ax)\n",
    "\n",
    "    if all_before == False:\n",
    "        episodes = [list_episodes[index_episode]]\n",
    "    else:\n",
    "        episodes = np.array(list_episodes)[np.arange(index_episode+1)]\n",
    "        \n",
    "    for e in episodes:\n",
    "        points = np.delete(np.array(e),dimFixe,1)\n",
    "        ax.plot(points[:,0]/2-0.5,points[:,1]/2,indicator,alpha=0.5*1/len(episodes)+0.2)\n",
    "    plt.show()\n",
    "\n",
    "interact(plot, \n",
    "         list_episodes=fixed(res['states_visited']), \n",
    "         index_episode=widgets.IntSlider(min=0,max=len(res['states_visited'])-1,step=1,value=10),\n",
    "         indicator = ['r-','r+']\n",
    "        );"
   ]
  },
  {
   "cell_type": "code",
   "execution_count": null,
   "metadata": {},
   "outputs": [],
   "source": [
    "## 50 Episodes\n",
    "## liste des états dans list_states\n",
    "s = np.array(env.set_state((states[0][80], states[1][80])))\n",
    "list_states = []\n",
    "list_states.append(s[1])\n",
    "done = False\n",
    "while not done:\n",
    "    action = a.decision(s,0)\n",
    "    next_s, r, done, _ = env.do_action(action)\n",
    "    print(r)\n",
    "    if not next_s is None:\n",
    "        list_states.append(next_s[1])\n",
    "    s = next_s\n",
    "plot([list_states],0,all_before=False)"
   ]
  }
 ],
 "metadata": {
  "kernelspec": {
   "display_name": "work",
   "language": "python",
   "name": "work"
  },
  "language_info": {
   "codemirror_mode": {
    "name": "ipython",
    "version": 3
   },
   "file_extension": ".py",
   "mimetype": "text/x-python",
   "name": "python",
   "nbconvert_exporter": "python",
   "pygments_lexer": "ipython3",
   "version": "3.6.3"
  }
 },
 "nbformat": 4,
 "nbformat_minor": 2
}
