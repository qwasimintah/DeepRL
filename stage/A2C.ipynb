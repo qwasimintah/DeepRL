{
 "cells": [
  {
   "cell_type": "code",
   "execution_count": 146,
   "metadata": {},
   "outputs": [],
   "source": [
    "# %matplotlib notebook\n",
    "# %pylab"
   ]
  },
  {
   "cell_type": "code",
   "execution_count": 147,
   "metadata": {},
   "outputs": [],
   "source": [
    "# import os\n",
    "# os.environ[\"CUDA_DEVICE_ORDER\"] = \"PCI_BUS_ID\"   # see issue #152\n",
    "# os.environ[\"CUDA_VISIBLE_DEVICES\"] = \"0\""
   ]
  },
  {
   "cell_type": "markdown",
   "metadata": {},
   "source": [
    "### Generating the 2D Data"
   ]
  },
  {
   "cell_type": "code",
   "execution_count": 148,
   "metadata": {},
   "outputs": [],
   "source": [
    "import pickle\n",
    "import numpy as np\n",
    "from scipy.spatial import distance\n",
    "import matplotlib.pyplot as plt\n",
    "import matplotlib.colors as colors\n",
    "import matplotlib.cm as cmx\n",
    "import mpl_toolkits.mplot3d.axes3d as p3\n",
    "from matplotlib.animation import FuncAnimation\n",
    "import pandas as pd\n",
    "import math\n",
    "from mpl_toolkits.mplot3d import Axes3D\n",
    "import itertools"
   ]
  },
  {
   "cell_type": "markdown",
   "metadata": {},
   "source": [
    "### Experiment Function"
   ]
  },
  {
   "cell_type": "code",
   "execution_count": 149,
   "metadata": {},
   "outputs": [],
   "source": [
    "STEP ='STEP'\n",
    "EPISODE = 'EPISODE'\n",
    "QUADRATIC='QUADRATIC'\n",
    "COSINE ='COSINE'\n",
    "CURRENT='CURRENT'# reward in state\n",
    "DELAYED='DELAYED' # discounted future reward\n",
    "CURRENT_DELAYED ='CURRENT_DELAYED' # current reward + discounted future reward"
   ]
  },
  {
   "cell_type": "code",
   "execution_count": 150,
   "metadata": {},
   "outputs": [],
   "source": [
    "from experiment import *\n",
    "name = \"LimitedJump_1000_1DQ\"\n",
    "parameters={\n",
    "            \"exp\": name,            #name of experiment\n",
    "            \"mode\": EPISODE,           # two modes of execution, 1 episode(1000steps) or N episodes -[step, episode] \n",
    "            \"data_dimension\": 2,    # dimension of data, 1 to N Dimension\n",
    "            \"function\":QUADRATIC,   # quadratic or cosine\n",
    "            \"queue_length\": 5,      # max length of queue\n",
    "            \"heuristic_queue\":2,    # sequeuce length that is considered by the heuristic\n",
    "            \"discount_factor\": 0.9, # discount factor               \n",
    "            \"max_skip\":1,           # maximum allowed skip \n",
    "            \"e_start\": 1,           # episilon value to start applying heuristic\n",
    "            \"e_stop\":0.1,             # episilon value to stop applying heuristic\n",
    "            \"epi\": 1000,             # number of episodes\n",
    "            \"learning_rate\": 0.9,   # learning rate\n",
    "            \"reward\":CURRENT,       # current/delayed/current_delayed\n",
    "            \"lambda\":0.01,\n",
    "            \"min_skip\":3, \n",
    "            \"baseline\":True,        # parameter to switch to baseline model(without heuristic)\n",
    "            \"num_step\":1000\n",
    "        }\n",
    "\n",
    "#create_experiment(parameters)"
   ]
  },
  {
   "cell_type": "code",
   "execution_count": 151,
   "metadata": {},
   "outputs": [],
   "source": [
    "exp = parameters"
   ]
  },
  {
   "cell_type": "code",
   "execution_count": 152,
   "metadata": {},
   "outputs": [],
   "source": [
    "def styblinski_tang(x):\n",
    "    \"\"\"\n",
    "    compute styblinski-tang optimization test function\n",
    "\n",
    "    Args:\n",
    "        x(array): array to compute the styblinki_tang value of\n",
    "\n",
    "    Returs:\n",
    "        the evaluated value of styblinki_tang function of x\n",
    "    \"\"\"\n",
    "    result = x**4 - 16 * x**2 + 5 * x\n",
    "    return result / 2\n",
    "\n",
    "\n",
    "\n",
    "def rosenbrock(x):\n",
    "    \"\"\"\n",
    "    Compute Rosenbrock test function for a single point\n",
    "\n",
    "    Args:\n",
    "        x(array): array to compute the rosenbrock value of\n",
    "\n",
    "    Returs:\n",
    "        the evaluated value of rosenbrock function of x\n",
    "    \"\"\"\n",
    "    #print(x)\n",
    "    #result = np.sum(100.0 * (x[1:] - x[:-1]**2.0) ** 2.0 + (1 - x[:-1])**2.0, axis=0)\n",
    "    result = 100*(x[1]-x[0]**2)**2 + (x[0]-1)**2\n",
    "    return result\n",
    "\n",
    "\n",
    "def quadratic(x):\n",
    "    \"\"\"\n",
    "    Compute quadratic test function for a single point\n",
    "\n",
    "    Args:\n",
    "        x(array): array to compute the rosenbrock value of\n",
    "\n",
    "    Returs:\n",
    "        the evaluated value of quadratic function of x\n",
    "    \"\"\"\n",
    "    result = np.sum(0.3*x**2 -5, axis=0)\n",
    "\n",
    "    return result\n",
    "\n",
    "def camelback(x):\n",
    "    #print(x)\n",
    "    return ((4-2.1*x[0]**2 + (x[0]**4)/3)*x[0]**2 + x[0]*x[1] + (-4+4*(x[1]**2))*x[1]**2)\n",
    "\n",
    "def griewank(x):\n",
    "    return (x[0]**2)/4000+(x[1]**2)/4000 - np.cos(x[0])-np.cos(x[1]/2)+1\n",
    "\n",
    "def eason(x):\n",
    "    return -np.cos(x[0])*np.cos(x[1])*np.exp(-(x[0]-np.pi)**2-(x[1]-np.pi)**2)\n",
    "\n",
    "def egg_holder(x):\n",
    "    return -(x[1]+47)*np.sin(np.sqrt(abs(x[1]**2 + x[0]/2 + 47))) - x[0]*np.sin(np.sqrt(abs(x[0]-(x[1]+47))))\n",
    "    \n",
    "def array_map(f, x):\n",
    "    return np.array(list(map(f, x)))\n",
    "\n",
    "def quadratic_2d(x):\n",
    "    A = np.matrix([[1, 0],[0, 2]])\n",
    "    b = np.matrix([[0],[0]])\n",
    "    c = 0\n",
    "    return float(0.5 * x.T * A * x - b.T * x + c)"
   ]
  },
  {
   "cell_type": "code",
   "execution_count": 153,
   "metadata": {},
   "outputs": [],
   "source": [
    "def bowl(f):\n",
    "    fig = plt.figure(figsize=(10,8))\n",
    "    qf = fig.gca(projection='3d')\n",
    "    data_size =5\n",
    "    x1 = list(np.arange(-data_size,data_size+1, 1))\n",
    "    x2 = list(np.arange(-data_size, data_size+1, 1))\n",
    "    size = len(x1)\n",
    "    x1, x2 = np.meshgrid(x1, x2)\n",
    "    zs = np.zeros((size, size))\n",
    "    collector = []\n",
    "    value = []\n",
    "    for i in range(size):\n",
    "        for j in range(size):\n",
    "            x = np.matrix([[x1[i,j]], [x2[i,j]]])\n",
    "            collector.append([x1[i,j], x2[i,j]])\n",
    "            zs[i,j] = f(x)\n",
    "            value .append(zs[i,j])\n",
    "    qf.plot_surface(x1, x2, zs, rstride=1, cstride=1, linewidth=0)\n",
    "    fig.show()\n",
    "    return x1, x2, zs, collector, value"
   ]
  },
  {
   "cell_type": "code",
   "execution_count": 154,
   "metadata": {},
   "outputs": [
    {
     "name": "stderr",
     "output_type": "stream",
     "text": [
      "/home_nfs/djanden/ioi/exp/iopa/libiopa/experiment_design/work/lib/python3.6/site-packages/matplotlib/figure.py:459: UserWarning: matplotlib is currently using a non-GUI backend, so cannot show the figure\n",
      "  \"matplotlib is currently using a non-GUI backend, \"\n"
     ]
    },
    {
     "data": {
      "image/png": "[encoded data removed]",
      "text/plain": [
       "<Figure size 720x576 with 1 Axes>"
      ]
     },
     "metadata": {},
     "output_type": "display_data"
    }
   ],
   "source": [
    "x1, x2, data, collector, value = bowl(quadratic_2d)"
   ]
  },
  {
   "cell_type": "code",
   "execution_count": 155,
   "metadata": {},
   "outputs": [
    {
     "name": "stderr",
     "output_type": "stream",
     "text": [
      "/home_nfs/djanden/ioi/exp/iopa/libiopa/experiment_design/work/lib/python3.6/site-packages/matplotlib/figure.py:459: UserWarning: matplotlib is currently using a non-GUI backend, so cannot show the figure\n",
      "  \"matplotlib is currently using a non-GUI backend, \"\n"
     ]
    },
    {
     "data": {
      "image/png": "[encoded data removed]",
      "text/plain": [
       "<Figure size 432x432 with 2 Axes>"
      ]
     },
     "metadata": {},
     "output_type": "display_data"
    }
   ],
   "source": [
    "from matplotlib import cm\n",
    "\n",
    "def contoursteps(x1, x2, zs, steps=None):\n",
    "    fig = plt.figure(figsize=(6,6))\n",
    "    levels = np.arange(-2.0, 1.601, 0.4)\n",
    "    norm = cm.colors.Normalize(vmax=abs(zs).max(), vmin=-abs(zs).max())\n",
    "    cmap = cm.PRGn\n",
    "    cmap=cm.get_cmap(cmap, len(levels) - 1)\n",
    "    cp = plt.contourf(x1, x2, zs, norm = norm, cmap=cmap.reversed())\n",
    "    plt.plot(0, 0, 'X', color='green')\n",
    "    fig.colorbar(cp)\n",
    "    #plt.clabel(cp, inline=1, fontsize=10)\n",
    "    if steps is not None:\n",
    "        step =steps\n",
    "        steps = np.matrix(steps)\n",
    "        plt.plot(steps[:,0], steps[:,1], '-o', color='red')\n",
    "#     for i, txt in enumerate(len(step)):\n",
    "#         fig.annotate(value, (z[i], y[i]))\n",
    "    fig.show()\n",
    "    \n",
    "steps = None#[(-40,-40),(-35,-25), (-30,-20),(-10,-5),(0,3)]\n",
    "contoursteps(x1, x2, data, steps)"
   ]
  },
  {
   "cell_type": "code",
   "execution_count": 156,
   "metadata": {},
   "outputs": [],
   "source": [
    "data_df = pd.DataFrame({\"collector\":collector,\"duration\":value})\n"
   ]
  },
  {
   "cell_type": "code",
   "execution_count": 157,
   "metadata": {},
   "outputs": [
    {
     "data": {
      "text/html": [
       "<div>\n",
       "<style scoped>\n",
       "    .dataframe tbody tr th:only-of-type {\n",
       "        vertical-align: middle;\n",
       "    }\n",
       "\n",
       "    .dataframe tbody tr th {\n",
       "        vertical-align: top;\n",
       "    }\n",
       "\n",
       "    .dataframe thead th {\n",
       "        text-align: right;\n",
       "    }\n",
       "</style>\n",
       "<table border=\"1\" class=\"dataframe\">\n",
       "  <thead>\n",
       "    <tr style=\"text-align: right;\">\n",
       "      <th></th>\n",
       "      <th>collector</th>\n",
       "      <th>duration</th>\n",
       "    </tr>\n",
       "  </thead>\n",
       "  <tbody>\n",
       "    <tr>\n",
       "      <th>116</th>\n",
       "      <td>[1, 5]</td>\n",
       "      <td>25.5</td>\n",
       "    </tr>\n",
       "    <tr>\n",
       "      <th>117</th>\n",
       "      <td>[2, 5]</td>\n",
       "      <td>27.0</td>\n",
       "    </tr>\n",
       "    <tr>\n",
       "      <th>118</th>\n",
       "      <td>[3, 5]</td>\n",
       "      <td>29.5</td>\n",
       "    </tr>\n",
       "    <tr>\n",
       "      <th>119</th>\n",
       "      <td>[4, 5]</td>\n",
       "      <td>33.0</td>\n",
       "    </tr>\n",
       "    <tr>\n",
       "      <th>120</th>\n",
       "      <td>[5, 5]</td>\n",
       "      <td>37.5</td>\n",
       "    </tr>\n",
       "  </tbody>\n",
       "</table>\n",
       "</div>"
      ],
      "text/plain": [
       "    collector  duration\n",
       "116    [1, 5]      25.5\n",
       "117    [2, 5]      27.0\n",
       "118    [3, 5]      29.5\n",
       "119    [4, 5]      33.0\n",
       "120    [5, 5]      37.5"
      ]
     },
     "execution_count": 157,
     "metadata": {},
     "output_type": "execute_result"
    }
   ],
   "source": [
    "data_df.tail()"
   ]
  },
  {
   "cell_type": "markdown",
   "metadata": {},
   "source": [
    "### Utilities"
   ]
  },
  {
   "cell_type": "code",
   "execution_count": 158,
   "metadata": {},
   "outputs": [],
   "source": [
    "def action_space(dim, max_skip=7):\n",
    "\n",
    "    length = 2 * max_skip * dim +1\n",
    "    res = np.zeros((length, dim))\n",
    "    j=1\n",
    "    for i in range(0, dim):\n",
    "        for skip in range(1, max_skip+1):\n",
    "            res[j][i]= -skip\n",
    "            j+=1\n",
    "            res[j][i]=skip\n",
    "            j+=1\n",
    "    if dim==1:\n",
    "        res1 = [ x[0] for x in res ]\n",
    "        res = res1[:]\n",
    "        return res\n",
    "        \n",
    "    return res.astype(int).tolist()"
   ]
  },
  {
   "cell_type": "code",
   "execution_count": 159,
   "metadata": {},
   "outputs": [
    {
     "data": {
      "text/plain": [
       "[[0, 0], [-1, 0], [1, 0], [0, -1], [0, 1]]"
      ]
     },
     "execution_count": 159,
     "metadata": {},
     "output_type": "execute_result"
    }
   ],
   "source": [
    "action_space(exp['data_dimension'], exp['max_skip'])"
   ]
  },
  {
   "cell_type": "markdown",
   "metadata": {},
   "source": [
    "# Reinforcement learning notebook"
   ]
  },
  {
   "cell_type": "code",
   "execution_count": 160,
   "metadata": {},
   "outputs": [],
   "source": [
    "# from libiopa.jobmodel import databuilder\n",
    "# from libiopa.tools import dbconnector\n",
    "# import pandas as pd\n",
    "\n",
    "# collections = dbconnector.connect('lima16',27017,'cmdb_database','JobItem','FileIOSummary')\n",
    "# dict_db = dbconnector.load_collections(collections)"
   ]
  },
  {
   "cell_type": "code",
   "execution_count": 161,
   "metadata": {},
   "outputs": [],
   "source": [
    "# from sklearn.gaussian_process import GaussianProcessRegressor\n",
    "# from sklearn.gaussian_process.kernels import RBF, WhiteKernel\n",
    "# from sklearn.model_selection import train_test_split\n",
    "# from sklearn.preprocessing import normalize\n",
    "# from sklearn.preprocessing import MinMaxScaler"
   ]
  },
  {
   "cell_type": "code",
   "execution_count": 162,
   "metadata": {},
   "outputs": [],
   "source": [
    "class Job:\n",
    "    def __init__(self, data):\n",
    "        self.runs = data\n",
    "        self.preparationRuns()\n",
    "        \n",
    "    def preparationRuns(self):\n",
    "        \n",
    "        min_dur = min(self.runs['duration'])\n",
    "        max_dur = max(self.runs['duration'])\n",
    "        self.runs['durationNorm'] = (self.runs['duration']-min_dur)/(max_dur-min_dur)\n",
    "\n",
    "\n",
    "    def getStateAndRewardById(self, run_id):\n",
    "\n",
    "        state = self.runs.T[run_id]\n",
    "        \n",
    "        \n",
    "        return (state['collector'], 1/(state['durationNorm']+0.02))\n",
    "\n",
    "job1 = Job(data_df)"
   ]
  },
  {
   "cell_type": "markdown",
   "metadata": {},
   "source": [
    "### Exponential Function"
   ]
  },
  {
   "cell_type": "code",
   "execution_count": 163,
   "metadata": {},
   "outputs": [],
   "source": [
    "import math\n",
    "class LinearDecaySchedule(object):\n",
    "    def __init__(self, initial_value, final_value, max_steps):\n",
    "        assert initial_value > final_value, \"initial_value should be > final_value\"\n",
    "        self.initial_value = initial_value\n",
    "        self.final_value = final_value\n",
    "        self.decay_factor = (initial_value - final_value) / max_steps\n",
    "\n",
    "    def __call__(self, step_num):\n",
    "        current_value = self.final_value + math.exp(-exp['lambda'] * step_num)\n",
    "        if current_value < self.final_value:\n",
    "            current_value = self.final_value\n",
    "        return current_value"
   ]
  },
  {
   "cell_type": "code",
   "execution_count": 164,
   "metadata": {},
   "outputs": [
    {
     "name": "stdout",
     "output_type": "stream",
     "text": [
      "1000\n"
     ]
    },
    {
     "data": {
      "image/png": "[encoded data removed]",
      "text/plain": [
       "<Figure size 432x288 with 1 Axes>"
      ]
     },
     "metadata": {},
     "output_type": "display_data"
    }
   ],
   "source": [
    "epsilon_initial = 1.0\n",
    "epsilon_final = 0.\n",
    "MAX_NUM_EPISODES = exp['epi']\n",
    "print(MAX_NUM_EPISODES)\n",
    "MAX_STEPS_PER_EPISODE = 50\n",
    "linear_sched = LinearDecaySchedule(initial_value = epsilon_initial,\n",
    "                                final_value = epsilon_final,\n",
    "                                max_steps = MAX_NUM_EPISODES )\n",
    "epsilon = [linear_sched(step) for step in range(MAX_NUM_EPISODES )]\n",
    "plt.plot(epsilon)\n",
    "plt.show()"
   ]
  },
  {
   "cell_type": "code",
   "execution_count": 165,
   "metadata": {},
   "outputs": [
    {
     "data": {
      "text/plain": [
       "0.0024787521766663585"
      ]
     },
     "execution_count": 165,
     "metadata": {},
     "output_type": "execute_result"
    }
   ],
   "source": [
    "linear_sched(600)"
   ]
  },
  {
   "cell_type": "code",
   "execution_count": 166,
   "metadata": {},
   "outputs": [
    {
     "data": {
      "text/plain": [
       "0.049787068367863944"
      ]
     },
     "execution_count": 166,
     "metadata": {},
     "output_type": "execute_result"
    }
   ],
   "source": [
    "linear_sched(300)"
   ]
  },
  {
   "cell_type": "markdown",
   "metadata": {},
   "source": [
    "### Environment"
   ]
  },
  {
   "cell_type": "code",
   "execution_count": 167,
   "metadata": {},
   "outputs": [],
   "source": [
    "# TOOLS\n",
    "\n",
    "def isin2D(a, b):\n",
    "    \"\"\"\n",
    "        Check the existance of elements of a in b\n",
    "        return an array : a boolean for each element of a\n",
    "    \"\"\"\n",
    "    boolArray = []\n",
    "    for i in a:\n",
    "        present = False\n",
    "        j = 0\n",
    "        while present == False and j < len(b):\n",
    "\n",
    "            if np.array_equal(i, b[j]):\n",
    "                present = True\n",
    "            j += 1\n",
    "        boolArray.append(present)\n",
    "    return boolArray"
   ]
  },
  {
   "cell_type": "code",
   "execution_count": 168,
   "metadata": {},
   "outputs": [],
   "source": [
    "from collections import deque\n",
    "from collections import defaultdict\n",
    "\n",
    "class Environment:\n",
    "    def __init__(self, Job):\n",
    "        self.job = Job\n",
    "\n",
    "        self.state = None\n",
    "        self.reward = None\n",
    "        self.done = False\n",
    "        self.actions = action_space(exp['data_dimension'], exp['max_skip'])\n",
    "        #print(self.actions)\n",
    "        self.def_actions()\n",
    "        self.d = deque([], maxlen=exp['queue_length'])\n",
    "        self.reset_env()\n",
    "        self.valid_actions =defaultdict(list)\n",
    "        self.actions_possible()\n",
    "        \n",
    "\n",
    "    def def_actions(self):\n",
    "        \"\"\"\n",
    "            Define all combinations possibles with 3 numbers in {-2,0,2}\n",
    "            Creates the list in self.actions\n",
    "        \"\"\"\n",
    "#         self.actions=[\n",
    "#             [0,0],\n",
    "#             [-1,0],\n",
    "#             [1,0],\n",
    "#             [0,1],\n",
    "#             [0,-1]\n",
    "#         ]\n",
    "        \n",
    "        return self.actions\n",
    "\n",
    "    def check_if_action_possible(self, a):\n",
    "        \"\"\"\n",
    "            For each action, check if it is possible to apply to the current state :\n",
    "            apply the action on the currect state and check if the new state is defined\n",
    "            in the run dataFrame !!!!!! WILL BE CHANGED !!!\n",
    "        \"\"\"\n",
    "#         return np.arange(len(self.actions))\n",
    "        result_actions = [np.add(self.state, a) ]\n",
    "        possible = isin2D(result_actions, np.array(self.job.runs['collector']))\n",
    "        #print(possible)\n",
    "        return possible[0]\n",
    "    \n",
    "    def actions_possible(self):\n",
    "        # get all states\n",
    "        states = self.list_states()\n",
    "        for state in states:\n",
    "            # set state as the current state\n",
    "            self.set_state(state)\n",
    "            # save all actions possible\n",
    "            self.valid_actions[str(state)] = self.check_actions_possible1()\n",
    "\n",
    "        \n",
    "    def get_reward(self, state):\n",
    "        reward = -1000\n",
    "        for r in self.job.runs.T:\n",
    "            if np.array_equal(self.job.runs['collector'][r], state):\n",
    "                state, reward = self.job.getStateAndRewardById(r)\n",
    "        return reward\n",
    "    \n",
    "    def check_actions_possible1(self):\n",
    "        \"\"\"\n",
    "            For each action, check if it is possible to apply to the current state :\n",
    "            apply the action on the currect state and check if the new state is defined\n",
    "            in the run dataFrame !!!!!! WILL BE CHANGED !!!\n",
    "        \"\"\"\n",
    "        result_actions = [np.add(self.state, a) for a in self.actions]\n",
    "        possible = isin2D(result_actions, np.array(\n",
    "            self.job.runs['collector']))\n",
    "\n",
    "        return np.where(np.array(possible) == True)[0]\n",
    "    \n",
    "    def check_actions_possible(self):\n",
    "        return self.valid_actions[str(self.state)]\n",
    "\n",
    "    def do_action(self, action_id, esp=1, verbose = False, train=True):\n",
    "        \"\"\"\n",
    "            Apply the action defined by action_id.\n",
    "            Changes the current_state\n",
    "            Returns (new_state,reward of the action, Done boolean, debug info)\n",
    "        \"\"\"\n",
    "        if not action_id in self.check_actions_possible():\n",
    "            #print('Something terribly wrong , State {} , Action_id {} '.format(self.state, action_id))\n",
    "            return (None, -1000, self.decide_done(action_id), {}, action_id)\n",
    "\n",
    "        params_actual = self.state\n",
    "        action = self.actions[action_id]\n",
    "        new_action = action\n",
    "\n",
    "        new_params = np.add(params_actual, (np.array(new_action)))\n",
    "        for r in self.job.runs.T:\n",
    "            if np.array_equal(self.job.runs['collector'][r], new_params):\n",
    "                self.state, self.reward = self.job.getStateAndRewardById(r)\n",
    "                if verbose:\n",
    "                    print(\"New state : {0} {1} duration {2}\".format(r,self.state,self.job.runs['duration'][r]))\n",
    "                return (self.state, self.reward, self.decide_done(action_id), {}, action_id)\n",
    "\n",
    "        raise Exception('Pas normal pour le moment !!!')\n",
    "        return None\n",
    "    \n",
    "    def reset_env(self):\n",
    "        \"\"\" Initialize the environment to a random job \"\"\"\n",
    "        run_id = np.random.choice(self.job.runs.T.keys())\n",
    "        self.state, self.reward = self.job.getStateAndRewardById(run_id)\n",
    "        \n",
    "        self.previous_action = None\n",
    "        self.nb_actions = 0\n",
    "        \n",
    "        return self.state\n",
    "    \n",
    "    def set_state(self,state):\n",
    "        self.reset_env()\n",
    "        self.state = state\n",
    "        return state\n",
    "    \n",
    "    def decide_done(self,a):\n",
    "        \"\"\"\n",
    "            Decide when the environment is done:\n",
    "            - no convergence : more than 50 actions since reset\n",
    "            - stay on the same state more than twice            \n",
    "        \"\"\"\n",
    "        \n",
    "        self.nb_actions+=1\n",
    "        action = self.actions[a]\n",
    "        if exp['mode']==EPISODE:\n",
    "            done = self.nb_actions > 50\n",
    "        else:\n",
    "            done = self.nb_actions > int(exp['num_step'])\n",
    "        return done\n",
    "    \n",
    "    def list_states(self):\n",
    "        params = np.array(self.job.runs['collector'])\n",
    "        return params\n",
    "        \n",
    "\n",
    "env = Environment(job1)"
   ]
  },
  {
   "cell_type": "code",
   "execution_count": 169,
   "metadata": {},
   "outputs": [
    {
     "name": "stdout",
     "output_type": "stream",
     "text": [
      "[-1, -5]\n"
     ]
    },
    {
     "data": {
      "text/plain": [
       "array([0, 1, 2, 4])"
      ]
     },
     "execution_count": 169,
     "metadata": {},
     "output_type": "execute_result"
    }
   ],
   "source": [
    "print(env.reset_env())\n",
    "\n",
    "env.check_actions_possible()"
   ]
  },
  {
   "cell_type": "code",
   "execution_count": 170,
   "metadata": {},
   "outputs": [
    {
     "data": {
      "text/plain": [
       "[[0, 0], [-1, 0], [1, 0], [0, -1], [0, 1]]"
      ]
     },
     "execution_count": 170,
     "metadata": {},
     "output_type": "execute_result"
    }
   ],
   "source": [
    "env.actions"
   ]
  },
  {
   "cell_type": "code",
   "execution_count": 171,
   "metadata": {},
   "outputs": [],
   "source": [
    "import keras\n",
    "from keras.models import Model\n",
    "from keras.preprocessing import sequence\n",
    "from keras.models import Sequential\n",
    "from keras.layers import Dense, Masking, CuDNNLSTM, Dropout, Activation, Input, Concatenate"
   ]
  },
  {
   "cell_type": "code",
   "execution_count": 172,
   "metadata": {},
   "outputs": [],
   "source": [
    "from keras import backend as K\n",
    "import tensorflow as tf\n",
    "\n",
    "# # allocate only a part of the GPU\n",
    "# config = tf.ConfigProto()\n",
    "# config.gpu_options.per_process_gpu_memory_fraction = 0.05\n",
    "# config.log_device_placement = True\n",
    "# config.allow_soft_placement = True\n",
    "# sess = tf.Session(config=config)\n",
    "# K.set_session(sess)"
   ]
  },
  {
   "cell_type": "code",
   "execution_count": 173,
   "metadata": {},
   "outputs": [],
   "source": [
    "class Memory:\n",
    "    \"\"\"\n",
    "        Memory class used by the deep agent during learning.\n",
    "        The memory is a queue of fixed length to save a the transitions done by the agent :\n",
    "        (cuurent_state, action taken, obtained reward, next state, environment done)\n",
    "        It allows to :\n",
    "            - add a new transition\n",
    "            - get a set of random transitions\n",
    "            - store the actions taken in each state\n",
    "            - store the optimum state\n",
    "    \"\"\"\n",
    "\n",
    "    def __init__(self, capacity, nb_actions):\n",
    "        \"\"\"\n",
    "            Initializes the empty memory\n",
    "\n",
    "            Args :\n",
    "                capacity: Max number of transitions stored\n",
    "                nb_actions: number of possible actions in each state\n",
    "        \"\"\"\n",
    "        self.capacity = capacity\n",
    "        self.nb_actions = nb_actions\n",
    "        self.memory = list()\n",
    "\n",
    "        self.memory_actions = dict()  # dict of arrays indexed by the actions\n",
    "        self.memory_best = list()  # contains the list action 0 of the best states\n",
    "\n",
    "    def append(self, state, action, reward, next_state, done):\n",
    "        \"\"\"\n",
    "            Adds a new transition into the memory\n",
    "\n",
    "            Args:\n",
    "                state (array)\n",
    "                action (integer 0<=action<nb_actions)\n",
    "                reward (float)\n",
    "                next_state (array)\n",
    "                done (boolean)\n",
    "        \"\"\"\n",
    "        # remove the first element of the memory if full\n",
    "        if len(self.memory) > self.capacity:\n",
    "            self.pop()\n",
    "\n",
    "        self.memory.append((state, action, reward, next_state, done))\n",
    "\n",
    "        # append in memory_actions dict\n",
    "        state = np.array(state)\n",
    "        # to index the dict (tobytes from the numpy lib)\n",
    "        key_dict = state.tobytes() # an array is unhashable, a better solution need to be found\n",
    "        if key_dict not in self.memory_actions.keys():\n",
    "            # for each state : array counting the number of times an action was taken\n",
    "            self.memory_actions[key_dict] = np.zeros(self.nb_actions)\n",
    "        self.memory_actions[key_dict][action] += 1\n",
    "\n",
    "        # new best list: if best empty or if better than known best\n",
    "        nb_mem_best = len(self.memory_best)\n",
    "        if nb_mem_best == 0 or self.memory_best[0][2] < reward:\n",
    "            self.memory_best = list()\n",
    "            # artifically creates a new transition to stay on the optimum\n",
    "            self.memory_best.append((next_state, 0, reward, next_state, False))\n",
    "        # if equal to best reward : append to the list\n",
    "        elif nb_mem_best > 0 and self.memory_best[0][2] == reward:\n",
    "            self.memory_best.append((next_state, 0, reward, next_state, False))\n",
    "\n",
    "    def pop(self):\n",
    "        \"\"\"\n",
    "            Removes the first transition in the memory\n",
    "        \"\"\"\n",
    "        old_elem = self.memory[0]\n",
    "        state_key = old_elem[0].tobytes()\n",
    "        action = old_elem[1]\n",
    "        self.memory.pop(0)\n",
    "        # remove the action from the dict of actions taken\n",
    "        self.memory_actions[state_key][action] -= 1\n",
    "\n",
    "    def sample(self, n_total, n_best):\n",
    "        \"\"\"\n",
    "            Samples randomly elements from the memory (both the transition and the best memory)\n",
    "\n",
    "            Args :\n",
    "                n_total : number of sample returned\n",
    "                n_best : Among the sample returned, number of sample taken from the best memory\n",
    "\n",
    "            Returns:\n",
    "                array of transitions\n",
    "        \"\"\"\n",
    "        # select n_total-n_best elements from memory\n",
    "        idxs = np.random.choice(np.arange(len(self.memory)), size=n_total - n_best)\n",
    "        mem_samples = np.array(self.memory)[idxs]\n",
    "\n",
    "        # select n_best elements from best list\n",
    "        idx_best = np.random.choice(np.arange(len(self.memory_best)), size=n_best)\n",
    "        mem_best = np.array(self.memory_best)[idx_best]\n",
    "\n",
    "        # merge the two list\n",
    "        full = np.append(mem_samples, mem_best, axis=0)\n",
    "        return full\n",
    "\n",
    "    def list_actions_for_state(self, state):\n",
    "        \"\"\"\n",
    "            Returns, for a given state, the list of action that were already taken.\n",
    "\n",
    "            Args :\n",
    "                state : state in question\n",
    "\n",
    "            Returns :\n",
    "                Array of actions index\n",
    "        \"\"\"\n",
    "        state_key = np.array(state).tobytes()\n",
    "        actions = []\n",
    "        if state_key in self.memory_actions.keys():\n",
    "            actions = np.where(self.memory_actions[state_key] > 0)[0]\n",
    "\n",
    "        return np.array(actions)\n",
    "\n",
    "       "
   ]
  },
  {
   "cell_type": "markdown",
   "metadata": {},
   "source": [
    "# Actor Critic"
   ]
  },
  {
   "cell_type": "code",
   "execution_count": 174,
   "metadata": {},
   "outputs": [],
   "source": [
    "import keras.backend as K\n",
    "\n",
    "from keras.models import Model, load_model\n",
    "from keras.layers import Input, Dense, Flatten\n",
    "from keras.optimizers import Adam, RMSprop\n",
    "from keras.utils import to_categorical\n",
    "import tensorflow as tf"
   ]
  },
  {
   "cell_type": "markdown",
   "metadata": {},
   "source": [
    "## Utils"
   ]
  },
  {
   "cell_type": "code",
   "execution_count": 175,
   "metadata": {},
   "outputs": [],
   "source": [
    "def gather_stats(agent, env):\n",
    "  \"\"\"Compute average rewards over 10 episodes\"\"\"\n",
    "  score = []\n",
    "  for k in range(10):\n",
    "      old_state = np.array(env.reset_env())\n",
    "      cumul_r, done = 0, False\n",
    "      while not done:\n",
    "          a = agent.policy_action(old_state)\n",
    "          new_state, r, done, _,_ = env.do_action(a)\n",
    "          if np.array(new_state).any()!= None:\n",
    "              old_state = np.array(new_state)\n",
    "          cumul_r += r\n",
    "      score.append(cumul_r)\n",
    "  return np.mean(np.array(score)), np.std(np.array(score))\n",
    "\n",
    "\n",
    "\n",
    "def tfSummary(tag, val):\n",
    "    \"\"\" Scalar Value Tensorflow Summary\n",
    "    \"\"\"\n",
    "    return tf.Summary(value=[tf.Summary.Value(tag=tag, simple_value=val)])"
   ]
  },
  {
   "cell_type": "markdown",
   "metadata": {},
   "source": [
    "### Agent"
   ]
  },
  {
   "cell_type": "code",
   "execution_count": 176,
   "metadata": {},
   "outputs": [],
   "source": [
    "class Agent:\n",
    "    \"\"\" Agent Generic Class\n",
    "    \"\"\"\n",
    "\n",
    "    def __init__(self, inp_dim, out_dim, lr):\n",
    "        self.inp_dim = inp_dim\n",
    "        self.out_dim = out_dim\n",
    "        self.rms_optimizer =  RMSprop(lr=lr, epsilon=0.1, rho=0.99)\n",
    "\n",
    "    def fit(self, inp, targ):\n",
    "        \"\"\" Perform one epoch of training\n",
    "        \"\"\"\n",
    "        self.model.fit(self.reshape(inp), targ, epochs=1, verbose=0)\n",
    "\n",
    "    def predict(self, inp):\n",
    "        \"\"\" Critic Value Prediction\n",
    "        \"\"\"\n",
    "        return self.model.predict(self.reshape(inp))\n",
    "        #return self.model.predict(inp)\n",
    "\n",
    "    def reshape(self, x):\n",
    "        if len(x.shape) < 2: return np.expand_dims(x, axis=0)\n",
    "        else: return x"
   ]
  },
  {
   "cell_type": "markdown",
   "metadata": {},
   "source": [
    "### Actor"
   ]
  },
  {
   "cell_type": "code",
   "execution_count": 177,
   "metadata": {},
   "outputs": [],
   "source": [
    "class Actor(Agent):\n",
    "    \"\"\" Actor for the A2C Algorithm\n",
    "    \"\"\"\n",
    "\n",
    "    def __init__(self, inp_dim, out_dim, network, lr):\n",
    "        Agent.__init__(self, inp_dim, out_dim, lr)\n",
    "        self.model = self.addHead(network)\n",
    "        self.action_pl = K.placeholder(shape=(None, self.out_dim))\n",
    "        self.advantages_pl = K.placeholder(shape=(None,))\n",
    "    def addHead(self, network):\n",
    "        \"\"\" Assemble Actor network to predict probability of each action\n",
    "        \"\"\"\n",
    "        x = Dense(128, activation='relu')(network.output)\n",
    "        out = Dense(self.out_dim, activation='softmax')(x)\n",
    "        return Model(network.input, out)\n",
    "\n",
    "    def optimizer(self):\n",
    "        \"\"\" Actor Optimization: Advantages + Entropy term to encourage exploration\n",
    "        (Cf. https://arxiv.org/abs/1602.01783)\n",
    "        \"\"\"\n",
    "        weighted_actions = K.sum(self.action_pl * self.model.output, axis=1)\n",
    "        eligibility = K.log(weighted_actions + 1e-10) * K.stop_gradient(self.advantages_pl)\n",
    "        entropy = K.sum(self.model.output * K.log(self.model.output + 1e-10), axis=1)\n",
    "        loss = 0.001 * entropy - K.sum(eligibility)\n",
    "\n",
    "        updates = self.rms_optimizer.get_updates(self.model.trainable_weights, [], loss)\n",
    "        return K.function([self.model.input, self.action_pl, self.advantages_pl], [], updates=updates)\n",
    "\n",
    "    def save(self, path):\n",
    "        self.model.save_weights(path + '_actor.h5')\n",
    "\n",
    "    def load_weights(self, path):\n",
    "        self.model.load_weights(path)"
   ]
  },
  {
   "cell_type": "markdown",
   "metadata": {},
   "source": [
    "### Critic"
   ]
  },
  {
   "cell_type": "code",
   "execution_count": 178,
   "metadata": {},
   "outputs": [],
   "source": [
    "class Critic(Agent):\n",
    "    \"\"\" Critic for the A2C Algorithm\n",
    "    \"\"\"\n",
    "\n",
    "    def __init__(self, inp_dim, out_dim, network, lr):\n",
    "        Agent.__init__(self, inp_dim, out_dim, lr)\n",
    "        self.model = self.addHead(network)\n",
    "        self.discounted_r = K.placeholder(shape=(None,))\n",
    "\n",
    "    def addHead(self, network):\n",
    "        \"\"\" Assemble Critic network to predict value of each state\n",
    "        \"\"\"\n",
    "        x = Dense(128, activation='relu')(network.output)\n",
    "        out = Dense(1, activation='linear')(x)\n",
    "        return Model(network.input, out)\n",
    "\n",
    "    def optimizer(self):\n",
    "        \"\"\" Critic Optimization: Mean Squared Error over discounted rewards\n",
    "        \"\"\"\n",
    "        critic_loss = K.mean(K.square(self.discounted_r - self.model.output))\n",
    "        updates = self.rms_optimizer.get_updates(self.model.trainable_weights, [], critic_loss)\n",
    "        return K.function([self.model.input, self.discounted_r], [], updates=updates)\n",
    "\n",
    "    def save(self, path):\n",
    "        self.model.save_weights(path + '_critic.h5')\n",
    "\n",
    "    def load_weights(self, path):\n",
    "        self.model.load_weights(path)"
   ]
  },
  {
   "cell_type": "markdown",
   "metadata": {},
   "source": [
    "## A2C"
   ]
  },
  {
   "cell_type": "code",
   "execution_count": 179,
   "metadata": {},
   "outputs": [],
   "source": [
    "class A2C:\n",
    "    \"\"\" Actor-Critic Main Algorithm\n",
    "    \"\"\"\n",
    "\n",
    "    def __init__(self, act_dim, env_dim, gamma = 0.99, lr = 0.0001):\n",
    "        \"\"\" Initialization\n",
    "        \"\"\"\n",
    "        # Environment and A2C parameters\n",
    "        self.act_dim = act_dim\n",
    "        self.env_dim = env_dim\n",
    "        self.gamma = gamma\n",
    "        self.lr = lr\n",
    "        # Create actor and critic networks\n",
    "        self.shared = self.buildNetwork()\n",
    "        self.actor = Actor(self.env_dim, act_dim, self.shared, lr)\n",
    "        #print(self.shared.summary())\n",
    "        self.critic = Critic(self.env_dim, act_dim, self.shared, lr)\n",
    "        # Build optimizers\n",
    "        self.a_opt = self.actor.optimizer()\n",
    "        self.c_opt = self.critic.optimizer()\n",
    "\n",
    "    def buildNetwork(self):\n",
    "        \"\"\" Assemble shared layers\n",
    "        \"\"\"\n",
    "        inp = Input((self.env_dim))\n",
    "        #x = Flatten()(inp)\n",
    "    \n",
    "        x = Dense(64, activation='relu')(inp)\n",
    "        x = Dense(128, activation='relu')(x)\n",
    "        return Model(inp, x)\n",
    "\n",
    "    def policy_action(self, s):\n",
    "        \"\"\" Use the actor to predict the next action to take, using the policy\n",
    "        \"\"\"\n",
    "        return np.random.choice(np.arange(self.act_dim), 1, p=self.actor.predict(s).ravel())[0]\n",
    "\n",
    "    def discount(self, r):\n",
    "        \"\"\" Compute the gamma-discounted rewards over an episode\n",
    "        \"\"\"\n",
    "        discounted_r, cumul_r = np.zeros_like(r), 0\n",
    "        for t in reversed(range(0, len(r))):\n",
    "            cumul_r = r[t] + cumul_r * self.gamma\n",
    "            discounted_r[t] = cumul_r\n",
    "        return discounted_r\n",
    "\n",
    "    def train_models(self, states, actions, rewards, done):\n",
    "        \"\"\" Update actor and critic networks from experience\n",
    "        \"\"\"\n",
    "        # Compute discounted rewards and Advantage (TD. Error)\n",
    "        discounted_rewards = self.discount(rewards)\n",
    "        state_values = self.critic.predict(np.array(states))\n",
    "        advantages = discounted_rewards - np.reshape(state_values, len(state_values))\n",
    "        # Networks optimization\n",
    "        self.a_opt([states, actions, advantages])\n",
    "        self.c_opt([states, discounted_rewards])\n",
    "\n",
    "    def train(self, env,nb_episodes, summary_writer):\n",
    "        \"\"\" Main A2C Training Algorithm\n",
    "        \"\"\"\n",
    "\n",
    "        results = []\n",
    "        visited_states = []\n",
    "        # Main Loop\n",
    "        for e in range(nb_episodes):\n",
    "            print('Episode {}/{}'.format(e, nb_episodes))\n",
    "            # Reset episode\n",
    "            time, cumul_reward, done = 0, 0, False\n",
    "            old_state = np.array(env.reset_env())\n",
    "            actions, states, rewards = [], [], []\n",
    "\n",
    "            while not done:\n",
    "                # Actor picks an action (following the policy)\n",
    "                a = self.policy_action(old_state)\n",
    " \n",
    "                # Retrieve new state, reward, and whether the state is terminal\n",
    "                new_state, r, done, _,_ = env.do_action(a)\n",
    "                #print(old_state, new_state, r, a)\n",
    "                # Memorize (s, a, r) for training\n",
    "                \n",
    "                \n",
    "                \n",
    "                # Update current state\n",
    "                if new_state!= None:\n",
    "                    #print('q', old_state, )\n",
    "                    actions.append(to_categorical(a, self.act_dim))\n",
    "                    states.append(old_state)\n",
    "                    rewards.append(r)\n",
    "                    old_state = np.array(new_state)\n",
    "\n",
    "                cumul_reward += r\n",
    "                time += 1\n",
    "                visited_states.append(states)\n",
    "                \n",
    "\n",
    "            mean, stdev = gather_stats(self, env)\n",
    "            results.append([e, mean, stdev])\n",
    "\n",
    "            # Export results for Tensorboard\n",
    "            score = tfSummary('score', cumul_reward)\n",
    "            summary_writer.add_summary(score, global_step=e)\n",
    "            summary_writer.flush()\n",
    "            \n",
    "#             if done:\n",
    "#                 print(states, np.array(states).shape)\n",
    "            # Train using discounted rewards ie. compute updates\n",
    "            self.train_models(states, actions, rewards, done)\n",
    "\n",
    "        return {\"states_visited\":visited_states}\n",
    "\n",
    "    def save_weights(self, path):\n",
    "        path += '_LR_{}'.format(self.lr)\n",
    "        self.actor.save(path)\n",
    "        self.critic.save(path)\n",
    "\n",
    "    def load_weights(self, path_actor, path_critic):\n",
    "        self.critic.load_weights(path_critic)\n",
    "        self.actor.load_weights(path_actor)"
   ]
  },
  {
   "cell_type": "code",
   "execution_count": 180,
   "metadata": {},
   "outputs": [],
   "source": [
    "import time\n",
    "from time import strftime"
   ]
  },
  {
   "cell_type": "code",
   "execution_count": 181,
   "metadata": {
    "scrolled": false
   },
   "outputs": [
    {
     "name": "stdout",
     "output_type": "stream",
     "text": [
      "Episode 0/100\n",
      "Episode 1/100\n",
      "Episode 2/100\n",
      "Episode 3/100\n",
      "Episode 4/100\n",
      "Episode 5/100\n",
      "Episode 6/100\n",
      "Episode 7/100\n",
      "Episode 8/100\n",
      "Episode 9/100\n",
      "Episode 10/100\n",
      "Episode 11/100\n",
      "Episode 12/100\n",
      "Episode 13/100\n",
      "Episode 14/100\n",
      "Episode 15/100\n",
      "Episode 16/100\n",
      "Episode 17/100\n",
      "Episode 18/100\n",
      "Episode 19/100\n",
      "Episode 20/100\n",
      "Episode 21/100\n",
      "Episode 22/100\n",
      "Episode 23/100\n",
      "Episode 24/100\n",
      "Episode 25/100\n",
      "Episode 26/100\n",
      "Episode 27/100\n",
      "Episode 28/100\n",
      "Episode 29/100\n",
      "Episode 30/100\n",
      "Episode 31/100\n",
      "Episode 32/100\n",
      "Episode 33/100\n",
      "Episode 34/100\n",
      "Episode 35/100\n",
      "Episode 36/100\n",
      "Episode 37/100\n",
      "Episode 38/100\n",
      "Episode 39/100\n",
      "Episode 40/100\n",
      "Episode 41/100\n",
      "Episode 42/100\n",
      "Episode 43/100\n",
      "Episode 44/100\n",
      "Episode 45/100\n",
      "Episode 46/100\n",
      "Episode 47/100\n",
      "Episode 48/100\n",
      "Episode 49/100\n",
      "Episode 50/100\n",
      "Episode 51/100\n",
      "Episode 52/100\n",
      "Episode 53/100\n",
      "Episode 54/100\n",
      "Episode 55/100\n",
      "Episode 56/100\n",
      "Episode 57/100\n",
      "Episode 58/100\n",
      "Episode 59/100\n",
      "Episode 60/100\n",
      "Episode 61/100\n",
      "Episode 62/100\n",
      "Episode 63/100\n",
      "Episode 64/100\n",
      "Episode 65/100\n",
      "Episode 66/100\n",
      "Episode 67/100\n",
      "Episode 68/100\n",
      "Episode 69/100\n",
      "Episode 70/100\n",
      "Episode 71/100\n",
      "Episode 72/100\n",
      "Episode 73/100\n",
      "Episode 74/100\n",
      "Episode 75/100\n",
      "Episode 76/100\n",
      "Episode 77/100\n",
      "Episode 78/100\n",
      "Episode 79/100\n",
      "Episode 80/100\n",
      "Episode 81/100\n",
      "Episode 82/100\n",
      "Episode 83/100\n",
      "Episode 84/100\n",
      "Episode 85/100\n",
      "Episode 86/100\n",
      "Episode 87/100\n",
      "Episode 88/100\n",
      "Episode 89/100\n",
      "Episode 90/100\n",
      "Episode 91/100\n",
      "Episode 92/100\n",
      "Episode 93/100\n",
      "Episode 94/100\n",
      "Episode 95/100\n",
      "Episode 96/100\n",
      "Episode 97/100\n",
      "Episode 98/100\n",
      "Episode 99/100\n",
      "done 6.12949177424113\n"
     ]
    }
   ],
   "source": [
    "summary_writer = tf.summary.FileWriter(\"tensorboard\" )\n",
    "agent = A2C(act_dim= 2, env_dim=(2,), gamma = 0.99, lr = 0.01)\n",
    "states = env.list_states()\n",
    "t0 = time.time()\n",
    "res= agent.train(env, 100, summary_writer)\n",
    "t1 = time.time()\n",
    "print(\"done {0}\".format((t1-t0)/60))"
   ]
  },
  {
   "cell_type": "code",
   "execution_count": 184,
   "metadata": {},
   "outputs": [
    {
     "data": {
      "text/plain": [
       "[array([1, 5]),\n",
       " array([1, 5]),\n",
       " array([1, 5]),\n",
       " array([1, 5]),\n",
       " array([1, 5]),\n",
       " array([1, 5]),\n",
       " array([1, 5]),\n",
       " array([1, 5]),\n",
       " array([1, 5]),\n",
       " array([1, 5]),\n",
       " array([1, 5]),\n",
       " array([1, 5]),\n",
       " array([1, 5]),\n",
       " array([1, 5]),\n",
       " array([1, 5]),\n",
       " array([1, 5]),\n",
       " array([1, 5]),\n",
       " array([1, 5]),\n",
       " array([1, 5]),\n",
       " array([1, 5]),\n",
       " array([1, 5]),\n",
       " array([1, 5]),\n",
       " array([1, 5]),\n",
       " array([1, 5]),\n",
       " array([1, 5]),\n",
       " array([1, 5]),\n",
       " array([1, 5]),\n",
       " array([1, 5]),\n",
       " array([1, 5]),\n",
       " array([1, 5]),\n",
       " array([1, 5]),\n",
       " array([1, 5]),\n",
       " array([1, 5]),\n",
       " array([1, 5]),\n",
       " array([1, 5]),\n",
       " array([1, 5]),\n",
       " array([1, 5]),\n",
       " array([1, 5]),\n",
       " array([1, 5]),\n",
       " array([1, 5]),\n",
       " array([1, 5]),\n",
       " array([1, 5]),\n",
       " array([1, 5]),\n",
       " array([1, 5]),\n",
       " array([1, 5]),\n",
       " array([1, 5]),\n",
       " array([1, 5]),\n",
       " array([1, 5]),\n",
       " array([1, 5]),\n",
       " array([1, 5]),\n",
       " array([1, 5])]"
      ]
     },
     "execution_count": 184,
     "metadata": {},
     "output_type": "execute_result"
    }
   ],
   "source": [
    "res['states_visited'][99]"
   ]
  },
  {
   "cell_type": "code",
   "execution_count": 183,
   "metadata": {},
   "outputs": [
    {
     "ename": "KeyError",
     "evalue": "'loss'",
     "output_type": "error",
     "traceback": [
      "\u001b[0;31m---------------------------------------------------------------------------\u001b[0m",
      "\u001b[0;31mKeyError\u001b[0m                                  Traceback (most recent call last)",
      "\u001b[0;32m<ipython-input-183-51f405fb7852>\u001b[0m in \u001b[0;36m<module>\u001b[0;34m()\u001b[0m\n\u001b[1;32m      1\u001b[0m \u001b[0mfig3\u001b[0m\u001b[0;34m,\u001b[0m \u001b[0max3\u001b[0m \u001b[0;34m=\u001b[0m \u001b[0mplt\u001b[0m\u001b[0;34m.\u001b[0m\u001b[0msubplots\u001b[0m\u001b[0;34m(\u001b[0m\u001b[0mfigsize\u001b[0m\u001b[0;34m=\u001b[0m\u001b[0;34m(\u001b[0m\u001b[0;36m10\u001b[0m\u001b[0;34m,\u001b[0m \u001b[0;36m8\u001b[0m\u001b[0;34m)\u001b[0m\u001b[0;34m)\u001b[0m\u001b[0;34m\u001b[0m\u001b[0m\n\u001b[0;32m----> 2\u001b[0;31m \u001b[0mloss_log\u001b[0m \u001b[0;34m=\u001b[0m \u001b[0mres\u001b[0m\u001b[0;34m[\u001b[0m\u001b[0;34m'loss'\u001b[0m\u001b[0;34m]\u001b[0m\u001b[0;34m\u001b[0m\u001b[0m\n\u001b[0m\u001b[1;32m      3\u001b[0m \u001b[0max3\u001b[0m\u001b[0;34m.\u001b[0m\u001b[0mplot\u001b[0m\u001b[0;34m(\u001b[0m\u001b[0mrange\u001b[0m\u001b[0;34m(\u001b[0m\u001b[0mlen\u001b[0m\u001b[0;34m(\u001b[0m\u001b[0mloss_log\u001b[0m\u001b[0;34m)\u001b[0m\u001b[0;34m)\u001b[0m\u001b[0;34m,\u001b[0m \u001b[0mloss_log\u001b[0m\u001b[0;34m,\u001b[0m \u001b[0;34m'-o'\u001b[0m\u001b[0;34m)\u001b[0m\u001b[0;34m\u001b[0m\u001b[0m\n\u001b[1;32m      4\u001b[0m \u001b[0mplt\u001b[0m\u001b[0;34m.\u001b[0m\u001b[0mtitle\u001b[0m\u001b[0;34m(\u001b[0m\u001b[0;34m\"Total loss per episode\"\u001b[0m\u001b[0;34m)\u001b[0m\u001b[0;34m\u001b[0m\u001b[0m\n\u001b[1;32m      5\u001b[0m \u001b[0mplt\u001b[0m\u001b[0;34m.\u001b[0m\u001b[0mshow\u001b[0m\u001b[0;34m(\u001b[0m\u001b[0;34m)\u001b[0m\u001b[0;34m\u001b[0m\u001b[0m\n",
      "\u001b[0;31mKeyError\u001b[0m: 'loss'"
     ]
    },
    {
     "data": {
      "image/png": "[encoded data removed]",
      "text/plain": [
       "<Figure size 720x576 with 1 Axes>"
      ]
     },
     "metadata": {},
     "output_type": "display_data"
    }
   ],
   "source": [
    "fig3, ax3 = plt.subplots(figsize=(10, 8))\n",
    "loss_log = res['loss']\n",
    "ax3.plot(range(len(loss_log)), loss_log, '-o')\n",
    "plt.title(\"Total loss per episode\")\n",
    "plt.show()"
   ]
  },
  {
   "cell_type": "code",
   "execution_count": null,
   "metadata": {},
   "outputs": [],
   "source": [
    "res['states_visited'][0]"
   ]
  },
  {
   "cell_type": "code",
   "execution_count": null,
   "metadata": {},
   "outputs": [],
   "source": [
    "for x in range(exp['epi']):\n",
    "    if len(res['states_visited'][x])<50:\n",
    "        print(x+1)\n",
    "        "
   ]
  },
  {
   "cell_type": "code",
   "execution_count": null,
   "metadata": {},
   "outputs": [],
   "source": [
    "contoursteps(x1,x2, data, res['states_visited'][299])"
   ]
  },
  {
   "cell_type": "code",
   "execution_count": null,
   "metadata": {},
   "outputs": [],
   "source": [
    "from ipywidgets import *\n",
    "import numpy as np\n",
    "import matplotlib.pyplot as plt\n",
    "import seaborn as sns"
   ]
  },
  {
   "cell_type": "code",
   "execution_count": null,
   "metadata": {},
   "outputs": [],
   "source": [
    "def show(epi):\n",
    "    contoursteps(x1,x2, data, res['states_visited'][epi])"
   ]
  },
  {
   "cell_type": "code",
   "execution_count": null,
   "metadata": {},
   "outputs": [],
   "source": [
    "interact(show,epi=widgets.IntSlider(value=1, min=10, max=299, step=1))"
   ]
  },
  {
   "cell_type": "code",
   "execution_count": null,
   "metadata": {},
   "outputs": [],
   "source": [
    "import pickle\n",
    "def save_results(filename, data):\n",
    "    filename = 'trained_results/'+filename +'.pkl'\n",
    "    with open(filename, 'wb') as f:\n",
    "        pickle.dump(data, f, protocol=pickle.HIGHEST_PROTOCOL)\n",
    "        \n",
    "    return True\n",
    "def load_results(filename):\n",
    "    filename = 'trained_results/'+filename +'.pkl'\n",
    "    with open(filename, 'rb') as f:\n",
    "        b = pickle.load(f)\n",
    "    return b"
   ]
  },
  {
   "cell_type": "code",
   "execution_count": null,
   "metadata": {},
   "outputs": [],
   "source": [
    "#save_results('deep2d_5x5_32_32_new',res)"
   ]
  },
  {
   "cell_type": "code",
   "execution_count": null,
   "metadata": {},
   "outputs": [],
   "source": [
    "#res =load_results('deep2d_5x5_32_32')"
   ]
  },
  {
   "cell_type": "code",
   "execution_count": null,
   "metadata": {},
   "outputs": [],
   "source": [
    "contoursteps(x1,x2, data, res['states_visited'][299])"
   ]
  },
  {
   "cell_type": "code",
   "execution_count": null,
   "metadata": {},
   "outputs": [],
   "source": [
    "res['states_visited'][299]"
   ]
  },
  {
   "cell_type": "code",
   "execution_count": null,
   "metadata": {},
   "outputs": [],
   "source": [
    "nb = len(res['index_max_reward'])\n",
    "t = np.arange(nb)\n",
    "data1 = res['index_max_reward']\n",
    "MAX_EPSILON = 1\n",
    "MIN_EPSILON = 0.01\n",
    "LAMBDA = 0.01 # speed of decay\n",
    "data2 = [MIN_EPSILON + (MAX_EPSILON - MIN_EPSILON) * math.exp(-LAMBDA * i) for i in range(nb)]\n",
    "\n",
    "fig, ax1 = plt.subplots()\n",
    "\n",
    "color = 'tab:blue'\n",
    "ax1.set_xlabel('episode')\n",
    "ax1.set_ylabel('steps', color=color)\n",
    "ax1.scatter(t, data1, color=color, s=3)\n",
    "ax1.tick_params(axis='y', labelcolor=color)\n",
    "\n",
    "ax2 = ax1.twinx()  # instantiate a second axes that shares the same x-axis\n",
    "\n",
    "color = 'tab:red'\n",
    "ax2.set_ylabel('epsilon', color=color)  # we already handled the x-label with ax1\n",
    "ax2.plot(t, data2, color=color)\n",
    "ax2.tick_params(axis='y', labelcolor=color)\n",
    "ax1.set_title('Variation of the number of step to get the optimum with epsilon \\nstart : {0} , lambda={1}'.format(states[80],LAMBDA))\n",
    "fig.tight_layout()  # otherwise the right y-label is slightly clipped\n",
    "# plt.legend()\n",
    "plt.show()"
   ]
  },
  {
   "cell_type": "code",
   "execution_count": null,
   "metadata": {},
   "outputs": [],
   "source": [
    "nb = len(res['index_max_reward'])\n",
    "t = np.arange(nb)\n",
    "data1 = res['nb_max']\n",
    "\n",
    "MAX_EPSILON = 1\n",
    "MIN_EPSILON = 0.01\n",
    "LAMBDA = 0.01 # speed of decay\n",
    "data2 = [MIN_EPSILON + (MAX_EPSILON - MIN_EPSILON) * math.exp(-LAMBDA * step) for step in range(nb)]\n",
    "\n",
    "fig, ax1 = plt.subplots()\n",
    "\n",
    "color = 'tab:blue'\n",
    "ax1.set_xlabel('episode')\n",
    "ax1.set_ylabel('steps', color=color)\n",
    "ax1.scatter(t, data1, color=color, s=3)\n",
    "ax1.tick_params(axis='y', labelcolor=color)\n",
    "\n",
    "ax2 = ax1.twinx()  # instantiate a second axes that shares the same x-axis\n",
    "\n",
    "color = 'tab:red'\n",
    "ax2.set_ylabel('epsilon', color=color)  # we already handled the x-label with ax1\n",
    "ax2.plot(t, data2, color=color)\n",
    "ax2.tick_params(axis='y', labelcolor=color)\n",
    "ax1.set_title('Variation of the number of step the agent stayed in the optimum per episode \\nstart : {0} '.format(states[0]))\n",
    "fig.tight_layout()  # otherwise the right y-label is slightly clipped\n",
    "# plt.legend()\n",
    "plt.show()"
   ]
  },
  {
   "cell_type": "code",
   "execution_count": null,
   "metadata": {},
   "outputs": [],
   "source": [
    "nb = len(res['index_max_reward'])\n",
    "t = np.arange(nb)\n",
    "data1 = res['sum_rewards']\n",
    "\n",
    "MAX_EPSILON = 1\n",
    "MIN_EPSILON = 0.01\n",
    "LAMBDA = 0.01 # speed of decay\n",
    "data2 = [MIN_EPSILON + (MAX_EPSILON - MIN_EPSILON) * math.exp(-LAMBDA * step) for step in range(nb)]\n",
    "\n",
    "fig, ax1 = plt.subplots()\n",
    "\n",
    "color = 'tab:blue'\n",
    "ax1.set_xlabel('episode')\n",
    "ax1.set_ylabel('sum', color=color)\n",
    "ax1.scatter(t, data1, color=color, s=3)\n",
    "ax1.tick_params(axis='y', labelcolor=color)\n",
    "\n",
    "ax2 = ax1.twinx()  # instantiate a second axes that shares the same x-axis\n",
    "\n",
    "color = 'tab:red'\n",
    "ax2.set_ylabel('epsilon', color=color)  # we already handled the x-label with ax1\n",
    "ax2.plot(t, data2, color=color)\n",
    "ax2.tick_params(axis='y', labelcolor=color)\n",
    "ax1.set_title('Sum of rewards per episode \\nstart : {0} '.format(states[80]))\n",
    "fig.tight_layout()  # otherwise the right y-label is slightly clipped\n",
    "# plt.legend()\n",
    "plt.show()"
   ]
  },
  {
   "cell_type": "code",
   "execution_count": null,
   "metadata": {},
   "outputs": [],
   "source": [
    "from ipywidgets import interact, interactive, fixed, interact_manual\n",
    "import ipywidgets as widgets"
   ]
  },
  {
   "cell_type": "code",
   "execution_count": null,
   "metadata": {},
   "outputs": [],
   "source": [
    "dimFixe = 1 # dimension fixe : 1 for binsize\n",
    "fixVal = states[1][80][dimFixe]\n",
    "idx = np.where(np.array([i for i in job1.runs['accelerators']])[:,dimFixe]==fixVal)[0]\n",
    "accels = [ i for i in np.array(job1.runs['accelerators'])[idx]]\n",
    "accels = np.delete(accels, dimFixe, 1)\n",
    "\n",
    "duration = 1/(np.array(job1.runs['durationNorm'])[idx]+0.02)"
   ]
  },
  {
   "cell_type": "code",
   "execution_count": null,
   "metadata": {
    "scrolled": false
   },
   "outputs": [],
   "source": [
    "def plot(list_episodes,index_episode,all_before=False,indicator='r-'):\n",
    "    Z = duration.reshape(8, 5)\n",
    "    fig, ax = plt.subplots()\n",
    "    c = ax.pcolor(Z)\n",
    "    fig.colorbar(c, ax=ax)\n",
    "\n",
    "    if all_before == False:\n",
    "        episodes = [list_episodes[index_episode]]\n",
    "    else:\n",
    "        episodes = np.array(list_episodes)[np.arange(index_episode+1)]\n",
    "        \n",
    "    for e in episodes:\n",
    "        points = np.delete(np.array(e),dimFixe,1)\n",
    "        ax.plot(points[:,0]/2-0.5,points[:,1]/2,indicator,alpha=0.5*1/len(episodes)+0.2)\n",
    "    plt.show()\n",
    "\n",
    "interact(plot, \n",
    "         list_episodes=fixed(res['states_visited']), \n",
    "         index_episode=widgets.IntSlider(min=0,max=len(res['states_visited'])-1,step=1,value=10),\n",
    "         indicator = ['r-','r+']\n",
    "        );"
   ]
  },
  {
   "cell_type": "code",
   "execution_count": null,
   "metadata": {},
   "outputs": [],
   "source": [
    "## 50 Episodes\n",
    "## liste des états dans list_states\n",
    "s = np.array(env.set_state((states[0][80], states[1][80])))\n",
    "list_states = []\n",
    "list_states.append(s[1])\n",
    "done = False\n",
    "while not done:\n",
    "    action = a.decision(s,0)\n",
    "    next_s, r, done, _ = env.do_action(action)\n",
    "    print(r)\n",
    "    if not next_s is None:\n",
    "        list_states.append(next_s[1])\n",
    "    s = next_s\n",
    "plot([list_states],0,all_before=False)"
   ]
  }
 ],
 "metadata": {
  "kernelspec": {
   "display_name": "work",
   "language": "python",
   "name": "work"
  },
  "language_info": {
   "codemirror_mode": {
    "name": "ipython",
    "version": 3
   },
   "file_extension": ".py",
   "mimetype": "text/x-python",
   "name": "python",
   "nbconvert_exporter": "python",
   "pygments_lexer": "ipython3",
   "version": "3.6.3"
  }
 },
 "nbformat": 4,
 "nbformat_minor": 2
}
